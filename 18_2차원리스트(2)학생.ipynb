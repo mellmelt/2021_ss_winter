{
  "nbformat": 4,
  "nbformat_minor": 0,
  "metadata": {
    "colab": {
      "name": "18_2차원리스트(2)학생.ipynb",
      "provenance": [],
      "collapsed_sections": [],
      "include_colab_link": true
    },
    "kernelspec": {
      "name": "python3",
      "display_name": "Python 3"
    },
    "language_info": {
      "name": "python"
    }
  },
  "cells": [
    {
      "cell_type": "markdown",
      "metadata": {
        "id": "view-in-github",
        "colab_type": "text"
      },
      "source": [
        "<a href=\"https://colab.research.google.com/github/mellmelt/2021_ss_winter/blob/main/18_2%EC%B0%A8%EC%9B%90%EB%A6%AC%EC%8A%A4%ED%8A%B8(2)%ED%95%99%EC%83%9D.ipynb\" target=\"_parent\"><img src=\"https://colab.research.google.com/assets/colab-badge.svg\" alt=\"Open In Colab\"/></a>"
      ]
    },
    {
      "cell_type": "markdown",
      "metadata": {
        "id": "yxrDbTFQ0EN7"
      },
      "source": [
        "#  2차원리스트\n",
        "- 행 단위의 자료를 처리하는 리스트를 다루어 봤다. 평면 (행과 열) 구조의 리스트를 2차원 리스트라고 할수 있다.\n",
        "\n",
        "![image.png](data:image/png;base64,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)"
      ]
    },
    {
      "cell_type": "markdown",
      "metadata": {
        "id": "MikAnN5MY9a9"
      },
      "source": [
        "![캡처.GIF](data:image/gif;base64,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)"
      ]
    },
    {
      "cell_type": "markdown",
      "metadata": {
        "id": "LlVb77aVUzmv"
      },
      "source": [
        "# 데이터분석 해보기\n",
        "\n",
        "- 2차원 리스트를 만들기\n",
        "- 반복문으로 주어진 문제 출력\n"
      ]
    },
    {
      "cell_type": "markdown",
      "metadata": {
        "id": "OU3v462m-ehN"
      },
      "source": [
        "<img src= 'https://github.com/teacher-jiejie/allinone_AI/blob/images/17_%EC%98%AC%EB%A6%BC%ED%94%BD.png?raw=true' width=500>\n"
      ]
    },
    {
      "cell_type": "code",
      "metadata": {
        "id": "_a6VMNDXDLkf"
      },
      "source": [
        "#자료를 2차원리스트로 만들어보기\n",
        "data = [\n",
        "        [1, '미국', 46, 37, 38, 121],\n",
        "        [2, '영국', 27, 23, 17, 67],\n",
        "        [3, '중국', 26, 18, 26,70],\n",
        "        [4, '러시아', 19, 18, 19, 56],\n",
        "        [5, '독일', 17, 10, 15, 42],\n",
        "        [6, '일본', 12, 8, 21, 41],\n",
        "        [7, '프랑스', 10, 18, 14, 42],\n",
        "        [8, '대한민국', 9, 3, 9, 21]\n",
        "        ]"
      ],
      "execution_count": 1,
      "outputs": []
    },
    {
      "cell_type": "markdown",
      "source": [
        "data의 자료를 모두 출력"
      ],
      "metadata": {
        "id": "bNZv84A1xpoI"
      }
    },
    {
      "cell_type": "code",
      "metadata": {
        "id": "Rg54gFoXG1CB",
        "colab": {
          "base_uri": "https://localhost:8080/"
        },
        "outputId": "69468880-e954-4091-bd75-7ed555d71751"
      },
      "source": [
        "# 출력형식 [1,'미국',46,37,38,121]\n",
        "for 행리스트 in data:\n",
        "  print(행리스트)"
      ],
      "execution_count": null,
      "outputs": [
        {
          "output_type": "stream",
          "name": "stdout",
          "text": [
            "[1, '미국', 46, 37, 38, 121]\n",
            "[2, '영국', 27, 23, 17, 67]\n",
            "[3, '중국', 26, 18, 26, 70]\n",
            "[4, '러시아', 19, 18, 19, 56]\n",
            "[5, '독일', 17, 10, 15, 42]\n",
            "[6, '일본', 12, 8, 21, 41]\n",
            "[7, '프랑스', 10, 18, 14, 42]\n",
            "[8, '대한민국', 9, 3, 9, 21]\n"
          ]
        }
      ]
    },
    {
      "cell_type": "markdown",
      "source": [
        "2.  순위권에 든 모든 국가이름을 출력"
      ],
      "metadata": {
        "id": "6yw3yNfvxmPb"
      }
    },
    {
      "cell_type": "code",
      "metadata": {
        "id": "gtr_UXnh-oPv",
        "colab": {
          "base_uri": "https://localhost:8080/"
        },
        "outputId": "fdf17fd3-21fb-4df1-867c-f11f73358d54"
      },
      "source": [
        "# 출력형식 미국, 영국, 중국.... 대한민국\n",
        "for 행리스트 in data:\n",
        "  print(행리스트[1], end = ' ')"
      ],
      "execution_count": null,
      "outputs": [
        {
          "output_type": "stream",
          "name": "stdout",
          "text": [
            "미국 영국 중국 러시아 독일 일본 프랑스 대한민국 "
          ]
        }
      ]
    },
    {
      "cell_type": "code",
      "metadata": {
        "id": "wex8ANML-poW",
        "colab": {
          "base_uri": "https://localhost:8080/"
        },
        "outputId": "905fdb9c-8bf6-4fb0-d0fe-cff23ef53c6c"
      },
      "source": [
        "#3.  금메달보다 은메달 개수가 많은 나라를 출력하시오\n",
        "for 행리스트 in data:\n",
        "  if 행리스트[2] < 행리스트[3]:\n",
        "    print(행리스트[1])"
      ],
      "execution_count": 2,
      "outputs": [
        {
          "output_type": "stream",
          "name": "stdout",
          "text": [
            "프랑스\n"
          ]
        }
      ]
    },
    {
      "cell_type": "code",
      "metadata": {
        "id": "lRYs3o3J-q3W",
        "colab": {
          "base_uri": "https://localhost:8080/"
        },
        "outputId": "b0c1df54-a674-4a9e-971c-6ee96a3bde5e"
      },
      "source": [
        "#4.  금메달보다 은메달 개수가 많은 나라를 출력하시오\n",
        "#출력형식\n",
        "    # 대한민국 금메달-9  은메달-3  동메달-9\n",
        "for 행리스트 in data:\n",
        "  if 행리스트[2] < 행리스트[3]:\n",
        "    print(행리스트[1], '금메달-' + str(행리스트[2]), '은메달-' + str(행리스트[3]), '동메달-' + str(행리스트[4]))"
      ],
      "execution_count": 3,
      "outputs": [
        {
          "output_type": "stream",
          "name": "stdout",
          "text": [
            "프랑스 금메달-10 은메달-18 동메달-14\n"
          ]
        }
      ]
    },
    {
      "cell_type": "code",
      "metadata": {
        "id": "TRactAcT-upq",
        "colab": {
          "base_uri": "https://localhost:8080/"
        },
        "outputId": "43e5b522-e0e9-4c25-ba06-25fcf89b89da"
      },
      "source": [
        "#5.  금메달보다 동메달 개수가 많은 나라를 출력하시오\n",
        "#출력형식\n",
        "    # 대한민국 금메달-9  은메달-3  동메달-9\n",
        "for 행리스트 in data:\n",
        "  if 행리스트[2] < 행리스트[4]:\n",
        "    print(행리스트[1], '금메달-' + str(행리스트[2]), '은메달-' + str(행리스트[3]), '동메달-' + str(행리스트[4]))"
      ],
      "execution_count": 4,
      "outputs": [
        {
          "output_type": "stream",
          "name": "stdout",
          "text": [
            "일본 금메달-12 은메달-8 동메달-21\n",
            "프랑스 금메달-10 은메달-18 동메달-14\n"
          ]
        }
      ]
    },
    {
      "cell_type": "code",
      "metadata": {
        "id": "suxYONzi-xYS",
        "colab": {
          "base_uri": "https://localhost:8080/"
        },
        "outputId": "45df4808-dbdf-4093-be57-cb21f58b7b30"
      },
      "source": [
        "#5. 모든 나라의 금메달 합을 구하시오\n",
        "hap = 0\n",
        "for 행리스트 in data:\n",
        "  hap = hap + 행리스트[2]\n",
        "print(hap)"
      ],
      "execution_count": 5,
      "outputs": [
        {
          "output_type": "stream",
          "name": "stdout",
          "text": [
            "166\n"
          ]
        }
      ]
    },
    {
      "cell_type": "code",
      "metadata": {
        "id": "vVHAj96VLIK7",
        "colab": {
          "base_uri": "https://localhost:8080/"
        },
        "outputId": "5d4131df-3171-444b-f24e-a04dbba5c8ef"
      },
      "source": [
        "# 나라중 대한민국의 금,은,동메달의 갯수를 구하시오\n",
        "#출력형식\n",
        "    # 대한민국 금메달-9  은메달-3  동메달-9\n",
        "for 행리스트 in data:\n",
        "  if 행리스트[1] == '대한민국':\n",
        "    print(행리스트[1], '금메달-' + str(행리스트[2]), '은메달-' + str(행리스트[3]), '동메달-' + str(행리스트[4]))"
      ],
      "execution_count": 6,
      "outputs": [
        {
          "output_type": "stream",
          "name": "stdout",
          "text": [
            "대한민국 금메달-9 은메달-3 동메달-9\n"
          ]
        }
      ]
    },
    {
      "cell_type": "code",
      "metadata": {
        "id": "rGWjW8OjLIHc",
        "colab": {
          "base_uri": "https://localhost:8080/"
        },
        "outputId": "486d2e59-1b99-4666-a1ce-5ecf0179b895"
      },
      "source": [
        "#키보드로 입력 받은 나라의 금,은,동메달의 갯수를 구하시오\n",
        "#(만약 등록된 나라가 없으면 기록이 없음 을 출력합니다.)\n",
        "나라 = input('나라 이름을 입력:')\n",
        "찾았다 = False\n",
        "for 행리스트 in data:\n",
        "  if 행리스트[1] == 나라:\n",
        "    print(행리스트[1], '금메달-' + str(행리스트[2]), '은메달-' + str(행리스트[3]), '동메달-' + str(행리스트[4]))\n",
        "    찾았다 = True\n",
        "if 찾았다 == False:\n",
        "  print(나라, '기록이 없음')"
      ],
      "execution_count": null,
      "outputs": [
        {
          "output_type": "stream",
          "name": "stdout",
          "text": [
            "나라 이름을 입력:베트남\n",
            "베트남 기록이 없음\n"
          ]
        }
      ]
    },
    {
      "cell_type": "code",
      "metadata": {
        "id": "QWFcwQAgLH-H",
        "colab": {
          "base_uri": "https://localhost:8080/"
        },
        "outputId": "4c0c0987-4ddd-4091-a517-77460f452411"
      },
      "source": [
        "#함수정의\n",
        "    # 메달출력\n",
        "#함수호출결과\n",
        "# 대한민국 금메달-9  은메달-3  동메달-9\n",
        "\n",
        "def 메달출력(n, g, s, b):\n",
        "  print(n, '금메달-', g, '은메달-', s, '동메달-', b)\n",
        "\n",
        "for 행리스트 in data:\n",
        "  메달출력(행리스트[1], 행리스트[2], 행리스트[3], 행리스트[4])"
      ],
      "execution_count": 7,
      "outputs": [
        {
          "output_type": "stream",
          "name": "stdout",
          "text": [
            "미국 금메달- 46 은메달- 37 동메달- 38\n",
            "영국 금메달- 27 은메달- 23 동메달- 17\n",
            "중국 금메달- 26 은메달- 18 동메달- 26\n",
            "러시아 금메달- 19 은메달- 18 동메달- 19\n",
            "독일 금메달- 17 은메달- 10 동메달- 15\n",
            "일본 금메달- 12 은메달- 8 동메달- 21\n",
            "프랑스 금메달- 10 은메달- 18 동메달- 14\n",
            "대한민국 금메달- 9 은메달- 3 동메달- 9\n"
          ]
        }
      ]
    },
    {
      "cell_type": "code",
      "metadata": {
        "id": "RlpqcB3dgFZG",
        "colab": {
          "base_uri": "https://localhost:8080/"
        },
        "outputId": "86e44e23-1dd1-4364-8a2c-50ad933d9938"
      },
      "source": [
        "#함수정의()\n",
        "    # 메달상금(\n",
        "    #    금메달 = 100000, 은메달 = 70000, 동메달 = 50000)\n",
        "    \n",
        "#함수호출결과\n",
        "# 만약 금(5)음(5)동(5)개인경우 1100000을 반환한다.\n",
        "\n",
        "def 메달상금(g, s, b):\n",
        "  result = (g * 100000) + (s * 70000) + (b * 50000)\n",
        "  return result\n",
        "\n",
        "메달상금(5, 5, 5)"
      ],
      "execution_count": 8,
      "outputs": [
        {
          "output_type": "execute_result",
          "data": {
            "text/plain": [
              "1100000"
            ]
          },
          "metadata": {},
          "execution_count": 8
        }
      ]
    },
    {
      "cell_type": "code",
      "metadata": {
        "id": "7A8e65cxhFne",
        "colab": {
          "base_uri": "https://localhost:8080/"
        },
        "outputId": "45f3b421-5e60-41e4-c9e2-b4e26178fc67"
      },
      "source": [
        "#각 나라에서 지급할 메달 상금을 출력하시오\n",
        "for 행리스트 in data:\n",
        "  상금 = 메달상금(행리스트[2], 행리스트[3], 행리스트[4])\n",
        "  print(행리스트[1], '상금 :', 상금)"
      ],
      "execution_count": null,
      "outputs": [
        {
          "output_type": "stream",
          "name": "stdout",
          "text": [
            "미국 상금 : 9090000\n",
            "영국 상금 : 5160000\n",
            "중국 상금 : 5160000\n",
            "러시아 상금 : 4110000\n",
            "독일 상금 : 3150000\n",
            "일본 상금 : 2810000\n",
            "프랑스 상금 : 2960000\n",
            "대한민국 상금 : 1560000\n"
          ]
        }
      ]
    },
    {
      "cell_type": "code",
      "metadata": {
        "id": "Fe_gasQrhWYe",
        "colab": {
          "base_uri": "https://localhost:8080/"
        },
        "outputId": "509a505e-a3d7-4bbb-e10d-0d99af083f1f"
      },
      "source": [
        "#나라를 입력 받고 입력받은 나라의 메달 상금을 출력하시오.\n",
        "# 만약 없는 업는 나라이면 '기록이 없음' \n",
        "def 메달상금(g, s, b):\n",
        "  result = (g * 100000) + (s * 70000) + (b * 50000)\n",
        "  return result\n",
        "\n",
        "나라 = input('나라 이름을 입력:')\n",
        "찾았다 = False\n",
        "\n",
        "for 행리스트 in data:\n",
        "  상금 = 메달상금(행리스트[2], 행리스트[3], 행리스트[4])\n",
        "  if 행리스트[1] == 나라:\n",
        "    print(행리스트[1], '상금 :', 상금)\n",
        "    찾았다 = True\n",
        "if 찾았다 == False:\n",
        "  print(나라, '기록이 없음')"
      ],
      "execution_count": null,
      "outputs": [
        {
          "output_type": "stream",
          "name": "stdout",
          "text": [
            "나라 이름을 입력:베트남\n",
            "베트남 기록이 없음\n"
          ]
        }
      ]
    }
  ]
}