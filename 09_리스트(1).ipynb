{
  "nbformat": 4,
  "nbformat_minor": 0,
  "metadata": {
    "colab": {
      "name": "09_리스트 (1).ipynb",
      "provenance": [],
      "collapsed_sections": [],
      "include_colab_link": true
    },
    "kernelspec": {
      "name": "python3",
      "display_name": "Python 3"
    },
    "language_info": {
      "name": "python"
    }
  },
  "cells": [
    {
      "cell_type": "markdown",
      "metadata": {
        "id": "view-in-github",
        "colab_type": "text"
      },
      "source": [
        "<a href=\"https://colab.research.google.com/github/mellmelt/2021_ss_winter/blob/main/09_%EB%A6%AC%EC%8A%A4%ED%8A%B8(1).ipynb\" target=\"_parent\"><img src=\"https://colab.research.google.com/assets/colab-badge.svg\" alt=\"Open In Colab\"/></a>"
      ]
    },
    {
      "cell_type": "markdown",
      "metadata": {
        "id": "yl3Qgq2BkQjX"
      },
      "source": [
        "#  리스트\n",
        "\n",
        "- 데이터들을 잘 관리하기 위해서 묶어서 관리할 수 있는 자료형\n",
        "- 시퀀스 데이터 \n",
        "    - 순서가 있는데이터\n",
        "    - 데이터를 순서대로 접근 가능\n",
        "- 리스트변수명 = [값1, 값2, …] \n",
        "- num= [90,80,45,78,91,50]\n",
        "- 자료형 확인\n",
        "    - type(num) ==>  <class 'list'>"
      ]
    },
    {
      "cell_type": "code",
      "source": [
        "학생정보 = ['20211234', '국어국문학과', '홍길동', '01012349876', 3.5, 4.0]\n",
        "print(type(학생정보))\n",
        "print(학생정보[2], 학생정보[0], 학생정보[4])"
      ],
      "metadata": {
        "colab": {
          "base_uri": "https://localhost:8080/"
        },
        "id": "lnsp95hMr5XQ",
        "outputId": "e78357be-d7db-4bd1-f78d-640365867af5"
      },
      "execution_count": 1,
      "outputs": [
        {
          "output_type": "stream",
          "name": "stdout",
          "text": [
            "<class 'list'>\n",
            "홍길동 20211234 3.5\n"
          ]
        }
      ]
    },
    {
      "cell_type": "code",
      "source": [
        "수강성적 = [90, 100, 100, 70, 100]\n",
        "sum(수강성적)"
      ],
      "metadata": {
        "colab": {
          "base_uri": "https://localhost:8080/"
        },
        "id": "g3Pfkc67rpzi",
        "outputId": "d291262e-06fa-4a98-d08a-cdd57529f373"
      },
      "execution_count": 2,
      "outputs": [
        {
          "output_type": "execute_result",
          "data": {
            "text/plain": [
              "460"
            ]
          },
          "metadata": {},
          "execution_count": 2
        }
      ]
    },
    {
      "cell_type": "code",
      "source": [
        "작문 = 90\n",
        "영어회화 = 100\n",
        "컴퓨팅적사고 = 100\n",
        "물리학개론 = 70\n",
        "파이썬 = 100\n",
        "\n",
        "합 = 작문+영어회화+컴퓨팅적사고+물리학개론+파이썬\n",
        "print(합)"
      ],
      "metadata": {
        "colab": {
          "base_uri": "https://localhost:8080/"
        },
        "id": "34z8aJYirNl9",
        "outputId": "2d4fbfc1-c5a0-4006-aaa5-69dd6ed85c48"
      },
      "execution_count": 3,
      "outputs": [
        {
          "output_type": "stream",
          "name": "stdout",
          "text": [
            "460\n"
          ]
        }
      ]
    },
    {
      "cell_type": "markdown",
      "metadata": {
        "id": "zIxZ-3j2kQ0L"
      },
      "source": [
        "## 1 리스트 생성"
      ]
    },
    {
      "cell_type": "markdown",
      "metadata": {
        "id": "tFn351w1kQ4L"
      },
      "source": [
        "### 1-1  대괄호를 이용하는 방법\n",
        "    - 리스트변수명 = [값1, 값2, …] \n",
        "    - 숫자를 포함한 리스트\n",
        "        - num= [90,80,45,78,91,50]\n",
        "    - 문자를 포함한 리스트\n",
        "        - s =['우리','대한','민국']\n",
        "    - 다양한 자료형을 포함한 리스트\n",
        "        - m=[10,3.14,True,'Python',[1,2,3]]"
      ]
    },
    {
      "cell_type": "code",
      "source": [
        "num= [90,80,45,78,91,50]\n",
        "print(num)"
      ],
      "metadata": {
        "colab": {
          "base_uri": "https://localhost:8080/"
        },
        "id": "dNGvTnL1rhV-",
        "outputId": "cebd1e1a-0550-4889-9144-3bcf08d01f0d"
      },
      "execution_count": 6,
      "outputs": [
        {
          "output_type": "stream",
          "name": "stdout",
          "text": [
            "[90, 80, 45, 78, 91, 50]\n"
          ]
        }
      ]
    },
    {
      "cell_type": "markdown",
      "metadata": {
        "id": "CU0bKZddkQ7q"
      },
      "source": [
        "### 1-2  **list()함수** 를 이용한 방법"
      ]
    },
    {
      "cell_type": "code",
      "source": [
        "a = list() # 빈 리스트\n",
        "a_num = list(range(1,10,2)) \n",
        "print(a, a_num)"
      ],
      "metadata": {
        "colab": {
          "base_uri": "https://localhost:8080/"
        },
        "id": "2CJeSfSltu3E",
        "outputId": "d0daecd4-d144-4ca3-9c9a-da81cedc4711"
      },
      "execution_count": 8,
      "outputs": [
        {
          "output_type": "stream",
          "name": "stdout",
          "text": [
            "[] [1, 3, 5, 7, 9]\n"
          ]
        }
      ]
    },
    {
      "cell_type": "markdown",
      "metadata": {
        "id": "oen_ayackQ-u"
      },
      "source": [
        "## 2 리스트 인덱스\n",
        "- 인덱스를 이용하여 리스트의 위치에 있는 항목에 접근하는 것\n",
        "![다운로드.png](data:image/png;base64,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)"
      ]
    },
    {
      "cell_type": "code",
      "source": [
        "number = [7, 9, 0, 3, 8, 5, 1, 6, 4, 2]"
      ],
      "metadata": {
        "id": "ywe3ujD7uLdB"
      },
      "execution_count": 11,
      "outputs": []
    },
    {
      "cell_type": "markdown",
      "metadata": {
        "id": "a0uDm2D4kRBa"
      },
      "source": [
        "### 2-1 양의 **인덱스**"
      ]
    },
    {
      "cell_type": "code",
      "metadata": {
        "id": "JBid94n9kpuE",
        "colab": {
          "base_uri": "https://localhost:8080/"
        },
        "outputId": "fc883855-83c6-4381-f1b1-dce9b4487204"
      },
      "source": [
        "print(number[0]) # 0번 인덱스\n",
        "print(number[3])\n",
        "print(number[0])\n",
        "print(number[4])\n",
        "print(number[9])"
      ],
      "execution_count": 15,
      "outputs": [
        {
          "output_type": "stream",
          "name": "stdout",
          "text": [
            "7\n",
            "3\n",
            "7\n",
            "8\n",
            "2\n"
          ]
        }
      ]
    },
    {
      "cell_type": "markdown",
      "metadata": {
        "id": "6alMVKJ_kREb"
      },
      "source": [
        "### 2-2 음의 인덱스"
      ]
    },
    {
      "cell_type": "code",
      "metadata": {
        "id": "PAZDMKv1ks6c",
        "colab": {
          "base_uri": "https://localhost:8080/"
        },
        "outputId": "02caa875-5dcf-47d6-8019-4d3869d8fae4"
      },
      "source": [
        "print(number[-1]) # -1번 인덱스\n",
        "print(number[-3])\n",
        "print(number[-10])\n",
        "print(number[-6])\n",
        "print(number[-1])"
      ],
      "execution_count": 16,
      "outputs": [
        {
          "output_type": "stream",
          "name": "stdout",
          "text": [
            "2\n",
            "6\n",
            "7\n",
            "8\n",
            "2\n"
          ]
        }
      ]
    },
    {
      "cell_type": "markdown",
      "metadata": {
        "id": "N-K_kykQkRN7"
      },
      "source": [
        "##  3 리스트 연산자\n",
        "\n",
        "- in / not in 연산자\n",
        "    -리스트에서 어떤 요소가 포함이 되어 있는지 확인\n",
        "\n",
        "- '  + 연산자\n",
        "- ' * 연산자"
      ]
    },
    {
      "cell_type": "code",
      "source": [
        "a = [1, 3, 5]\n",
        "b = [3, 1, 5]\n",
        "a+b"
      ],
      "metadata": {
        "colab": {
          "base_uri": "https://localhost:8080/"
        },
        "id": "OEAPhoq1vmSU",
        "outputId": "0d841956-b74d-493f-91fd-1ea316c95432"
      },
      "execution_count": 17,
      "outputs": [
        {
          "output_type": "execute_result",
          "data": {
            "text/plain": [
              "[1, 3, 5, 3, 1, 5]"
            ]
          },
          "metadata": {},
          "execution_count": 17
        }
      ]
    },
    {
      "cell_type": "code",
      "source": [
        "a*b # 순서(sequence)를 가지는 경우 곱셈 불가능"
      ],
      "metadata": {
        "colab": {
          "base_uri": "https://localhost:8080/",
          "height": 175
        },
        "id": "AHrP3739sQ96",
        "outputId": "ea4acda8-271f-458a-96f6-ea069349915a"
      },
      "execution_count": 18,
      "outputs": [
        {
          "output_type": "error",
          "ename": "TypeError",
          "evalue": "ignored",
          "traceback": [
            "\u001b[0;31m---------------------------------------------------------------------------\u001b[0m",
            "\u001b[0;31mTypeError\u001b[0m                                 Traceback (most recent call last)",
            "\u001b[0;32m<ipython-input-18-a6cfe225f90d>\u001b[0m in \u001b[0;36m<module>\u001b[0;34m()\u001b[0m\n\u001b[0;32m----> 1\u001b[0;31m \u001b[0ma\u001b[0m\u001b[0;34m*\u001b[0m\u001b[0mb\u001b[0m \u001b[0;31m# 순서(sequence)를 가지는 경우 곱셈 불가능\u001b[0m\u001b[0;34m\u001b[0m\u001b[0;34m\u001b[0m\u001b[0m\n\u001b[0m",
            "\u001b[0;31mTypeError\u001b[0m: can't multiply sequence by non-int of type 'list'"
          ]
        }
      ]
    },
    {
      "cell_type": "code",
      "source": [
        "a+3 # list와 int를 함께 연산 불가능"
      ],
      "metadata": {
        "colab": {
          "base_uri": "https://localhost:8080/",
          "height": 175
        },
        "id": "I2uMwP9msUm4",
        "outputId": "cc8df069-4d0b-4097-90e3-e02e05fc6982"
      },
      "execution_count": 19,
      "outputs": [
        {
          "output_type": "error",
          "ename": "TypeError",
          "evalue": "ignored",
          "traceback": [
            "\u001b[0;31m---------------------------------------------------------------------------\u001b[0m",
            "\u001b[0;31mTypeError\u001b[0m                                 Traceback (most recent call last)",
            "\u001b[0;32m<ipython-input-19-0c571abb8ffd>\u001b[0m in \u001b[0;36m<module>\u001b[0;34m()\u001b[0m\n\u001b[0;32m----> 1\u001b[0;31m \u001b[0ma\u001b[0m\u001b[0;34m+\u001b[0m\u001b[0;36m3\u001b[0m \u001b[0;31m# list와 int를 함께 연산 불가능\u001b[0m\u001b[0;34m\u001b[0m\u001b[0;34m\u001b[0m\u001b[0m\n\u001b[0m",
            "\u001b[0;31mTypeError\u001b[0m: can only concatenate list (not \"int\") to list"
          ]
        }
      ]
    },
    {
      "cell_type": "code",
      "metadata": {
        "id": "CjA2A3I6k4-X",
        "colab": {
          "base_uri": "https://localhost:8080/"
        },
        "outputId": "a8fde398-ce2a-47a9-c6ca-1464a862af68"
      },
      "source": [
        "color =['red', 'blue', 'black', 'white', 'orange', 'purple']\n",
        "# 'red' 가 리스트에 있는가?\n",
        "print('red' in color) # True\n",
        "'yellow' in color # False\n",
        "# 'red' 가 리스트에 없는가?\n",
        "print('red' not in color) # False\n",
        "print('yellow' not in color) # True\n",
        "# 'pink' 가 리스트에 없는가?\n",
        "print('pink' not in color) # True"
      ],
      "execution_count": 21,
      "outputs": [
        {
          "output_type": "stream",
          "name": "stdout",
          "text": [
            "True\n",
            "False\n",
            "True\n",
            "True\n"
          ]
        }
      ]
    },
    {
      "cell_type": "markdown",
      "metadata": {
        "id": "XE92IlZAkRK8"
      },
      "source": [
        "## 4리스트 비교\n",
        "- 두 리스트는 같은 위치, 같은 데이터가 있어야 같다고 판단하게된다."
      ]
    },
    {
      "cell_type": "code",
      "metadata": {
        "id": "6ogWuaQOk1e1",
        "colab": {
          "base_uri": "https://localhost:8080/"
        },
        "outputId": "4180cdb4-f013-4b19-a333-f00d0857d727"
      },
      "source": [
        "a=[1,3,5]\n",
        "b=[3,1,5]\n",
        "c=[1,1,3,5]\n",
        "d=[1,3,5]\n",
        "\n",
        "print(a == b) # 같은 데이터가 있다고 같지 않다\n",
        "print(a == c) # 리스트의 길이가 달라서 같지 않다\n",
        "print(a == d) # 값의 종류와 리스트의 개수가 같으며 순서 또한 같다"
      ],
      "execution_count": 22,
      "outputs": [
        {
          "output_type": "stream",
          "name": "stdout",
          "text": [
            "False\n",
            "False\n",
            "True\n"
          ]
        }
      ]
    },
    {
      "cell_type": "markdown",
      "metadata": {
        "id": "mzcL_J_ckRHr"
      },
      "source": [
        "- 리스트의 개수를 세는 함수 :len()\n",
        "    - len(number)\n",
        "- 리스트의 마지막 항목을 출력\n",
        "    - nember(len(number)-1)"
      ]
    },
    {
      "cell_type": "code",
      "source": [
        "number[len(number)] # number의 길이가 9라서 (0부터 시작) Error가 뜬다. -1을 해줘야 함"
      ],
      "metadata": {
        "colab": {
          "base_uri": "https://localhost:8080/",
          "height": 175
        },
        "id": "NMfJxvhosw79",
        "outputId": "9e398564-9dbb-494c-cbc0-95ed0db1aad1"
      },
      "execution_count": 27,
      "outputs": [
        {
          "output_type": "error",
          "ename": "IndexError",
          "evalue": "ignored",
          "traceback": [
            "\u001b[0;31m---------------------------------------------------------------------------\u001b[0m",
            "\u001b[0;31mIndexError\u001b[0m                                Traceback (most recent call last)",
            "\u001b[0;32m<ipython-input-27-a314486c9dc1>\u001b[0m in \u001b[0;36m<module>\u001b[0;34m()\u001b[0m\n\u001b[0;32m----> 1\u001b[0;31m \u001b[0mnumber\u001b[0m\u001b[0;34m[\u001b[0m\u001b[0mlen\u001b[0m\u001b[0;34m(\u001b[0m\u001b[0mnumber\u001b[0m\u001b[0;34m)\u001b[0m\u001b[0;34m]\u001b[0m \u001b[0;31m# number의 길이가 9라서 (0부터 시작) Error가 뜬다. -1을 해줘야 함\u001b[0m\u001b[0;34m\u001b[0m\u001b[0;34m\u001b[0m\u001b[0m\n\u001b[0m",
            "\u001b[0;31mIndexError\u001b[0m: list index out of range"
          ]
        }
      ]
    },
    {
      "cell_type": "code",
      "source": [
        "number = [7, 9, 0, 3, 8, 5, 1, 6, 4, 2]\n",
        "print(len(number)) # 10\n",
        "# 마지막 항목값 출력\n",
        "print(number[-1], number[9], number[len(number)-1])"
      ],
      "metadata": {
        "colab": {
          "base_uri": "https://localhost:8080/"
        },
        "id": "a0CJM2dQxAOw",
        "outputId": "220deb94-f1a8-4813-b5d3-7407767de2d0"
      },
      "execution_count": 28,
      "outputs": [
        {
          "output_type": "stream",
          "name": "stdout",
          "text": [
            "10\n",
            "2 2 2\n"
          ]
        }
      ]
    }
  ]
}