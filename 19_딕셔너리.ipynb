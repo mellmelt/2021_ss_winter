{
  "nbformat": 4,
  "nbformat_minor": 0,
  "metadata": {
    "colab": {
      "name": "20_딕셔너리(학생).ipynb",
      "provenance": [],
      "collapsed_sections": [],
      "include_colab_link": true
    },
    "kernelspec": {
      "name": "python3",
      "display_name": "Python 3"
    }
  },
  "cells": [
    {
      "cell_type": "markdown",
      "metadata": {
        "id": "view-in-github",
        "colab_type": "text"
      },
      "source": [
        "<a href=\"https://colab.research.google.com/github/mellmelt/2021_ss_winter/blob/main/19_%EB%94%95%EC%85%94%EB%84%88%EB%A6%AC.ipynb\" target=\"_parent\"><img src=\"https://colab.research.google.com/assets/colab-badge.svg\" alt=\"Open In Colab\"/></a>"
      ]
    },
    {
      "cell_type": "markdown",
      "metadata": {
        "id": "qmD4mUdQVb1V"
      },
      "source": [
        "# 프로그램에 사용되는 자료\n",
        "1. 자료형 : 숫자(정수,실수), 문자열, 날짜,부울\n",
        "2. 리스트- 자료의 묶음\n",
        "    - 1차리스트 : [8,'대한민국',9,3,9,21] \n",
        "    - 2차리스트 :1차리스트들의 묶음자료\n",
        "```\n",
        "data =[\n",
        "       [1,'미국',46,37,38,121],\n",
        "       [2,'영국',27,23,17,67],\n",
        "       [3,'중국',26,18,26,70],\n",
        "       [4,'러시아',19,18,19,56]\n",
        "      ]\n",
        "```\n",
        "3. 딕셔너리 \n",
        "    - 리스트나 튜플처럼 순차적으로(sequential) 해당 요솟값을 구하지 않고 Key를 통해 Value를 얻는다.\n",
        "\n",
        "\n",
        "\n",
        "\n"
      ]
    },
    {
      "cell_type": "markdown",
      "metadata": {
        "id": "YUjUXo-VVr_i"
      },
      "source": [
        "#  1. 딕셔너리\n",
        "Key (키) - Value (값) 대응    \n",
        "\n",
        "\n",
        "<img src = 'https://github.com/teacher-jiejie/allinone_AI/blob/images/12_%EB%94%95%EC%85%94%EB%84%88%EB%A6%AC.png?raw=true' width =600>\n",
        "\n",
        "<br/>\n",
        "<br/>\n",
        "<img src='https://github.com/teacher-jiejie/allinone_AI/blob/images/72_%EB%94%95%EC%85%94%EB%84%88%EB%A6%AC%20%EB%A6%AC%EC%8A%A4%ED%8A%B8%20%EB%B9%84%EA%B5%90.png?raw=true' width =400>\n",
        "\n",
        "<br/>\n",
        "\n",
        "```\n",
        "딕셔너리이름 = {키1 : 값1, 키2 : 값2, ... 키n : 값n}\n",
        "```"
      ]
    },
    {
      "cell_type": "code",
      "metadata": {
        "id": "muilZTAqVWSX",
        "colab": {
          "base_uri": "https://localhost:8080/"
        },
        "outputId": "a474c30a-958b-4961-b0f2-2a5972df79f8"
      },
      "source": [
        "#딕셔너리 정의\n",
        "menu = {'김밥':2500, '참치김밥': 3500, '라면':3000, '치즈라면': 4000}\n",
        "type(menu)"
      ],
      "execution_count": null,
      "outputs": [
        {
          "output_type": "execute_result",
          "data": {
            "text/plain": [
              "dict"
            ]
          },
          "metadata": {},
          "execution_count": 2
        }
      ]
    },
    {
      "cell_type": "code",
      "metadata": {
        "id": "ZD5r03fYWiIn",
        "colab": {
          "base_uri": "https://localhost:8080/"
        },
        "outputId": "ac9c9f7a-2c40-47d3-ffd3-9f15ce304f3b"
      },
      "source": [
        "#김밥은 얼마?\n",
        "menu['김밥']\n",
        "# menu[2500] # 2500은 value라서 KeyError 발생"
      ],
      "execution_count": null,
      "outputs": [
        {
          "output_type": "execute_result",
          "data": {
            "text/plain": [
              "2500"
            ]
          },
          "metadata": {},
          "execution_count": 6
        }
      ]
    },
    {
      "cell_type": "code",
      "metadata": {
        "id": "dNCtUNpQWiC9",
        "colab": {
          "base_uri": "https://localhost:8080/"
        },
        "outputId": "2a8f8da7-952b-4b3b-9d23-7f23582917ae"
      },
      "source": [
        "# 수정\n",
        "# 참치김밥 값 인하 3000원\n",
        "menu['참치김밥'] = 3000\n",
        "print(menu)"
      ],
      "execution_count": null,
      "outputs": [
        {
          "output_type": "stream",
          "name": "stdout",
          "text": [
            "{'김밥': 2500, '참치김밥': 3000, '라면': 3000, '치즈라면': 4000}\n"
          ]
        }
      ]
    },
    {
      "cell_type": "code",
      "metadata": {
        "id": "2fEMex4SHszU",
        "colab": {
          "base_uri": "https://localhost:8080/"
        },
        "outputId": "655284d7-e152-4df2-e974-286a6d58d1c6"
      },
      "source": [
        "# 추가\n",
        "# 돈가스,6000원 추가\n",
        "menu['돈가스'] = 6000\n",
        "print(menu)"
      ],
      "execution_count": null,
      "outputs": [
        {
          "output_type": "stream",
          "name": "stdout",
          "text": [
            "{'김밥': 2500, '참치김밥': 3000, '라면': 3000, '치즈라면': 4000, '돈가스': 6000}\n"
          ]
        }
      ]
    },
    {
      "cell_type": "code",
      "metadata": {
        "id": "AhUJRm_C6-yH",
        "colab": {
          "base_uri": "https://localhost:8080/"
        },
        "outputId": "ee54fe3a-9fc7-418b-ae2c-47a3b6d69528"
      },
      "source": [
        "# 빈 딕셔너리에서 데이터 추가\n",
        "#1. 빈딕셔너리(pet) 선언\n",
        "pet = {}\n",
        "#2. 강아지 'dog' 추가\n",
        "pet['강아지'] = 'dog'\n",
        "#3. 고양이 'cat' 추가\n",
        "pet['고양이'] = 'cat'\n",
        "\n",
        "print(pet)"
      ],
      "execution_count": null,
      "outputs": [
        {
          "output_type": "stream",
          "name": "stdout",
          "text": [
            "{'강아지': 'dog', '고양이': 'cat'}\n"
          ]
        }
      ]
    },
    {
      "cell_type": "code",
      "metadata": {
        "id": "B5FYjkM67MlR",
        "colab": {
          "base_uri": "https://localhost:8080/"
        },
        "outputId": "71cc465b-4472-4838-aac7-8eb09578e495"
      },
      "source": [
        "#삭제  del 딕셔너리명[키]\n",
        "#치즈라면을 삭제후 확인\n",
        "del menu['치즈라면']\n",
        "\n",
        "print(menu)"
      ],
      "execution_count": null,
      "outputs": [
        {
          "output_type": "stream",
          "name": "stdout",
          "text": [
            "{'김밥': 2500, '참치김밥': 3000, '라면': 3000, '돈가스': 6000}\n"
          ]
        }
      ]
    },
    {
      "cell_type": "markdown",
      "metadata": {
        "id": "WU3kevp9H65l"
      },
      "source": [
        "# 2. 딕셔너리의 키와 값\n",
        "\n",
        "딕셔너리의 키만 꺼내기 \n",
        "> 딕셔너리이름.keys()\n",
        "\n",
        "<br/>\n",
        "\n",
        "딕셔너리의 값(value)만 꺼내기 \n",
        "> 딕셔너리이름.values()\n",
        "\n",
        "<br/>\n",
        "\n",
        "딕셔너리의 키-값 모두 꺼내기 \n",
        ">딕셔너리이름.items()\n",
        "\n",
        "\n",
        "\n"
      ]
    },
    {
      "cell_type": "code",
      "metadata": {
        "id": "DXX_OvkAHwpZ",
        "colab": {
          "base_uri": "https://localhost:8080/"
        },
        "outputId": "620cb3d7-e083-4559-e2a4-dc4fb6a53b06"
      },
      "source": [
        "#menu 딕셔너리: 키확인\n",
        "menu.keys()"
      ],
      "execution_count": null,
      "outputs": [
        {
          "output_type": "execute_result",
          "data": {
            "text/plain": [
              "dict_keys(['김밥', '참치김밥', '라면', '돈가스'])"
            ]
          },
          "metadata": {},
          "execution_count": 15
        }
      ]
    },
    {
      "cell_type": "code",
      "metadata": {
        "id": "0DV55KHaIWgw",
        "colab": {
          "base_uri": "https://localhost:8080/"
        },
        "outputId": "120bc1ed-5eb7-4eb6-d71f-53fc31c4a73d"
      },
      "source": [
        "#menu 딕셔너리: 값확인\n",
        "menu.values()"
      ],
      "execution_count": null,
      "outputs": [
        {
          "output_type": "execute_result",
          "data": {
            "text/plain": [
              "dict_values([2500, 3000, 3000, 6000])"
            ]
          },
          "metadata": {},
          "execution_count": 16
        }
      ]
    },
    {
      "cell_type": "code",
      "metadata": {
        "id": "TLymlSQpIWe8",
        "colab": {
          "base_uri": "https://localhost:8080/"
        },
        "outputId": "8a59de6d-67aa-468f-bae0-2c9c41f165be"
      },
      "source": [
        "#menu 딕셔너리: 키,값확인\n",
        "menu.items()"
      ],
      "execution_count": null,
      "outputs": [
        {
          "output_type": "execute_result",
          "data": {
            "text/plain": [
              "dict_items([('김밥', 2500), ('참치김밥', 3000), ('라면', 3000), ('돈가스', 6000)])"
            ]
          },
          "metadata": {},
          "execution_count": 17
        }
      ]
    },
    {
      "cell_type": "code",
      "metadata": {
        "id": "hhowVdC3IWdJ",
        "colab": {
          "base_uri": "https://localhost:8080/"
        },
        "outputId": "890edda6-fe8d-4da7-f63f-b303104dca39"
      },
      "source": [
        "# 딕셔너리의 키를 리스트로 변환하기\n",
        "list(menu.keys())"
      ],
      "execution_count": null,
      "outputs": [
        {
          "output_type": "execute_result",
          "data": {
            "text/plain": [
              "['김밥', '참치김밥', '라면', '돈가스']"
            ]
          },
          "metadata": {},
          "execution_count": 18
        }
      ]
    },
    {
      "cell_type": "code",
      "metadata": {
        "id": "2gzBfJX9IWbN",
        "colab": {
          "base_uri": "https://localhost:8080/"
        },
        "outputId": "5c7ae891-3cbc-4bef-aa45-6fb9f73d4733"
      },
      "source": [
        "# 딕셔너리의 값을 리스트로 변환하기\n",
        "list(menu.values())"
      ],
      "execution_count": null,
      "outputs": [
        {
          "output_type": "execute_result",
          "data": {
            "text/plain": [
              "[2500, 3000, 3000, 6000]"
            ]
          },
          "metadata": {},
          "execution_count": 19
        }
      ]
    },
    {
      "cell_type": "markdown",
      "metadata": {
        "id": "bOJo7AydZXiN"
      },
      "source": [
        "# 3. 딕셔너리 정렬하기 \n",
        "\n",
        "> sorted( )\n",
        "\n",
        "```\n",
        "# 딕셔너리 키를 정렬\n",
        "sorted(딕셔너리.keys())\n",
        "\n",
        "# 딕셔너리 값을 정렬\n",
        "sorted(딕셔너리.values())\n",
        "\n",
        "# 딕셔너리 키-값을 정렬\n",
        "sorted(딕셔너리.items())\n",
        "```\n",
        "\n",
        "```\n",
        "mart = {'과자':1500, '아이스크림':1700, '휴지':4800, '고기':10500, '우유':2600}\n",
        "```\n",
        "\n",
        "\n"
      ]
    },
    {
      "cell_type": "markdown",
      "metadata": {
        "id": "_tatFM0dXImU"
      },
      "source": [
        "딕셔너리의 키 정렬하기"
      ]
    },
    {
      "cell_type": "code",
      "metadata": {
        "id": "bERDCkSiZXiR"
      },
      "source": [
        "mart = {'과자':1500, '아이스크림':1700, '휴지':4800, '고기':10500, '우유':2600}"
      ],
      "execution_count": null,
      "outputs": []
    },
    {
      "cell_type": "code",
      "metadata": {
        "id": "VjpertryW0hD",
        "colab": {
          "base_uri": "https://localhost:8080/"
        },
        "outputId": "c5b284e5-38f4-46b8-8280-5c9218a73fa2"
      },
      "source": [
        "# 키를 순서대로 정렬(오름차순)\n",
        "m_list = list(mart.keys())[0]\n",
        "print(m_list, m_list[0])\n",
        "\n",
        "sorted(mart.keys())"
      ],
      "execution_count": null,
      "outputs": [
        {
          "output_type": "stream",
          "name": "stdout",
          "text": [
            "과자 과\n"
          ]
        },
        {
          "output_type": "execute_result",
          "data": {
            "text/plain": [
              "['고기', '과자', '아이스크림', '우유', '휴지']"
            ]
          },
          "metadata": {},
          "execution_count": 24
        }
      ]
    },
    {
      "cell_type": "markdown",
      "metadata": {
        "id": "yFktNx-kZXiS"
      },
      "source": [
        "오름차순, 내림차순 옵션 reverse\n",
        "\n",
        "> sorted(정렬할 대상, reverse = True/False)"
      ]
    },
    {
      "cell_type": "code",
      "metadata": {
        "id": "fl_A4ZDrW_EJ",
        "colab": {
          "base_uri": "https://localhost:8080/"
        },
        "outputId": "ea1cf2c4-8528-4079-cbc7-4130c9c2ff52"
      },
      "source": [
        "# 키를 순서대로 정렬(내림차순)\n",
        "sorted(mart.keys(), reverse = True)"
      ],
      "execution_count": null,
      "outputs": [
        {
          "output_type": "execute_result",
          "data": {
            "text/plain": [
              "['휴지', '우유', '아이스크림', '과자', '고기']"
            ]
          },
          "metadata": {},
          "execution_count": 25
        }
      ]
    },
    {
      "cell_type": "markdown",
      "metadata": {
        "id": "9AO7wNC9XNN-"
      },
      "source": [
        "딕셔너리의 값 정렬"
      ]
    },
    {
      "cell_type": "code",
      "metadata": {
        "id": "qbj3FJhEZXiT",
        "colab": {
          "base_uri": "https://localhost:8080/"
        },
        "outputId": "e46bea54-5d70-4958-9dd4-74c31e086063"
      },
      "source": [
        "# 값(value)를 순서대로 정렬\n",
        "sorted(mart.values())"
      ],
      "execution_count": null,
      "outputs": [
        {
          "output_type": "execute_result",
          "data": {
            "text/plain": [
              "[1500, 1700, 2600, 4800, 10500]"
            ]
          },
          "metadata": {},
          "execution_count": 26
        }
      ]
    },
    {
      "cell_type": "code",
      "metadata": {
        "id": "y2QlgRtuXPy6",
        "colab": {
          "base_uri": "https://localhost:8080/"
        },
        "outputId": "55aba78e-2279-435e-fa7f-d03cc258aa75"
      },
      "source": [
        "# 값(value)를 순서대로 정렬(내림차순)\n",
        "sorted(mart.values(), reverse = True)"
      ],
      "execution_count": null,
      "outputs": [
        {
          "output_type": "execute_result",
          "data": {
            "text/plain": [
              "[10500, 4800, 2600, 1700, 1500]"
            ]
          },
          "metadata": {},
          "execution_count": 27
        }
      ]
    },
    {
      "cell_type": "markdown",
      "metadata": {
        "id": "yTOIFty5XeKD"
      },
      "source": [
        "> 딕셔너리 정렬 결과는 리스트이다! "
      ]
    },
    {
      "cell_type": "code",
      "metadata": {
        "id": "47mSPg_zZXiU",
        "colab": {
          "base_uri": "https://localhost:8080/"
        },
        "outputId": "9b907ed9-7eff-44d7-e7de-73831d9ea31f"
      },
      "source": [
        "# 가장 싼 상품의 가격은?\n",
        "sorted(mart.values())[0]"
      ],
      "execution_count": null,
      "outputs": [
        {
          "output_type": "execute_result",
          "data": {
            "text/plain": [
              "1500"
            ]
          },
          "metadata": {},
          "execution_count": 28
        }
      ]
    },
    {
      "cell_type": "code",
      "metadata": {
        "id": "WFH4PWWZZXiU",
        "colab": {
          "base_uri": "https://localhost:8080/"
        },
        "outputId": "8130c4f3-73e4-4a1e-c012-019d3a60b17b"
      },
      "source": [
        "# 가장 싼 상품 두 개의 가격은?\n",
        "sorted(mart.values())[:2]"
      ],
      "execution_count": null,
      "outputs": [
        {
          "output_type": "execute_result",
          "data": {
            "text/plain": [
              "[1500, 1700]"
            ]
          },
          "metadata": {},
          "execution_count": 29
        }
      ]
    },
    {
      "cell_type": "code",
      "metadata": {
        "id": "eesAp3eRZXiU",
        "colab": {
          "base_uri": "https://localhost:8080/"
        },
        "outputId": "e9037d28-8967-43bd-ebb0-f38a67d80b7f"
      },
      "source": [
        "# 가장 비싼 상품의 두 개의 가격은?\n",
        "sorted(mart.values())[-2:]\n",
        "sorted(mart.values(), reverse = True)[:2]"
      ],
      "execution_count": null,
      "outputs": [
        {
          "output_type": "execute_result",
          "data": {
            "text/plain": [
              "[10500, 4800]"
            ]
          },
          "metadata": {},
          "execution_count": 35
        }
      ]
    },
    {
      "cell_type": "markdown",
      "metadata": {
        "id": "4mAYDpDsXn9Q"
      },
      "source": [
        "딕셔너리의 키-값 쌍을 정렬하기"
      ]
    },
    {
      "cell_type": "code",
      "metadata": {
        "id": "jcTua0ksVB8A",
        "colab": {
          "base_uri": "https://localhost:8080/"
        },
        "outputId": "6506cd6b-98ce-47d6-c43d-3d8e8042ea7b"
      },
      "source": [
        "# 딕셔너리의 (키-값) 쌍을 정렬하기\n",
        "print(mart)\n",
        "sorted(mart.items())"
      ],
      "execution_count": null,
      "outputs": [
        {
          "output_type": "stream",
          "name": "stdout",
          "text": [
            "{'과자': 1500, '아이스크림': 1700, '휴지': 4800, '고기': 10500, '우유': 2600}\n"
          ]
        },
        {
          "output_type": "execute_result",
          "data": {
            "text/plain": [
              "[('고기', 10500), ('과자', 1500), ('아이스크림', 1700), ('우유', 2600), ('휴지', 4800)]"
            ]
          },
          "metadata": {},
          "execution_count": 37
        }
      ]
    },
    {
      "cell_type": "code",
      "metadata": {
        "id": "EGOyjkSqYPkn",
        "colab": {
          "base_uri": "https://localhost:8080/"
        },
        "outputId": "d400f9b7-853a-424a-a726-a9a2d4c001e8"
      },
      "source": [
        "# 딕셔너리의 (키-값) 쌍을 정렬하기(내림차순)\n",
        "sorted(mart.items(), reverse = True)"
      ],
      "execution_count": null,
      "outputs": [
        {
          "output_type": "execute_result",
          "data": {
            "text/plain": [
              "[('휴지', 4800), ('우유', 2600), ('아이스크림', 1700), ('과자', 1500), ('고기', 10500)]"
            ]
          },
          "metadata": {},
          "execution_count": 38
        }
      ]
    },
    {
      "cell_type": "markdown",
      "metadata": {
        "id": "gLVK3OBHZXiW"
      },
      "source": [
        "딕셔너리 (키-값) 쌍은 자동으로 키를 기준으로 정렬됨\n",
        "\n",
        "> 값을 기준으로 (키-값) 쌍 정렬하기 \n",
        "\n",
        "```\n",
        "import operator\n",
        "\n",
        "sorted(딕셔너리.items(), key = operator.itemgetter(1))\n",
        "```\n",
        "- operator모듈\n",
        "    - 계산을 도와주는 다양한 명령어가 포함된 모듈\n",
        "    - itemgetter() - 기준에 따라 키와 값을 모으는 명령어\n",
        "        - 키가 아닌 값으로 정렬하는 경우 \n",
        "        - 0: 키 기준\n",
        "        - 1: 값을 기준\n",
        "\n",
        "\n"
      ]
    },
    {
      "cell_type": "code",
      "metadata": {
        "id": "r5-mL7XIZXiW",
        "colab": {
          "base_uri": "https://localhost:8080/"
        },
        "outputId": "a67973cf-e602-468a-f4e9-07792f77d97e"
      },
      "source": [
        "# 딕셔너리 키-값 정렬시 값을 기준으로 정렬하기\n",
        "import operator\n",
        " \n",
        "sorted(mart.items(), key = operator.itemgetter(1))"
      ],
      "execution_count": null,
      "outputs": [
        {
          "output_type": "execute_result",
          "data": {
            "text/plain": [
              "[('과자', 1500), ('아이스크림', 1700), ('우유', 2600), ('휴지', 4800), ('고기', 10500)]"
            ]
          },
          "metadata": {},
          "execution_count": 41
        }
      ]
    },
    {
      "cell_type": "code",
      "metadata": {
        "id": "uAciMtpcYqMo",
        "colab": {
          "base_uri": "https://localhost:8080/"
        },
        "outputId": "945fd982-b2c0-462a-f598-f3e3a25a34f6"
      },
      "source": [
        "# 값을 기준으로 내림차순 정렬\n",
        "sorted(mart.items(), key = operator.itemgetter(1), reverse = True)\n",
        "# 키을 기준으로 내림차순 정렬\n",
        "sorted(mart.items(), key = operator.itemgetter(0), reverse = True)"
      ],
      "execution_count": null,
      "outputs": [
        {
          "output_type": "execute_result",
          "data": {
            "text/plain": [
              "[('휴지', 4800), ('우유', 2600), ('아이스크림', 1700), ('과자', 1500), ('고기', 10500)]"
            ]
          },
          "metadata": {},
          "execution_count": 44
        }
      ]
    },
    {
      "cell_type": "code",
      "metadata": {
        "id": "f08bsp01ZXiY",
        "colab": {
          "base_uri": "https://localhost:8080/"
        },
        "outputId": "86535a52-bff8-4327-b98d-2558b9b64d24"
      },
      "source": [
        "# 가장 비싼 상품과 가격을 출력\n",
        "sorted(mart.items(), key = operator.itemgetter(1), reverse = True)[0]"
      ],
      "execution_count": null,
      "outputs": [
        {
          "output_type": "execute_result",
          "data": {
            "text/plain": [
              "('고기', 10500)"
            ]
          },
          "metadata": {},
          "execution_count": 46
        }
      ]
    },
    {
      "cell_type": "code",
      "metadata": {
        "id": "IyCkcxNeZXiY",
        "colab": {
          "base_uri": "https://localhost:8080/"
        },
        "outputId": "0c683899-460d-4d9d-ece4-c742bda37b95"
      },
      "source": [
        "# 가장 비싼 상품 두개의 이름과 가격을 출력\n",
        "sorted(mart.items(), key = operator.itemgetter(1), reverse = True)[:2]"
      ],
      "execution_count": null,
      "outputs": [
        {
          "output_type": "execute_result",
          "data": {
            "text/plain": [
              "[('고기', 10500), ('휴지', 4800)]"
            ]
          },
          "metadata": {},
          "execution_count": 47
        }
      ]
    },
    {
      "cell_type": "markdown",
      "metadata": {
        "id": "uFj8bD4j9O-f"
      },
      "source": [
        "# 4. 딕셔너리와 제어구조\n",
        "\n",
        "\n",
        "\n",
        "```\n",
        "# 다섯 명의 중간고사 점수를 저장한 딕셔너리\n",
        "mid = {'도윤': 43, '하윤': 82, '시우': 76, '지유': 61, '주원': 94}\n",
        "```\n"
      ]
    },
    {
      "cell_type": "markdown",
      "metadata": {
        "id": "3U9bU_6pfz5r"
      },
      "source": [
        "## 조건문(if)"
      ]
    },
    {
      "cell_type": "code",
      "metadata": {
        "id": "-qj88bkQ9anF",
        "colab": {
          "base_uri": "https://localhost:8080/"
        },
        "outputId": "388a7fb1-0404-46bc-a0c3-a6b9a9a3bfec"
      },
      "source": [
        "# 학생 이름을 입력받아서, 딕셔너리에 학생 이름이 있으면 점수를 출력\n",
        "# 없다면 '해당 학생이 없습니다.' 출력하기 \n",
        "\n",
        "mid = {'도윤': 43, '하윤': 82, '시우': 76, '지유': 61, '주원': 94}\n",
        "\n",
        "student = input('어떤 학생의 점수가 궁금한가요? ')\n",
        "# print(mid.keys())\n",
        "\n",
        "if student in mid.keys(): # ['도윤', '하윤', '시우', '지유', '주원']\n",
        "  print(mid[student], '점 입니다.')\n",
        "else:\n",
        "  print('해당 학생이 없습니다.')"
      ],
      "execution_count": null,
      "outputs": [
        {
          "output_type": "stream",
          "name": "stdout",
          "text": [
            "어떤 학생의 점수가 궁금한가요? 시우\n",
            "76 점 입니다.\n"
          ]
        }
      ]
    },
    {
      "cell_type": "markdown",
      "metadata": {
        "id": "DgfvLMGZgAgo"
      },
      "source": [
        "## 반복문"
      ]
    },
    {
      "cell_type": "code",
      "metadata": {
        "id": "NcfO0M-_gLS9"
      },
      "source": [
        "# 딕셔너리에 저장된 모든 정보 출력하기\n",
        "print(mid)"
      ],
      "execution_count": null,
      "outputs": []
    },
    {
      "cell_type": "code",
      "metadata": {
        "id": "SaGbxT9b9apS",
        "colab": {
          "base_uri": "https://localhost:8080/"
        },
        "outputId": "34511e2f-e2ab-46e2-8c4a-2693d70639a8"
      },
      "source": [
        "# 딕셔너리에 저장된 모든 학생의 이름 출력하기\n",
        "for k in mid.keys():\n",
        "  print(k)"
      ],
      "execution_count": null,
      "outputs": [
        {
          "output_type": "stream",
          "name": "stdout",
          "text": [
            "도윤\n",
            "하윤\n",
            "시우\n",
            "지유\n",
            "주원\n"
          ]
        }
      ]
    },
    {
      "cell_type": "code",
      "metadata": {
        "id": "RQkgM-Io-m95",
        "colab": {
          "base_uri": "https://localhost:8080/"
        },
        "outputId": "300ffa2f-6dee-48da-cbdb-f1a36c3cd80e"
      },
      "source": [
        "# 딕셔너리에 저장된 모든 점수 출력하기\n",
        "print(mid.values())\n",
        "for v in mid.values():\n",
        "  print(v)"
      ],
      "execution_count": null,
      "outputs": [
        {
          "output_type": "stream",
          "name": "stdout",
          "text": [
            "dict_values([43, 82, 76, 61, 94])\n",
            "43\n",
            "82\n",
            "76\n",
            "61\n",
            "94\n"
          ]
        }
      ]
    },
    {
      "cell_type": "code",
      "metadata": {
        "id": "2sP5sm_9-nTQ",
        "colab": {
          "base_uri": "https://localhost:8080/"
        },
        "outputId": "fa119de6-f432-48b1-99ce-230bb4adb73d"
      },
      "source": [
        "# 딕셔너리에 저장된 모든 학생과 점수를 같이 출력하기\n",
        "for i in mid.items():\n",
        "  print(i, i[0], i[1])"
      ],
      "execution_count": null,
      "outputs": [
        {
          "output_type": "stream",
          "name": "stdout",
          "text": [
            "('도윤', 43) 도윤 43\n",
            "('하윤', 82) 하윤 82\n",
            "('시우', 76) 시우 76\n",
            "('지유', 61) 지유 61\n",
            "('주원', 94) 주원 94\n"
          ]
        }
      ]
    },
    {
      "cell_type": "code",
      "metadata": {
        "id": "ta1vpZK3A4mZ",
        "colab": {
          "base_uri": "https://localhost:8080/"
        },
        "outputId": "5d082ff7-af25-45e3-b13d-446532368d7e"
      },
      "source": [
        "# 도윤 의 점수는 43  으로 출력하기\n",
        "for k, v in mid.items():\n",
        "  print(k, '의 점수는', v)"
      ],
      "execution_count": null,
      "outputs": [
        {
          "output_type": "stream",
          "name": "stdout",
          "text": [
            "도윤 의 점수는 43\n",
            "하윤 의 점수는 82\n",
            "시우 의 점수는 76\n",
            "지유 의 점수는 61\n",
            "주원 의 점수는 94\n"
          ]
        }
      ]
    },
    {
      "cell_type": "code",
      "metadata": {
        "id": "UGbIzpaXnzPj",
        "colab": {
          "base_uri": "https://localhost:8080/"
        },
        "outputId": "ae4acab2-3f76-46b0-f796-93bdbe976a1b"
      },
      "source": [
        "# 60점이상인 학생의 이름과 점수를 출력하기\n",
        "for k, v in mid.items():\n",
        "  if v >= 60:\n",
        "    print(k, v)"
      ],
      "execution_count": null,
      "outputs": [
        {
          "output_type": "stream",
          "name": "stdout",
          "text": [
            "하윤 82\n",
            "시우 76\n",
            "지유 61\n",
            "주원 94\n"
          ]
        }
      ]
    },
    {
      "cell_type": "markdown",
      "metadata": {
        "id": "nRi8eI-rgjAA"
      },
      "source": [
        "# 단어장 만들기"
      ]
    },
    {
      "cell_type": "code",
      "metadata": {
        "id": "SNPXwr3yAOOx",
        "colab": {
          "base_uri": "https://localhost:8080/",
          "height": 148
        },
        "outputId": "bbc760ce-89bd-4a51-da5d-dd703a10fd34"
      },
      "source": [
        "alibaba = \"in a town of persia lived two brothers , sons of a poor man , one named cassim , the other alibaba . cassim , the elder , married a wife with a considerable fortune , and lived at his ease , but the wife of alibaba was as poor as himself . they dwelt in a mean cottage in the suburbs , and he maintained his family by cutting wood . alibaba was in the forest preparing to load his asses with the faggots he had cut , when he saw a troop of horsemen approaching . he hastily climbed a large thick tree , and hid himself among the branches . alibaba counted forty of them , each took a loaded portmanteau from his horse , and turning to the rock , said , open , sesame immediately a door opened , the robbers passed in , when the door shut of itself . in a short time the door opened again , and the robbers came out , who said , shut , sesame . the door instantly closed . alibaba ventured down , and approaching the rock , said , open , sesame . immediately the door flew open . he brought his asses , and took as many bags of gold coin as they could carry . alibaba told his brother the secret of the cave . cassim rose early next morning , and set out with ten mules loaded with great chests . he found the rock , and having said , open sesame , gained admission , where he found more treasures than he expected , which made him forget the word that caused the door to open . presently he heard the sound of horses feet , which he concluded to be the robbers , who instantly put him to death . alibaba drove to the forest , and on entering the cave , he found the body of his brother cut into quarters . he took the quarters , and put them upon one of his asses , and delivered the body to cassim wife . morgiana , a female slave in his brother house , was sent early next morning to a poor cobbler , and gave him two pieces of gold to go with her blindfolded , taking him into the room where the body was lying , bade him sew the mangled limbs together . mustapha obeyed , having received two pieces of gold , and was led blindfolded the same way back . cassim was buried with all due solemnity , and alibaba removed to the house of his deceased brother , of which he took possession . the captain of the troop resolved to find out who possessed the secret of entrance into his cave , and disguising himself , went to the city early one morning , when , accosting the cobbler , he was told of the job he had , who for six pieces of gold , allowed himself to be blindfolded , and traced out the house of cassim , which the robber marked with chalk . buying nineteen mules and thirty-nine large jars , one full of oil , and the rest empty , the captain put a man into each jar , properly armed , and then proceeded to the street where alibaba dwelt . sir , said he , i have brought this oil a great way to sell , as i am quite a stranger , will you let me put my mules into your courtyard , and direct me where i may lodge to-night ? alibaba welcomed the pretended oil merchant , offered him a bed in his own house , and invited his guest in to supper . morgiana , sitting up later that night than usual , her lamp went out . she took her oil pot in her hand , and approaching the first jar , the robber within said is it time , captain ? she replied , no , not yet . so she ran back to the kitchen , and brought out a large kettle , which she filled with oil , set it on a great wood fire , and as soon as it boiled , she went and poured into the jars sufficient of the boiling oil to kill every man within . the captain of the robbers arose to assemble his men . coming to the first jar , he felt the steam of the boiled oil ! he ran hastily to the rest , and found every one of his troop put to death . full of rage , he forced the lock of the door , and made his escape over the walls . without letting any one into the secret , alibaba and morgiana the next night buried the thirty-nine thieves at the bottom of the garden . the captain at length , however , determined to adopt a new scheme for the destruction of alibaba . he removed all the valuable merchandise from the cave to the city , and took a shop exactly opposite to alibaba house . alibaba son went every day to his shop . the pretended cogia hassan soon appeared to be very fond of alibaba son , offered him many presents , and often detained him to dinner . alibaba thought it was necessary to make some return to these civilities , and he invited cogia hassan to supper , morgiana carried in the first dish herself . the moment she looked at cogia hassan , she knew it was the pretended oil merchant . she sent the other slaves into the kitchen , and waited at table herself , and while cogia hassan was drinking , she perceived he had a dagger hid under his coat . she went away , and dressed herself in the habit of a dancing-girl . as soon as she appeared at the parlor door , her master ordered her to come in to entertain his guest with some of her best dancing . morgiana danced several times before the assembled company , until , coming opposite cogia hassan , she drew a dagger from her girdle and plunged it into the robber heart . as a reward for her faithfulness , alibaba gave her in marriage to his son , and at his death put them in possession of his immense wealth .\"\n",
        "alibaba"
      ],
      "execution_count": null,
      "outputs": [
        {
          "output_type": "execute_result",
          "data": {
            "application/vnd.google.colaboratory.intrinsic+json": {
              "type": "string"
            },
            "text/plain": [
              "'in a town of persia lived two brothers , sons of a poor man , one named cassim , the other alibaba . cassim , the elder , married a wife with a considerable fortune , and lived at his ease , but the wife of alibaba was as poor as himself . they dwelt in a mean cottage in the suburbs , and he maintained his family by cutting wood . alibaba was in the forest preparing to load his asses with the faggots he had cut , when he saw a troop of horsemen approaching . he hastily climbed a large thick tree , and hid himself among the branches . alibaba counted forty of them , each took a loaded portmanteau from his horse , and turning to the rock , said , open , sesame immediately a door opened , the robbers passed in , when the door shut of itself . in a short time the door opened again , and the robbers came out , who said , shut , sesame . the door instantly closed . alibaba ventured down , and approaching the rock , said , open , sesame . immediately the door flew open . he brought his asses , and took as many bags of gold coin as they could carry . alibaba told his brother the secret of the cave . cassim rose early next morning , and set out with ten mules loaded with great chests . he found the rock , and having said , open sesame , gained admission , where he found more treasures than he expected , which made him forget the word that caused the door to open . presently he heard the sound of horses feet , which he concluded to be the robbers , who instantly put him to death . alibaba drove to the forest , and on entering the cave , he found the body of his brother cut into quarters . he took the quarters , and put them upon one of his asses , and delivered the body to cassim wife . morgiana , a female slave in his brother house , was sent early next morning to a poor cobbler , and gave him two pieces of gold to go with her blindfolded , taking him into the room where the body was lying , bade him sew the mangled limbs together . mustapha obeyed , having received two pieces of gold , and was led blindfolded the same way back . cassim was buried with all due solemnity , and alibaba removed to the house of his deceased brother , of which he took possession . the captain of the troop resolved to find out who possessed the secret of entrance into his cave , and disguising himself , went to the city early one morning , when , accosting the cobbler , he was told of the job he had , who for six pieces of gold , allowed himself to be blindfolded , and traced out the house of cassim , which the robber marked with chalk . buying nineteen mules and thirty-nine large jars , one full of oil , and the rest empty , the captain put a man into each jar , properly armed , and then proceeded to the street where alibaba dwelt . sir , said he , i have brought this oil a great way to sell , as i am quite a stranger , will you let me put my mules into your courtyard , and direct me where i may lodge to-night ? alibaba welcomed the pretended oil merchant , offered him a bed in his own house , and invited his guest in to supper . morgiana , sitting up later that night than usual , her lamp went out . she took her oil pot in her hand , and approaching the first jar , the robber within said is it time , captain ? she replied , no , not yet . so she ran back to the kitchen , and brought out a large kettle , which she filled with oil , set it on a great wood fire , and as soon as it boiled , she went and poured into the jars sufficient of the boiling oil to kill every man within . the captain of the robbers arose to assemble his men . coming to the first jar , he felt the steam of the boiled oil ! he ran hastily to the rest , and found every one of his troop put to death . full of rage , he forced the lock of the door , and made his escape over the walls . without letting any one into the secret , alibaba and morgiana the next night buried the thirty-nine thieves at the bottom of the garden . the captain at length , however , determined to adopt a new scheme for the destruction of alibaba . he removed all the valuable merchandise from the cave to the city , and took a shop exactly opposite to alibaba house . alibaba son went every day to his shop . the pretended cogia hassan soon appeared to be very fond of alibaba son , offered him many presents , and often detained him to dinner . alibaba thought it was necessary to make some return to these civilities , and he invited cogia hassan to supper , morgiana carried in the first dish herself . the moment she looked at cogia hassan , she knew it was the pretended oil merchant . she sent the other slaves into the kitchen , and waited at table herself , and while cogia hassan was drinking , she perceived he had a dagger hid under his coat . she went away , and dressed herself in the habit of a dancing-girl . as soon as she appeared at the parlor door , her master ordered her to come in to entertain his guest with some of her best dancing . morgiana danced several times before the assembled company , until , coming opposite cogia hassan , she drew a dagger from her girdle and plunged it into the robber heart . as a reward for her faithfulness , alibaba gave her in marriage to his son , and at his death put them in possession of his immense wealth .'"
            ]
          },
          "metadata": {},
          "execution_count": 65
        }
      ]
    },
    {
      "cell_type": "code",
      "metadata": {
        "id": "_ydZ50tKl3wu"
      },
      "source": [
        "voca =  {}  # 단어장\n",
        "\n",
        "word_list = alibaba.split() #문자열을 공백 기준으로 분리한 리스트"
      ],
      "execution_count": null,
      "outputs": []
    },
    {
      "cell_type": "code",
      "metadata": {
        "id": "IFBSPHB2rnN0",
        "colab": {
          "base_uri": "https://localhost:8080/"
        },
        "outputId": "8f438fae-7315-4169-f115-379a6230249a"
      },
      "source": [
        "# word_list 확인\n",
        "word_list"
      ],
      "execution_count": null,
      "outputs": [
        {
          "output_type": "execute_result",
          "data": {
            "text/plain": [
              "['in',\n",
              " 'a',\n",
              " 'town',\n",
              " 'of',\n",
              " 'persia',\n",
              " 'lived',\n",
              " 'two',\n",
              " 'brothers',\n",
              " ',',\n",
              " 'sons',\n",
              " 'of',\n",
              " 'a',\n",
              " 'poor',\n",
              " 'man',\n",
              " ',',\n",
              " 'one',\n",
              " 'named',\n",
              " 'cassim',\n",
              " ',',\n",
              " 'the',\n",
              " 'other',\n",
              " 'alibaba',\n",
              " '.',\n",
              " 'cassim',\n",
              " ',',\n",
              " 'the',\n",
              " 'elder',\n",
              " ',',\n",
              " 'married',\n",
              " 'a',\n",
              " 'wife',\n",
              " 'with',\n",
              " 'a',\n",
              " 'considerable',\n",
              " 'fortune',\n",
              " ',',\n",
              " 'and',\n",
              " 'lived',\n",
              " 'at',\n",
              " 'his',\n",
              " 'ease',\n",
              " ',',\n",
              " 'but',\n",
              " 'the',\n",
              " 'wife',\n",
              " 'of',\n",
              " 'alibaba',\n",
              " 'was',\n",
              " 'as',\n",
              " 'poor',\n",
              " 'as',\n",
              " 'himself',\n",
              " '.',\n",
              " 'they',\n",
              " 'dwelt',\n",
              " 'in',\n",
              " 'a',\n",
              " 'mean',\n",
              " 'cottage',\n",
              " 'in',\n",
              " 'the',\n",
              " 'suburbs',\n",
              " ',',\n",
              " 'and',\n",
              " 'he',\n",
              " 'maintained',\n",
              " 'his',\n",
              " 'family',\n",
              " 'by',\n",
              " 'cutting',\n",
              " 'wood',\n",
              " '.',\n",
              " 'alibaba',\n",
              " 'was',\n",
              " 'in',\n",
              " 'the',\n",
              " 'forest',\n",
              " 'preparing',\n",
              " 'to',\n",
              " 'load',\n",
              " 'his',\n",
              " 'asses',\n",
              " 'with',\n",
              " 'the',\n",
              " 'faggots',\n",
              " 'he',\n",
              " 'had',\n",
              " 'cut',\n",
              " ',',\n",
              " 'when',\n",
              " 'he',\n",
              " 'saw',\n",
              " 'a',\n",
              " 'troop',\n",
              " 'of',\n",
              " 'horsemen',\n",
              " 'approaching',\n",
              " '.',\n",
              " 'he',\n",
              " 'hastily',\n",
              " 'climbed',\n",
              " 'a',\n",
              " 'large',\n",
              " 'thick',\n",
              " 'tree',\n",
              " ',',\n",
              " 'and',\n",
              " 'hid',\n",
              " 'himself',\n",
              " 'among',\n",
              " 'the',\n",
              " 'branches',\n",
              " '.',\n",
              " 'alibaba',\n",
              " 'counted',\n",
              " 'forty',\n",
              " 'of',\n",
              " 'them',\n",
              " ',',\n",
              " 'each',\n",
              " 'took',\n",
              " 'a',\n",
              " 'loaded',\n",
              " 'portmanteau',\n",
              " 'from',\n",
              " 'his',\n",
              " 'horse',\n",
              " ',',\n",
              " 'and',\n",
              " 'turning',\n",
              " 'to',\n",
              " 'the',\n",
              " 'rock',\n",
              " ',',\n",
              " 'said',\n",
              " ',',\n",
              " 'open',\n",
              " ',',\n",
              " 'sesame',\n",
              " 'immediately',\n",
              " 'a',\n",
              " 'door',\n",
              " 'opened',\n",
              " ',',\n",
              " 'the',\n",
              " 'robbers',\n",
              " 'passed',\n",
              " 'in',\n",
              " ',',\n",
              " 'when',\n",
              " 'the',\n",
              " 'door',\n",
              " 'shut',\n",
              " 'of',\n",
              " 'itself',\n",
              " '.',\n",
              " 'in',\n",
              " 'a',\n",
              " 'short',\n",
              " 'time',\n",
              " 'the',\n",
              " 'door',\n",
              " 'opened',\n",
              " 'again',\n",
              " ',',\n",
              " 'and',\n",
              " 'the',\n",
              " 'robbers',\n",
              " 'came',\n",
              " 'out',\n",
              " ',',\n",
              " 'who',\n",
              " 'said',\n",
              " ',',\n",
              " 'shut',\n",
              " ',',\n",
              " 'sesame',\n",
              " '.',\n",
              " 'the',\n",
              " 'door',\n",
              " 'instantly',\n",
              " 'closed',\n",
              " '.',\n",
              " 'alibaba',\n",
              " 'ventured',\n",
              " 'down',\n",
              " ',',\n",
              " 'and',\n",
              " 'approaching',\n",
              " 'the',\n",
              " 'rock',\n",
              " ',',\n",
              " 'said',\n",
              " ',',\n",
              " 'open',\n",
              " ',',\n",
              " 'sesame',\n",
              " '.',\n",
              " 'immediately',\n",
              " 'the',\n",
              " 'door',\n",
              " 'flew',\n",
              " 'open',\n",
              " '.',\n",
              " 'he',\n",
              " 'brought',\n",
              " 'his',\n",
              " 'asses',\n",
              " ',',\n",
              " 'and',\n",
              " 'took',\n",
              " 'as',\n",
              " 'many',\n",
              " 'bags',\n",
              " 'of',\n",
              " 'gold',\n",
              " 'coin',\n",
              " 'as',\n",
              " 'they',\n",
              " 'could',\n",
              " 'carry',\n",
              " '.',\n",
              " 'alibaba',\n",
              " 'told',\n",
              " 'his',\n",
              " 'brother',\n",
              " 'the',\n",
              " 'secret',\n",
              " 'of',\n",
              " 'the',\n",
              " 'cave',\n",
              " '.',\n",
              " 'cassim',\n",
              " 'rose',\n",
              " 'early',\n",
              " 'next',\n",
              " 'morning',\n",
              " ',',\n",
              " 'and',\n",
              " 'set',\n",
              " 'out',\n",
              " 'with',\n",
              " 'ten',\n",
              " 'mules',\n",
              " 'loaded',\n",
              " 'with',\n",
              " 'great',\n",
              " 'chests',\n",
              " '.',\n",
              " 'he',\n",
              " 'found',\n",
              " 'the',\n",
              " 'rock',\n",
              " ',',\n",
              " 'and',\n",
              " 'having',\n",
              " 'said',\n",
              " ',',\n",
              " 'open',\n",
              " 'sesame',\n",
              " ',',\n",
              " 'gained',\n",
              " 'admission',\n",
              " ',',\n",
              " 'where',\n",
              " 'he',\n",
              " 'found',\n",
              " 'more',\n",
              " 'treasures',\n",
              " 'than',\n",
              " 'he',\n",
              " 'expected',\n",
              " ',',\n",
              " 'which',\n",
              " 'made',\n",
              " 'him',\n",
              " 'forget',\n",
              " 'the',\n",
              " 'word',\n",
              " 'that',\n",
              " 'caused',\n",
              " 'the',\n",
              " 'door',\n",
              " 'to',\n",
              " 'open',\n",
              " '.',\n",
              " 'presently',\n",
              " 'he',\n",
              " 'heard',\n",
              " 'the',\n",
              " 'sound',\n",
              " 'of',\n",
              " 'horses',\n",
              " 'feet',\n",
              " ',',\n",
              " 'which',\n",
              " 'he',\n",
              " 'concluded',\n",
              " 'to',\n",
              " 'be',\n",
              " 'the',\n",
              " 'robbers',\n",
              " ',',\n",
              " 'who',\n",
              " 'instantly',\n",
              " 'put',\n",
              " 'him',\n",
              " 'to',\n",
              " 'death',\n",
              " '.',\n",
              " 'alibaba',\n",
              " 'drove',\n",
              " 'to',\n",
              " 'the',\n",
              " 'forest',\n",
              " ',',\n",
              " 'and',\n",
              " 'on',\n",
              " 'entering',\n",
              " 'the',\n",
              " 'cave',\n",
              " ',',\n",
              " 'he',\n",
              " 'found',\n",
              " 'the',\n",
              " 'body',\n",
              " 'of',\n",
              " 'his',\n",
              " 'brother',\n",
              " 'cut',\n",
              " 'into',\n",
              " 'quarters',\n",
              " '.',\n",
              " 'he',\n",
              " 'took',\n",
              " 'the',\n",
              " 'quarters',\n",
              " ',',\n",
              " 'and',\n",
              " 'put',\n",
              " 'them',\n",
              " 'upon',\n",
              " 'one',\n",
              " 'of',\n",
              " 'his',\n",
              " 'asses',\n",
              " ',',\n",
              " 'and',\n",
              " 'delivered',\n",
              " 'the',\n",
              " 'body',\n",
              " 'to',\n",
              " 'cassim',\n",
              " 'wife',\n",
              " '.',\n",
              " 'morgiana',\n",
              " ',',\n",
              " 'a',\n",
              " 'female',\n",
              " 'slave',\n",
              " 'in',\n",
              " 'his',\n",
              " 'brother',\n",
              " 'house',\n",
              " ',',\n",
              " 'was',\n",
              " 'sent',\n",
              " 'early',\n",
              " 'next',\n",
              " 'morning',\n",
              " 'to',\n",
              " 'a',\n",
              " 'poor',\n",
              " 'cobbler',\n",
              " ',',\n",
              " 'and',\n",
              " 'gave',\n",
              " 'him',\n",
              " 'two',\n",
              " 'pieces',\n",
              " 'of',\n",
              " 'gold',\n",
              " 'to',\n",
              " 'go',\n",
              " 'with',\n",
              " 'her',\n",
              " 'blindfolded',\n",
              " ',',\n",
              " 'taking',\n",
              " 'him',\n",
              " 'into',\n",
              " 'the',\n",
              " 'room',\n",
              " 'where',\n",
              " 'the',\n",
              " 'body',\n",
              " 'was',\n",
              " 'lying',\n",
              " ',',\n",
              " 'bade',\n",
              " 'him',\n",
              " 'sew',\n",
              " 'the',\n",
              " 'mangled',\n",
              " 'limbs',\n",
              " 'together',\n",
              " '.',\n",
              " 'mustapha',\n",
              " 'obeyed',\n",
              " ',',\n",
              " 'having',\n",
              " 'received',\n",
              " 'two',\n",
              " 'pieces',\n",
              " 'of',\n",
              " 'gold',\n",
              " ',',\n",
              " 'and',\n",
              " 'was',\n",
              " 'led',\n",
              " 'blindfolded',\n",
              " 'the',\n",
              " 'same',\n",
              " 'way',\n",
              " 'back',\n",
              " '.',\n",
              " 'cassim',\n",
              " 'was',\n",
              " 'buried',\n",
              " 'with',\n",
              " 'all',\n",
              " 'due',\n",
              " 'solemnity',\n",
              " ',',\n",
              " 'and',\n",
              " 'alibaba',\n",
              " 'removed',\n",
              " 'to',\n",
              " 'the',\n",
              " 'house',\n",
              " 'of',\n",
              " 'his',\n",
              " 'deceased',\n",
              " 'brother',\n",
              " ',',\n",
              " 'of',\n",
              " 'which',\n",
              " 'he',\n",
              " 'took',\n",
              " 'possession',\n",
              " '.',\n",
              " 'the',\n",
              " 'captain',\n",
              " 'of',\n",
              " 'the',\n",
              " 'troop',\n",
              " 'resolved',\n",
              " 'to',\n",
              " 'find',\n",
              " 'out',\n",
              " 'who',\n",
              " 'possessed',\n",
              " 'the',\n",
              " 'secret',\n",
              " 'of',\n",
              " 'entrance',\n",
              " 'into',\n",
              " 'his',\n",
              " 'cave',\n",
              " ',',\n",
              " 'and',\n",
              " 'disguising',\n",
              " 'himself',\n",
              " ',',\n",
              " 'went',\n",
              " 'to',\n",
              " 'the',\n",
              " 'city',\n",
              " 'early',\n",
              " 'one',\n",
              " 'morning',\n",
              " ',',\n",
              " 'when',\n",
              " ',',\n",
              " 'accosting',\n",
              " 'the',\n",
              " 'cobbler',\n",
              " ',',\n",
              " 'he',\n",
              " 'was',\n",
              " 'told',\n",
              " 'of',\n",
              " 'the',\n",
              " 'job',\n",
              " 'he',\n",
              " 'had',\n",
              " ',',\n",
              " 'who',\n",
              " 'for',\n",
              " 'six',\n",
              " 'pieces',\n",
              " 'of',\n",
              " 'gold',\n",
              " ',',\n",
              " 'allowed',\n",
              " 'himself',\n",
              " 'to',\n",
              " 'be',\n",
              " 'blindfolded',\n",
              " ',',\n",
              " 'and',\n",
              " 'traced',\n",
              " 'out',\n",
              " 'the',\n",
              " 'house',\n",
              " 'of',\n",
              " 'cassim',\n",
              " ',',\n",
              " 'which',\n",
              " 'the',\n",
              " 'robber',\n",
              " 'marked',\n",
              " 'with',\n",
              " 'chalk',\n",
              " '.',\n",
              " 'buying',\n",
              " 'nineteen',\n",
              " 'mules',\n",
              " 'and',\n",
              " 'thirty-nine',\n",
              " 'large',\n",
              " 'jars',\n",
              " ',',\n",
              " 'one',\n",
              " 'full',\n",
              " 'of',\n",
              " 'oil',\n",
              " ',',\n",
              " 'and',\n",
              " 'the',\n",
              " 'rest',\n",
              " 'empty',\n",
              " ',',\n",
              " 'the',\n",
              " 'captain',\n",
              " 'put',\n",
              " 'a',\n",
              " 'man',\n",
              " 'into',\n",
              " 'each',\n",
              " 'jar',\n",
              " ',',\n",
              " 'properly',\n",
              " 'armed',\n",
              " ',',\n",
              " 'and',\n",
              " 'then',\n",
              " 'proceeded',\n",
              " 'to',\n",
              " 'the',\n",
              " 'street',\n",
              " 'where',\n",
              " 'alibaba',\n",
              " 'dwelt',\n",
              " '.',\n",
              " 'sir',\n",
              " ',',\n",
              " 'said',\n",
              " 'he',\n",
              " ',',\n",
              " 'i',\n",
              " 'have',\n",
              " 'brought',\n",
              " 'this',\n",
              " 'oil',\n",
              " 'a',\n",
              " 'great',\n",
              " 'way',\n",
              " 'to',\n",
              " 'sell',\n",
              " ',',\n",
              " 'as',\n",
              " 'i',\n",
              " 'am',\n",
              " 'quite',\n",
              " 'a',\n",
              " 'stranger',\n",
              " ',',\n",
              " 'will',\n",
              " 'you',\n",
              " 'let',\n",
              " 'me',\n",
              " 'put',\n",
              " 'my',\n",
              " 'mules',\n",
              " 'into',\n",
              " 'your',\n",
              " 'courtyard',\n",
              " ',',\n",
              " 'and',\n",
              " 'direct',\n",
              " 'me',\n",
              " 'where',\n",
              " 'i',\n",
              " 'may',\n",
              " 'lodge',\n",
              " 'to-night',\n",
              " '?',\n",
              " 'alibaba',\n",
              " 'welcomed',\n",
              " 'the',\n",
              " 'pretended',\n",
              " 'oil',\n",
              " 'merchant',\n",
              " ',',\n",
              " 'offered',\n",
              " 'him',\n",
              " 'a',\n",
              " 'bed',\n",
              " 'in',\n",
              " 'his',\n",
              " 'own',\n",
              " 'house',\n",
              " ',',\n",
              " 'and',\n",
              " 'invited',\n",
              " 'his',\n",
              " 'guest',\n",
              " 'in',\n",
              " 'to',\n",
              " 'supper',\n",
              " '.',\n",
              " 'morgiana',\n",
              " ',',\n",
              " 'sitting',\n",
              " 'up',\n",
              " 'later',\n",
              " 'that',\n",
              " 'night',\n",
              " 'than',\n",
              " 'usual',\n",
              " ',',\n",
              " 'her',\n",
              " 'lamp',\n",
              " 'went',\n",
              " 'out',\n",
              " '.',\n",
              " 'she',\n",
              " 'took',\n",
              " 'her',\n",
              " 'oil',\n",
              " 'pot',\n",
              " 'in',\n",
              " 'her',\n",
              " 'hand',\n",
              " ',',\n",
              " 'and',\n",
              " 'approaching',\n",
              " 'the',\n",
              " 'first',\n",
              " 'jar',\n",
              " ',',\n",
              " 'the',\n",
              " 'robber',\n",
              " 'within',\n",
              " 'said',\n",
              " 'is',\n",
              " 'it',\n",
              " 'time',\n",
              " ',',\n",
              " 'captain',\n",
              " '?',\n",
              " 'she',\n",
              " 'replied',\n",
              " ',',\n",
              " 'no',\n",
              " ',',\n",
              " 'not',\n",
              " 'yet',\n",
              " '.',\n",
              " 'so',\n",
              " 'she',\n",
              " 'ran',\n",
              " 'back',\n",
              " 'to',\n",
              " 'the',\n",
              " 'kitchen',\n",
              " ',',\n",
              " 'and',\n",
              " 'brought',\n",
              " 'out',\n",
              " 'a',\n",
              " 'large',\n",
              " 'kettle',\n",
              " ',',\n",
              " 'which',\n",
              " 'she',\n",
              " 'filled',\n",
              " 'with',\n",
              " 'oil',\n",
              " ',',\n",
              " 'set',\n",
              " 'it',\n",
              " 'on',\n",
              " 'a',\n",
              " 'great',\n",
              " 'wood',\n",
              " 'fire',\n",
              " ',',\n",
              " 'and',\n",
              " 'as',\n",
              " 'soon',\n",
              " 'as',\n",
              " 'it',\n",
              " 'boiled',\n",
              " ',',\n",
              " 'she',\n",
              " 'went',\n",
              " 'and',\n",
              " 'poured',\n",
              " 'into',\n",
              " 'the',\n",
              " 'jars',\n",
              " 'sufficient',\n",
              " 'of',\n",
              " 'the',\n",
              " 'boiling',\n",
              " 'oil',\n",
              " 'to',\n",
              " 'kill',\n",
              " 'every',\n",
              " 'man',\n",
              " 'within',\n",
              " '.',\n",
              " 'the',\n",
              " 'captain',\n",
              " 'of',\n",
              " 'the',\n",
              " 'robbers',\n",
              " 'arose',\n",
              " 'to',\n",
              " 'assemble',\n",
              " 'his',\n",
              " 'men',\n",
              " '.',\n",
              " 'coming',\n",
              " 'to',\n",
              " 'the',\n",
              " 'first',\n",
              " 'jar',\n",
              " ',',\n",
              " 'he',\n",
              " 'felt',\n",
              " 'the',\n",
              " 'steam',\n",
              " 'of',\n",
              " 'the',\n",
              " 'boiled',\n",
              " 'oil',\n",
              " '!',\n",
              " 'he',\n",
              " 'ran',\n",
              " 'hastily',\n",
              " 'to',\n",
              " 'the',\n",
              " 'rest',\n",
              " ',',\n",
              " 'and',\n",
              " 'found',\n",
              " 'every',\n",
              " 'one',\n",
              " 'of',\n",
              " 'his',\n",
              " 'troop',\n",
              " 'put',\n",
              " 'to',\n",
              " 'death',\n",
              " '.',\n",
              " 'full',\n",
              " 'of',\n",
              " 'rage',\n",
              " ',',\n",
              " 'he',\n",
              " 'forced',\n",
              " 'the',\n",
              " 'lock',\n",
              " 'of',\n",
              " 'the',\n",
              " 'door',\n",
              " ',',\n",
              " 'and',\n",
              " 'made',\n",
              " 'his',\n",
              " 'escape',\n",
              " 'over',\n",
              " 'the',\n",
              " 'walls',\n",
              " '.',\n",
              " 'without',\n",
              " 'letting',\n",
              " 'any',\n",
              " 'one',\n",
              " 'into',\n",
              " 'the',\n",
              " 'secret',\n",
              " ',',\n",
              " 'alibaba',\n",
              " 'and',\n",
              " 'morgiana',\n",
              " 'the',\n",
              " 'next',\n",
              " 'night',\n",
              " 'buried',\n",
              " 'the',\n",
              " 'thirty-nine',\n",
              " 'thieves',\n",
              " 'at',\n",
              " 'the',\n",
              " 'bottom',\n",
              " 'of',\n",
              " 'the',\n",
              " 'garden',\n",
              " '.',\n",
              " 'the',\n",
              " 'captain',\n",
              " 'at',\n",
              " 'length',\n",
              " ',',\n",
              " 'however',\n",
              " ',',\n",
              " 'determined',\n",
              " 'to',\n",
              " 'adopt',\n",
              " 'a',\n",
              " 'new',\n",
              " 'scheme',\n",
              " 'for',\n",
              " 'the',\n",
              " 'destruction',\n",
              " 'of',\n",
              " 'alibaba',\n",
              " '.',\n",
              " 'he',\n",
              " 'removed',\n",
              " 'all',\n",
              " 'the',\n",
              " 'valuable',\n",
              " 'merchandise',\n",
              " 'from',\n",
              " 'the',\n",
              " 'cave',\n",
              " 'to',\n",
              " 'the',\n",
              " 'city',\n",
              " ',',\n",
              " 'and',\n",
              " 'took',\n",
              " 'a',\n",
              " 'shop',\n",
              " 'exactly',\n",
              " 'opposite',\n",
              " 'to',\n",
              " 'alibaba',\n",
              " 'house',\n",
              " '.',\n",
              " 'alibaba',\n",
              " 'son',\n",
              " 'went',\n",
              " 'every',\n",
              " 'day',\n",
              " 'to',\n",
              " 'his',\n",
              " 'shop',\n",
              " '.',\n",
              " 'the',\n",
              " 'pretended',\n",
              " 'cogia',\n",
              " 'hassan',\n",
              " 'soon',\n",
              " 'appeared',\n",
              " 'to',\n",
              " 'be',\n",
              " 'very',\n",
              " 'fond',\n",
              " 'of',\n",
              " 'alibaba',\n",
              " 'son',\n",
              " ',',\n",
              " 'offered',\n",
              " 'him',\n",
              " 'many',\n",
              " 'presents',\n",
              " ',',\n",
              " 'and',\n",
              " 'often',\n",
              " 'detained',\n",
              " 'him',\n",
              " 'to',\n",
              " 'dinner',\n",
              " '.',\n",
              " 'alibaba',\n",
              " 'thought',\n",
              " 'it',\n",
              " 'was',\n",
              " 'necessary',\n",
              " 'to',\n",
              " 'make',\n",
              " 'some',\n",
              " 'return',\n",
              " 'to',\n",
              " 'these',\n",
              " 'civilities',\n",
              " ',',\n",
              " 'and',\n",
              " 'he',\n",
              " 'invited',\n",
              " 'cogia',\n",
              " 'hassan',\n",
              " 'to',\n",
              " 'supper',\n",
              " ',',\n",
              " 'morgiana',\n",
              " 'carried',\n",
              " 'in',\n",
              " 'the',\n",
              " 'first',\n",
              " 'dish',\n",
              " 'herself',\n",
              " '.',\n",
              " 'the',\n",
              " 'moment',\n",
              " 'she',\n",
              " 'looked',\n",
              " 'at',\n",
              " 'cogia',\n",
              " 'hassan',\n",
              " ',',\n",
              " 'she',\n",
              " 'knew',\n",
              " 'it',\n",
              " 'was',\n",
              " 'the',\n",
              " 'pretended',\n",
              " 'oil',\n",
              " 'merchant',\n",
              " '.',\n",
              " 'she',\n",
              " 'sent',\n",
              " 'the',\n",
              " 'other',\n",
              " 'slaves',\n",
              " 'into',\n",
              " 'the',\n",
              " 'kitchen',\n",
              " ',',\n",
              " 'and',\n",
              " 'waited',\n",
              " 'at',\n",
              " 'table',\n",
              " 'herself',\n",
              " ',',\n",
              " 'and',\n",
              " 'while',\n",
              " 'cogia',\n",
              " 'hassan',\n",
              " 'was',\n",
              " 'drinking',\n",
              " ',',\n",
              " 'she',\n",
              " 'perceived',\n",
              " 'he',\n",
              " 'had',\n",
              " 'a',\n",
              " 'dagger',\n",
              " 'hid',\n",
              " 'under',\n",
              " 'his',\n",
              " 'coat',\n",
              " '.',\n",
              " 'she',\n",
              " 'went',\n",
              " 'away',\n",
              " ',',\n",
              " 'and',\n",
              " 'dressed',\n",
              " 'herself',\n",
              " 'in',\n",
              " 'the',\n",
              " 'habit',\n",
              " 'of',\n",
              " 'a',\n",
              " 'dancing-girl',\n",
              " '.',\n",
              " 'as',\n",
              " 'soon',\n",
              " 'as',\n",
              " 'she',\n",
              " 'appeared',\n",
              " 'at',\n",
              " 'the',\n",
              " ...]"
            ]
          },
          "metadata": {},
          "execution_count": 67
        }
      ]
    },
    {
      "cell_type": "code",
      "metadata": {
        "colab": {
          "base_uri": "https://localhost:8080/"
        },
        "id": "w6J3MqfNgit5",
        "outputId": "46d9121e-6ba8-463b-8b72-c17fdf2bedc6"
      },
      "source": [
        "#새 단어인경우, voca딕셔너리 추가하고\n",
        "#이미 있는 단어인 경우  voca딕셔너리의 값을 1씩 증가\n",
        "for w in word_list:\n",
        "    if w not in voca:\n",
        "        voca[w]=1\n",
        "    else:\n",
        "        voca[w]  += 1\n",
        "print(voca)"
      ],
      "execution_count": null,
      "outputs": [
        {
          "output_type": "stream",
          "name": "stdout",
          "text": [
            "{'in': 15, 'a': 24, 'town': 1, 'of': 33, 'persia': 1, 'lived': 2, 'two': 3, 'brothers': 1, ',': 103, 'sons': 1, 'poor': 3, 'man': 3, 'one': 6, 'named': 1, 'cassim': 6, 'the': 78, 'other': 2, 'alibaba': 17, '.': 41, 'elder': 1, 'married': 1, 'wife': 3, 'with': 9, 'considerable': 1, 'fortune': 1, 'and': 37, 'at': 7, 'his': 22, 'ease': 1, 'but': 1, 'was': 10, 'as': 10, 'himself': 4, 'they': 2, 'dwelt': 2, 'mean': 1, 'cottage': 1, 'suburbs': 1, 'he': 22, 'maintained': 1, 'family': 1, 'by': 1, 'cutting': 1, 'wood': 2, 'forest': 2, 'preparing': 1, 'to': 34, 'load': 1, 'asses': 3, 'faggots': 1, 'had': 3, 'cut': 2, 'when': 3, 'saw': 1, 'troop': 3, 'horsemen': 1, 'approaching': 3, 'hastily': 2, 'climbed': 1, 'large': 3, 'thick': 1, 'tree': 1, 'hid': 2, 'among': 1, 'branches': 1, 'counted': 1, 'forty': 1, 'them': 3, 'each': 2, 'took': 6, 'loaded': 2, 'portmanteau': 1, 'from': 3, 'horse': 1, 'turning': 1, 'rock': 3, 'said': 6, 'open': 5, 'sesame': 4, 'immediately': 2, 'door': 8, 'opened': 2, 'robbers': 4, 'passed': 1, 'shut': 2, 'itself': 1, 'short': 1, 'time': 2, 'again': 1, 'came': 1, 'out': 6, 'who': 4, 'instantly': 2, 'closed': 1, 'ventured': 1, 'down': 1, 'flew': 1, 'brought': 3, 'many': 2, 'bags': 1, 'gold': 4, 'coin': 1, 'could': 1, 'carry': 1, 'told': 2, 'brother': 4, 'secret': 3, 'cave': 4, 'rose': 1, 'early': 3, 'next': 3, 'morning': 3, 'set': 2, 'ten': 1, 'mules': 3, 'great': 3, 'chests': 1, 'found': 4, 'having': 2, 'gained': 1, 'admission': 1, 'where': 4, 'more': 1, 'treasures': 1, 'than': 2, 'expected': 1, 'which': 5, 'made': 2, 'him': 8, 'forget': 1, 'word': 1, 'that': 2, 'caused': 1, 'presently': 1, 'heard': 1, 'sound': 1, 'horses': 1, 'feet': 1, 'concluded': 1, 'be': 3, 'put': 6, 'death': 3, 'drove': 1, 'on': 2, 'entering': 1, 'body': 3, 'into': 9, 'quarters': 2, 'upon': 1, 'delivered': 1, 'morgiana': 5, 'female': 1, 'slave': 1, 'house': 5, 'sent': 2, 'cobbler': 2, 'gave': 2, 'pieces': 3, 'go': 1, 'her': 10, 'blindfolded': 3, 'taking': 1, 'room': 1, 'lying': 1, 'bade': 1, 'sew': 1, 'mangled': 1, 'limbs': 1, 'together': 1, 'mustapha': 1, 'obeyed': 1, 'received': 1, 'led': 1, 'same': 1, 'way': 2, 'back': 2, 'buried': 2, 'all': 2, 'due': 1, 'solemnity': 1, 'removed': 2, 'deceased': 1, 'possession': 2, 'captain': 5, 'resolved': 1, 'find': 1, 'possessed': 1, 'entrance': 1, 'disguising': 1, 'went': 5, 'city': 2, 'accosting': 1, 'job': 1, 'for': 3, 'six': 1, 'allowed': 1, 'traced': 1, 'robber': 3, 'marked': 1, 'chalk': 1, 'buying': 1, 'nineteen': 1, 'thirty-nine': 2, 'jars': 2, 'full': 2, 'oil': 8, 'rest': 2, 'empty': 1, 'jar': 3, 'properly': 1, 'armed': 1, 'then': 1, 'proceeded': 1, 'street': 1, 'sir': 1, 'i': 3, 'have': 1, 'this': 1, 'sell': 1, 'am': 1, 'quite': 1, 'stranger': 1, 'will': 1, 'you': 1, 'let': 1, 'me': 2, 'my': 1, 'your': 1, 'courtyard': 1, 'direct': 1, 'may': 1, 'lodge': 1, 'to-night': 1, '?': 2, 'welcomed': 1, 'pretended': 3, 'merchant': 2, 'offered': 2, 'bed': 1, 'own': 1, 'invited': 2, 'guest': 2, 'supper': 2, 'sitting': 1, 'up': 1, 'later': 1, 'night': 2, 'usual': 1, 'lamp': 1, 'she': 12, 'pot': 1, 'hand': 1, 'first': 3, 'within': 2, 'is': 1, 'it': 6, 'replied': 1, 'no': 1, 'not': 1, 'yet': 1, 'so': 1, 'ran': 2, 'kitchen': 2, 'kettle': 1, 'filled': 1, 'fire': 1, 'soon': 3, 'boiled': 2, 'poured': 1, 'sufficient': 1, 'boiling': 1, 'kill': 1, 'every': 3, 'arose': 1, 'assemble': 1, 'men': 1, 'coming': 2, 'felt': 1, 'steam': 1, '!': 1, 'rage': 1, 'forced': 1, 'lock': 1, 'escape': 1, 'over': 1, 'walls': 1, 'without': 1, 'letting': 1, 'any': 1, 'thieves': 1, 'bottom': 1, 'garden': 1, 'length': 1, 'however': 1, 'determined': 1, 'adopt': 1, 'new': 1, 'scheme': 1, 'destruction': 1, 'valuable': 1, 'merchandise': 1, 'shop': 2, 'exactly': 1, 'opposite': 2, 'son': 3, 'day': 1, 'cogia': 5, 'hassan': 5, 'appeared': 2, 'very': 1, 'fond': 1, 'presents': 1, 'often': 1, 'detained': 1, 'dinner': 1, 'thought': 1, 'necessary': 1, 'make': 1, 'some': 2, 'return': 1, 'these': 1, 'civilities': 1, 'carried': 1, 'dish': 1, 'herself': 3, 'moment': 1, 'looked': 1, 'knew': 1, 'slaves': 1, 'waited': 1, 'table': 1, 'while': 1, 'drinking': 1, 'perceived': 1, 'dagger': 2, 'under': 1, 'coat': 1, 'away': 1, 'dressed': 1, 'habit': 1, 'dancing-girl': 1, 'parlor': 1, 'master': 1, 'ordered': 1, 'come': 1, 'entertain': 1, 'best': 1, 'dancing': 1, 'danced': 1, 'several': 1, 'times': 1, 'before': 1, 'assembled': 1, 'company': 1, 'until': 1, 'drew': 1, 'girdle': 1, 'plunged': 1, 'heart': 1, 'reward': 1, 'faithfulness': 1, 'marriage': 1, 'immense': 1, 'wealth': 1}\n"
          ]
        }
      ]
    },
    {
      "cell_type": "code",
      "metadata": {
        "colab": {
          "base_uri": "https://localhost:8080/"
        },
        "id": "MY8resI-r8FT",
        "outputId": "26a59cd2-2264-4610-a201-ac6a5660f8eb"
      },
      "source": [
        "#빈도수가 높은 순서대로 정렬(내림차순)\n",
        "import operator\n",
        "sorted(voca.items(), key = operator.itemgetter(1), reverse = True)\n",
        "sorted(voca.items(), key = operator.itemgetter(1), reverse = True)[:10]  # 10개만"
      ],
      "execution_count": null,
      "outputs": [
        {
          "output_type": "execute_result",
          "data": {
            "text/plain": [
              "[('alibaba', 17),\n",
              " ('door', 8),\n",
              " ('oil', 8),\n",
              " ('one', 6),\n",
              " ('cassim', 6),\n",
              " ('took', 6),\n",
              " ('said', 6),\n",
              " ('out', 6),\n",
              " ('put', 6),\n",
              " ('open', 5)]"
            ]
          },
          "metadata": {},
          "execution_count": 71
        }
      ]
    },
    {
      "cell_type": "code",
      "metadata": {
        "id": "0cqUBVlDr4ar"
      },
      "source": [
        "#의미없는 문자 삭제\n",
        "meaningless = ['.', ',', '!', '?', 'the', 'he', 'and', 'to', 'a', 'of', \n",
        "               'was', 'in', 'had', 'for', 'it', 'that', 'but', 'as', 'with', \n",
        "               'at', 'i', 'into', 'be', 'this', 'me', 'from', 'then', 'him', \n",
        "               'his', 'her', 'she','they', 'them', 'you']\n",
        "\n",
        "\n",
        "for word in meaningless:\n",
        "    del voca[word]"
      ],
      "execution_count": null,
      "outputs": []
    },
    {
      "cell_type": "code",
      "metadata": {
        "colab": {
          "base_uri": "https://localhost:8080/"
        },
        "id": "jxtmyT5Wr4XN",
        "outputId": "8da5b798-993b-454d-804c-4fdb4b436a14"
      },
      "source": [
        "#출현 빈도가 많은 순서대로 정렬\n",
        "voca_f = sorted(voca.items(), key = operator.itemgetter(1), reverse = True)\n",
        "voca_f\n",
        "voca_f[:10]"
      ],
      "execution_count": null,
      "outputs": [
        {
          "output_type": "execute_result",
          "data": {
            "text/plain": [
              "[('alibaba', 17),\n",
              " ('door', 8),\n",
              " ('oil', 8),\n",
              " ('one', 6),\n",
              " ('cassim', 6),\n",
              " ('took', 6),\n",
              " ('said', 6),\n",
              " ('out', 6),\n",
              " ('put', 6),\n",
              " ('open', 5)]"
            ]
          },
          "metadata": {},
          "execution_count": 72
        }
      ]
    },
    {
      "cell_type": "code",
      "metadata": {
        "colab": {
          "base_uri": "https://localhost:8080/"
        },
        "id": "xSippGaTr4TI",
        "outputId": "22f592a7-9e4d-4f01-8032-8bf8abd21c31"
      },
      "source": [
        "#출현빈도대로 정렬된 단어만 확인\n",
        "for  k  , v  in voca_f:\n",
        "    print(k ,end = \"   \")"
      ],
      "execution_count": null,
      "outputs": [
        {
          "output_type": "stream",
          "name": "stdout",
          "text": [
            "alibaba   door   oil   one   cassim   took   said   out   put   open   which   morgiana   house   captain   went   cogia   hassan   himself   sesame   robbers   who   gold   brother   cave   found   where   two   poor   man   wife   asses   when   troop   approaching   large   rock   brought   secret   early   next   morning   mules   great   death   body   pieces   blindfolded   robber   jar   pretended   first   soon   every   son   herself   lived   other   dwelt   wood   forest   cut   hastily   hid   each   loaded   immediately   opened   shut   time   instantly   many   told   set   having   than   made   on   quarters   sent   cobbler   gave   way   back   buried   all   removed   possession   city   thirty-nine   jars   full   rest   merchant   offered   invited   guest   supper   night   within   ran   kitchen   boiled   coming   shop   opposite   appeared   some   dagger   town   persia   brothers   sons   named   elder   married   considerable   fortune   ease   mean   cottage   suburbs   maintained   family   by   cutting   preparing   load   faggots   saw   horsemen   climbed   thick   tree   among   branches   counted   forty   portmanteau   horse   turning   passed   itself   short   again   came   closed   ventured   down   flew   bags   coin   could   carry   rose   ten   chests   gained   admission   more   treasures   expected   forget   word   caused   presently   heard   sound   horses   feet   concluded   drove   entering   upon   delivered   female   slave   go   taking   room   lying   bade   sew   mangled   limbs   together   mustapha   obeyed   received   led   same   due   solemnity   deceased   resolved   find   possessed   entrance   disguising   accosting   job   six   allowed   traced   marked   chalk   buying   nineteen   empty   properly   armed   proceeded   street   sir   have   sell   am   quite   stranger   will   let   my   your   courtyard   direct   may   lodge   to-night   welcomed   bed   own   sitting   up   later   usual   lamp   pot   hand   is   replied   no   not   yet   so   kettle   filled   fire   poured   sufficient   boiling   kill   arose   assemble   men   felt   steam   rage   forced   lock   escape   over   walls   without   letting   any   thieves   bottom   garden   length   however   determined   adopt   new   scheme   destruction   valuable   merchandise   exactly   day   very   fond   presents   often   detained   dinner   thought   necessary   make   return   these   civilities   carried   dish   moment   looked   knew   slaves   waited   table   while   drinking   perceived   under   coat   away   dressed   habit   dancing-girl   parlor   master   ordered   come   entertain   best   dancing   danced   several   times   before   assembled   company   until   drew   girdle   plunged   heart   reward   faithfulness   marriage   immense   wealth   "
          ]
        }
      ]
    },
    {
      "cell_type": "code",
      "metadata": {
        "colab": {
          "base_uri": "https://localhost:8080/"
        },
        "id": "H50OXhmXr4PY",
        "outputId": "0f589fb3-d21a-485d-b006-6cde975eb9f1"
      },
      "source": [
        "#알파벳 순서대로 정렬\n",
        "voca_sort = sorted(voca_f)\n",
        "\n",
        "for k ,v in voca_sort:\n",
        "    print(k , end = \"  \")"
      ],
      "execution_count": null,
      "outputs": [
        {
          "output_type": "stream",
          "name": "stdout",
          "text": [
            "accosting  admission  adopt  again  alibaba  all  allowed  am  among  any  appeared  approaching  armed  arose  assemble  assembled  asses  away  back  bade  bags  bed  before  best  blindfolded  body  boiled  boiling  bottom  branches  brother  brothers  brought  buried  buying  by  came  captain  carried  carry  cassim  caused  cave  chalk  chests  city  civilities  climbed  closed  coat  cobbler  cogia  coin  come  coming  company  concluded  considerable  cottage  could  counted  courtyard  cut  cutting  dagger  danced  dancing  dancing-girl  day  death  deceased  delivered  destruction  detained  determined  dinner  direct  disguising  dish  door  down  dressed  drew  drinking  drove  due  dwelt  each  early  ease  elder  empty  entering  entertain  entrance  escape  every  exactly  expected  faggots  faithfulness  family  feet  felt  female  filled  find  fire  first  flew  fond  forced  forest  forget  fortune  forty  found  full  gained  garden  gave  girdle  go  gold  great  guest  habit  hand  hassan  hastily  have  having  heard  heart  herself  hid  himself  horse  horsemen  horses  house  however  immediately  immense  instantly  invited  is  itself  jar  jars  job  kettle  kill  kitchen  knew  lamp  large  later  led  length  let  letting  limbs  lived  load  loaded  lock  lodge  looked  lying  made  maintained  make  man  mangled  many  marked  marriage  married  master  may  mean  men  merchandise  merchant  moment  more  morgiana  morning  mules  mustapha  my  named  necessary  new  next  night  nineteen  no  not  obeyed  offered  often  oil  on  one  open  opened  opposite  ordered  other  out  over  own  parlor  passed  perceived  persia  pieces  plunged  poor  portmanteau  possessed  possession  pot  poured  preparing  presently  presents  pretended  proceeded  properly  put  quarters  quite  rage  ran  received  removed  replied  resolved  rest  return  reward  robber  robbers  rock  room  rose  said  same  saw  scheme  secret  sell  sent  sesame  set  several  sew  shop  short  shut  sir  sitting  six  slave  slaves  so  solemnity  some  son  sons  soon  sound  steam  stranger  street  suburbs  sufficient  supper  table  taking  ten  than  these  thick  thieves  thirty-nine  thought  time  times  to-night  together  told  took  town  traced  treasures  tree  troop  turning  two  under  until  up  upon  usual  valuable  ventured  very  waited  walls  way  wealth  welcomed  went  when  where  which  while  who  wife  will  within  without  wood  word  yet  your  "
          ]
        }
      ]
    }
  ]
}