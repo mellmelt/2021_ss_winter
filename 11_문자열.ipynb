{
  "nbformat": 4,
  "nbformat_minor": 5,
  "metadata": {
    "kernelspec": {
      "display_name": "Python 3",
      "language": "python",
      "name": "python3"
    },
    "language_info": {
      "codemirror_mode": {
        "name": "ipython",
        "version": 3
      },
      "file_extension": ".py",
      "mimetype": "text/x-python",
      "name": "python",
      "nbconvert_exporter": "python",
      "pygments_lexer": "ipython3",
      "version": "3.8.8"
    },
    "toc": {
      "base_numbering": 1,
      "nav_menu": {},
      "number_sections": true,
      "sideBar": true,
      "skip_h1_title": false,
      "title_cell": "Table of Contents",
      "title_sidebar": "Contents",
      "toc_cell": false,
      "toc_position": {},
      "toc_section_display": true,
      "toc_window_display": true
    },
    "varInspector": {
      "cols": {
        "lenName": 16,
        "lenType": 16,
        "lenVar": 40
      },
      "kernels_config": {
        "python": {
          "delete_cmd_postfix": "",
          "delete_cmd_prefix": "del ",
          "library": "var_list.py",
          "varRefreshCmd": "print(var_dic_list())"
        },
        "r": {
          "delete_cmd_postfix": ") ",
          "delete_cmd_prefix": "rm(",
          "library": "var_list.r",
          "varRefreshCmd": "cat(var_dic_list()) "
        }
      },
      "types_to_exclude": [
        "module",
        "function",
        "builtin_function_or_method",
        "instance",
        "_Feature"
      ],
      "window_display": true
    },
    "colab": {
      "name": "11_문자열.ipynb",
      "provenance": [],
      "collapsed_sections": [],
      "include_colab_link": true
    }
  },
  "cells": [
    {
      "cell_type": "markdown",
      "metadata": {
        "id": "view-in-github",
        "colab_type": "text"
      },
      "source": [
        "<a href=\"https://colab.research.google.com/github/mellmelt/2021_ss_winter/blob/main/11_%EB%AC%B8%EC%9E%90%EC%97%B4.ipynb\" target=\"_parent\"><img src=\"https://colab.research.google.com/assets/colab-badge.svg\" alt=\"Open In Colab\"/></a>"
      ]
    },
    {
      "cell_type": "markdown",
      "metadata": {
        "id": "6304c955"
      },
      "source": [
        "#  문자열\n",
        "\n",
        "- 데이터들을 잘 관리하기 위해서 묶어서 관리할 수 있는 자료형\n",
        "- 시퀀스 데이터 \n",
        "    - 순서가 있는데이터\n",
        "    - 데이터를 순서대로 접근 가능\n",
        "- 리스트변수명 = [값1, 값2, …] \n"
      ],
      "id": "6304c955"
    },
    {
      "cell_type": "code",
      "source": [
        "s1 =  \"How are you?\"\n",
        "type(s1)"
      ],
      "metadata": {
        "colab": {
          "base_uri": "https://localhost:8080/"
        },
        "id": "m_-2Ew2alSNg",
        "outputId": "77c494a8-f45c-47cb-b01f-983c0dc299a6"
      },
      "id": "m_-2Ew2alSNg",
      "execution_count": 1,
      "outputs": [
        {
          "output_type": "execute_result",
          "data": {
            "text/plain": [
              "str"
            ]
          },
          "metadata": {},
          "execution_count": 1
        }
      ]
    },
    {
      "cell_type": "markdown",
      "metadata": {
        "id": "932ea8e0"
      },
      "source": [
        "## 문자열 생성\n",
        "- '' , \"\" 기호에 문자열\n",
        "    - s1 = \"How are you?\"\n",
        "    - s2 = 'Hello Python'\n",
        "- 자료형 확인\n",
        "    - type(S) ==>  <class 'str'>"
      ],
      "id": "932ea8e0"
    },
    {
      "cell_type": "markdown",
      "metadata": {
        "id": "522f6edf"
      },
      "source": [
        "###  문자열 변수의 초기화\n",
        "   - s1 = \"\"     # 빈문자열(O)\n",
        "   - s2 = \" \"     # 빈문자열(x : 빈칸 포함)\n"
      ],
      "id": "522f6edf"
    },
    {
      "cell_type": "markdown",
      "metadata": {
        "id": "5b228482"
      },
      "source": [
        "## 문자열 인덱스\n",
        "- 인덱스를 이용하여 리스트의 위치에 있는 항목에 접근하는 것"
      ],
      "id": "5b228482"
    },
    {
      "cell_type": "code",
      "metadata": {
        "id": "ee4c1b0b"
      },
      "source": [
        "# 문자열 선언\n",
        "s1 = \"How are you?\"\n",
        "alpha = 'abcdefghijklmnopqrstuvwxyz'"
      ],
      "id": "ee4c1b0b",
      "execution_count": 2,
      "outputs": []
    },
    {
      "cell_type": "markdown",
      "metadata": {
        "id": "c434e9fb"
      },
      "source": [
        "### 양의 인덱스"
      ],
      "id": "c434e9fb"
    },
    {
      "cell_type": "code",
      "metadata": {
        "id": "a4922afc",
        "colab": {
          "base_uri": "https://localhost:8080/"
        },
        "outputId": "39280126-03e7-4c2e-8df2-5d603e94dc86"
      },
      "source": [
        "# 0번 인덱스\n",
        "print(alpha[0])\n",
        "# 3번 인덱스\n",
        "print(alpha[3])\n",
        "# 7번 인덱스\n",
        "print(alpha[7])\n",
        "# 9번 인덱스\n",
        "print(alpha[9])\n",
        "# 12번 인덱스\n",
        "print(alpha[12])"
      ],
      "id": "a4922afc",
      "execution_count": 3,
      "outputs": [
        {
          "output_type": "stream",
          "name": "stdout",
          "text": [
            "a\n",
            "d\n",
            "h\n",
            "j\n",
            "m\n"
          ]
        }
      ]
    },
    {
      "cell_type": "markdown",
      "metadata": {
        "id": "35f29cf8"
      },
      "source": [
        "### 음의 인덱스"
      ],
      "id": "35f29cf8"
    },
    {
      "cell_type": "code",
      "metadata": {
        "id": "2a0d8ccb",
        "colab": {
          "base_uri": "https://localhost:8080/"
        },
        "outputId": "9b686f0e-ad2f-47a5-e55d-b39f5f3d776e"
      },
      "source": [
        "# -1번 인덱스\n",
        "print(alpha[-1])\n",
        "# -3번 인덱스\n",
        "print(alpha[-3])\n",
        "# -7번 인덱스\n",
        "print(alpha[-7])\n",
        "# 0번 인덱스\n",
        "print(alpha[0])"
      ],
      "id": "2a0d8ccb",
      "execution_count": 4,
      "outputs": [
        {
          "output_type": "stream",
          "name": "stdout",
          "text": [
            "z\n",
            "x\n",
            "t\n",
            "a\n"
          ]
        }
      ]
    },
    {
      "cell_type": "markdown",
      "metadata": {
        "id": "6ce2d7be"
      },
      "source": [
        "- 문자열의 개수를 세는 함수 :len()\n",
        "    - len(S)\n",
        "    - len('Python')\n",
        "- 리스트의 마지막 항목을 출력\n",
        "    - S(len(S)-1)"
      ],
      "id": "6ce2d7be"
    },
    {
      "cell_type": "markdown",
      "metadata": {
        "id": "a883912c"
      },
      "source": [
        "##  문자열 연산자\n",
        "\n",
        "- in / not in 연산자\n",
        "    - 문자열에  문자가 포함이 되어 있는지 확인\n",
        "    - 문자열이 포함 판단을 (True/ False) 표현"
      ],
      "id": "a883912c"
    },
    {
      "cell_type": "code",
      "metadata": {
        "id": "aa392e06",
        "colab": {
          "base_uri": "https://localhost:8080/"
        },
        "outputId": "7079449d-73f0-4f14-c34b-3091751aa19e"
      },
      "source": [
        "모음 = 'aeiouAEIOU'\n",
        "# 변수모음 에 ‘o’문자를 포함하는지 여부를 판단하여 부울연산자로 표현\n",
        "print('o' in 모음)\n",
        "# M이 모음인가?\n",
        "print('M' in 모음)\n",
        "# K가 모음이 아닌가?\n",
        "print('K' not in 모음)"
      ],
      "id": "aa392e06",
      "execution_count": 5,
      "outputs": [
        {
          "output_type": "stream",
          "name": "stdout",
          "text": [
            "True\n",
            "False\n",
            "True\n"
          ]
        }
      ]
    },
    {
      "cell_type": "code",
      "metadata": {
        "id": "64648933",
        "colab": {
          "base_uri": "https://localhost:8080/"
        },
        "outputId": "5c506e90-df38-44ef-8511-d31ccf8d6701"
      },
      "source": [
        "x = 'programming' \n",
        "print('gram' in x)\n",
        "print('mm' in x)\n",
        "print('mm' not in x)\n",
        "print('pra' in x)\n",
        "print('홍' in '홍길동')"
      ],
      "id": "64648933",
      "execution_count": 6,
      "outputs": [
        {
          "output_type": "stream",
          "name": "stdout",
          "text": [
            "True\n",
            "True\n",
            "False\n",
            "False\n",
            "True\n"
          ]
        }
      ]
    },
    {
      "cell_type": "code",
      "source": [
        "print(\"우리\" + \"나라\")\n",
        "print(\"우리\" * 3)"
      ],
      "metadata": {
        "colab": {
          "base_uri": "https://localhost:8080/"
        },
        "id": "oWsgPB497m-Z",
        "outputId": "bfebd1f4-6aca-4be4-f4de-53b68e1a748e"
      },
      "id": "oWsgPB497m-Z",
      "execution_count": 9,
      "outputs": [
        {
          "output_type": "stream",
          "name": "stdout",
          "text": [
            "우리나라\n",
            "우리우리우리\n"
          ]
        }
      ]
    },
    {
      "cell_type": "markdown",
      "source": [
        "# 문자열 슬라이싱"
      ],
      "metadata": {
        "id": "6r0mutrX7T_-"
      },
      "id": "6r0mutrX7T_-"
    },
    {
      "cell_type": "code",
      "source": [
        "alpha = 'abcdefghijklmnopqrstuvwxyz'\n",
        "# defghij 출력\n",
        "alpha[3:10]\n",
        "# lmnopqrs 출력\n",
        "alpha[-15:-7]\n",
        "# abcde 출력\n",
        "alpha[:5]\n",
        "# alpha 글자수는?\n",
        "len(alpha)\n",
        "# alpha의 마지막 글자는?\n",
        "print(alpha[25], alpha[-1])\n",
        "# alpha[0:5]와 alpha[:5]는 같다\n",
        "alpha[0:25:2]\n",
        "alpha[::2]"
      ],
      "metadata": {
        "id": "C2nIsFCkmqMZ",
        "colab": {
          "base_uri": "https://localhost:8080/",
          "height": 54
        },
        "outputId": "1688f148-97a2-47a3-918d-ecb310d7ae87"
      },
      "id": "C2nIsFCkmqMZ",
      "execution_count": null,
      "outputs": [
        {
          "output_type": "stream",
          "name": "stdout",
          "text": [
            "z z\n"
          ]
        },
        {
          "output_type": "execute_result",
          "data": {
            "application/vnd.google.colaboratory.intrinsic+json": {
              "type": "string"
            },
            "text/plain": [
              "'acegikmoqsuwy'"
            ]
          },
          "metadata": {},
          "execution_count": 17
        }
      ]
    },
    {
      "cell_type": "code",
      "source": [
        "# 문자열 전체를 나타내는 슬라이싱\n",
        "alpha[:]\n",
        "alpha[::]\n",
        "# 거꾸로 된 문자열\n",
        "alpha[::-1]"
      ],
      "metadata": {
        "id": "4E5C-QDT5o6w"
      },
      "id": "4E5C-QDT5o6w",
      "execution_count": null,
      "outputs": []
    },
    {
      "cell_type": "markdown",
      "metadata": {
        "id": "55e96507"
      },
      "source": [
        "# for문 -  문자열"
      ],
      "id": "55e96507"
    },
    {
      "cell_type": "markdown",
      "metadata": {
        "id": "8134f147"
      },
      "source": [
        "[문제 1] <br>\n",
        "과목 = \"python\"\n",
        "<br> 과목변수의 전체항목  출력\n",
        "- [출력]\n",
        "<br> python"
      ],
      "id": "8134f147"
    },
    {
      "cell_type": "code",
      "source": [
        "과목 = \"python\"\n",
        "print(과목)"
      ],
      "metadata": {
        "colab": {
          "base_uri": "https://localhost:8080/"
        },
        "id": "dM6_mUXn50EH",
        "outputId": "38523eca-e42d-443a-9b33-7433bfe21e2c"
      },
      "id": "dM6_mUXn50EH",
      "execution_count": 10,
      "outputs": [
        {
          "output_type": "stream",
          "name": "stdout",
          "text": [
            "python\n"
          ]
        }
      ]
    },
    {
      "cell_type": "markdown",
      "metadata": {
        "id": "bbda84f2"
      },
      "source": [
        "[문제 2] <br>\n",
        "과목 = \"python\"\n",
        "<br> 과목변수의 문자를   출력\n",
        "- [출력]\n",
        "<br> p\n",
        "<br> y\n",
        "<br> t\n",
        "<br> h\n",
        "<br> o\n",
        "<br> n"
      ],
      "id": "bbda84f2"
    },
    {
      "cell_type": "code",
      "source": [
        "for ch in 과목:\n",
        "  # 1회 반복 ch = 'p'\n",
        "  # 2회 반복 ch = 'y'\n",
        "  print(ch)"
      ],
      "metadata": {
        "colab": {
          "base_uri": "https://localhost:8080/"
        },
        "id": "rFZ0zRPA54bO",
        "outputId": "c48c692c-b19e-4722-f6ea-5b3f0459eb5b"
      },
      "id": "rFZ0zRPA54bO",
      "execution_count": 11,
      "outputs": [
        {
          "output_type": "stream",
          "name": "stdout",
          "text": [
            "p\n",
            "y\n",
            "t\n",
            "h\n",
            "o\n",
            "n\n"
          ]
        }
      ]
    },
    {
      "cell_type": "markdown",
      "metadata": {
        "id": "106d30b6"
      },
      "source": [
        "[문제 3] <br>\n",
        "color ='red'\n",
        "<br> color리스트의 항목  출력\n",
        "- [출력]- 인덱스와 함께 \n",
        "<br> 0 r\n",
        "<br> 1 e\n",
        "<br> 2 d"
      ],
      "id": "106d30b6"
    },
    {
      "cell_type": "code",
      "metadata": {
        "id": "1f9e7e5b",
        "colab": {
          "base_uri": "https://localhost:8080/"
        },
        "outputId": "d9ac1978-1971-418a-ceeb-7fb28fc8e7a0"
      },
      "source": [
        "color ='red'\n",
        "\n",
        "for i in range(3): # [0, 1, 2]\n",
        "  # 1회 반복 i = 0\n",
        "  # 2회 반복 i = 1\n",
        "  print(i, color[i])\n",
        "\n",
        "for i in range(len(color)): # [0, 1, 2]\n",
        "  # 1회 반복 i = 0\n",
        "  # 2회 반복 i = 1\n",
        "  print(i, color[i])"
      ],
      "id": "1f9e7e5b",
      "execution_count": 12,
      "outputs": [
        {
          "output_type": "stream",
          "name": "stdout",
          "text": [
            "0 r\n",
            "1 e\n",
            "2 d\n",
            "0 r\n",
            "1 e\n",
            "2 d\n"
          ]
        }
      ]
    },
    {
      "cell_type": "markdown",
      "metadata": {
        "id": "fe921452"
      },
      "source": [
        "# while문 -  문자열"
      ],
      "id": "fe921452"
    },
    {
      "cell_type": "markdown",
      "metadata": {
        "id": "b98e0982"
      },
      "source": [
        "[문제 4] <br>\n",
        "s ='대한민국'\n",
        "<br> s리스트의 항목  출력\n",
        "- [출력]\n",
        "<br> 대\n",
        "<br> 한\n",
        "<br> 민\n",
        "<br> 국"
      ],
      "id": "b98e0982"
    },
    {
      "cell_type": "code",
      "metadata": {
        "id": "6970e123",
        "colab": {
          "base_uri": "https://localhost:8080/"
        },
        "outputId": "5c7611f0-f63e-4960-ae7c-f4e8f4062ff3"
      },
      "source": [
        "s ='대한민국'\n",
        "i = 0\n",
        "while i < len(s):\n",
        "  print(s[i])\n",
        "  i += 1"
      ],
      "id": "6970e123",
      "execution_count": 13,
      "outputs": [
        {
          "output_type": "stream",
          "name": "stdout",
          "text": [
            "대\n",
            "한\n",
            "민\n",
            "국\n"
          ]
        }
      ]
    },
    {
      "cell_type": "markdown",
      "metadata": {
        "id": "9ed690bd"
      },
      "source": [
        "# if문 -  문자열"
      ],
      "id": "9ed690bd"
    },
    {
      "cell_type": "markdown",
      "metadata": {
        "id": "e676c84d"
      },
      "source": [
        "[문제 5] <br>\n",
        "과일가게의 과일을 검색하는 프로그램을 작성\n",
        "- 과일가게에 가지고 있는 과일의 종류는 아래와 같다.  \n",
        "    -'사과','딸기','바나나','블루베리','포도','키위’\n",
        "\n",
        "과일 종류를 검색했을 때 <br>\n",
        ">   과일이 있는 경우 ==> ‘** 이 있습니다.’ 로 출력<br>\n",
        ">   과일이 없는 경우 ==>  ‘** 은 없습니다.’ 로 출력"
      ],
      "id": "e676c84d"
    },
    {
      "cell_type": "code",
      "source": [
        "f = ['사과','딸기','바나나','블루베리','포도','키위']\n",
        "검색 = input('찾는 과일 이름은?')\n",
        "if 검색 in f:\n",
        "  print(검색, '있습니다.')\n",
        "else:\n",
        "  print(검색, '없습니다.')"
      ],
      "metadata": {
        "colab": {
          "base_uri": "https://localhost:8080/"
        },
        "id": "mJ6X_Q8Y9nyW",
        "outputId": "c20b5a51-a7c0-4921-8b2f-fd62c506bffc"
      },
      "id": "mJ6X_Q8Y9nyW",
      "execution_count": null,
      "outputs": [
        {
          "output_type": "stream",
          "name": "stdout",
          "text": [
            "찾는 과일 이름은?사과\n",
            "사과 있습니다.\n"
          ]
        }
      ]
    },
    {
      "cell_type": "markdown",
      "metadata": {
        "id": "3193a566"
      },
      "source": [
        "# [과제] for문으로 작성\n",
        "- 다음 프로그램을 실행했을때와 동일한 결과가 되도록 리스트와 함께 수정해봅니다."
      ],
      "id": "3193a566"
    },
    {
      "cell_type": "markdown",
      "metadata": {
        "id": "a5c6c254"
      },
      "source": [
        "[문제 6] <br> \n",
        "리스트 = [\"SK하이닉스\", \"삼성전자\", \"LG전자\"] 일때 문자열의 길이를 출력\n",
        "\n",
        "- [출력]<br>\n",
        "  6<br>\n",
        "  4<br>\n",
        "  4<br>"
      ],
      "id": "a5c6c254"
    },
    {
      "cell_type": "code",
      "source": [
        "리스트 = [\"SK하이닉스\", \"삼성전자\", \"LG전자\"]\n",
        "for name in 리스트:\n",
        "  print(len(name))"
      ],
      "metadata": {
        "colab": {
          "base_uri": "https://localhost:8080/"
        },
        "id": "RGO1jdjK-Nni",
        "outputId": "681e5703-d8c0-479d-dded-1558560d1c3c"
      },
      "id": "RGO1jdjK-Nni",
      "execution_count": 14,
      "outputs": [
        {
          "output_type": "stream",
          "name": "stdout",
          "text": [
            "6\n",
            "4\n",
            "4\n"
          ]
        }
      ]
    },
    {
      "cell_type": "markdown",
      "metadata": {
        "id": "e898c6cf"
      },
      "source": [
        "[문제 7] <br> \n",
        "리스트 = ['dog', 'cat', 'parrot'] 일때 문자열의 길이를 출력\n",
        "\n",
        "- [출력]<br>\n",
        "  dog - 3<br>\n",
        "  cat  - 3<br>\n",
        "  parrot  - 6<br>"
      ],
      "id": "e898c6cf"
    },
    {
      "cell_type": "code",
      "source": [
        "리스트 = ['dog', 'cat', 'parrot']\n",
        "for name in 리스트:\n",
        "  print(name, '-', len(name))"
      ],
      "metadata": {
        "id": "l5K5B11s-kFr",
        "colab": {
          "base_uri": "https://localhost:8080/"
        },
        "outputId": "62d78291-93f6-470e-c69c-797763557bf5"
      },
      "id": "l5K5B11s-kFr",
      "execution_count": 17,
      "outputs": [
        {
          "output_type": "stream",
          "name": "stdout",
          "text": [
            "dog - 3\n",
            "cat - 3\n",
            "parrot - 6\n"
          ]
        }
      ]
    },
    {
      "cell_type": "markdown",
      "metadata": {
        "id": "875911fd"
      },
      "source": [
        "[문제 8] <br> \n",
        "리스트 = ['dog', 'cat', 'parrot'] 일때 문자열의첫글자를 출력\n",
        "\n",
        "- [출력]<br>\n",
        "  d<br>\n",
        "  c<br>\n",
        "  p<br>"
      ],
      "id": "875911fd"
    },
    {
      "cell_type": "code",
      "source": [
        "리스트 = ['dog', 'cat', 'parrot']\n",
        "for i in 리스트:\n",
        "  print(i[:1])"
      ],
      "metadata": {
        "id": "i3EXggBu-xdR",
        "colab": {
          "base_uri": "https://localhost:8080/"
        },
        "outputId": "f662a6ea-0e2c-4d22-9a7c-8e2fa1a187d9"
      },
      "id": "i3EXggBu-xdR",
      "execution_count": 18,
      "outputs": [
        {
          "output_type": "stream",
          "name": "stdout",
          "text": [
            "d\n",
            "c\n",
            "p\n"
          ]
        }
      ]
    },
    {
      "cell_type": "markdown",
      "metadata": {
        "id": "171e1271"
      },
      "source": [
        "[문제 9] <br> \n",
        "리스트 = ['dog', 'cat', 'parrot'] 일때 문자열의마지막 글자를 출력\n",
        "\n",
        "- [출력]<br>\n",
        "  g<br>\n",
        "  t<br>\n",
        "  t<br>"
      ],
      "id": "171e1271"
    },
    {
      "cell_type": "code",
      "metadata": {
        "id": "8dfb4e24",
        "colab": {
          "base_uri": "https://localhost:8080/"
        },
        "outputId": "1f3794d0-114e-4206-9dc3-76fcf1b0c963"
      },
      "source": [
        "리스트 = ['dog', 'cat', 'parrot']\n",
        "for i in 리스트:\n",
        "  print(i[-1:])"
      ],
      "id": "8dfb4e24",
      "execution_count": 20,
      "outputs": [
        {
          "output_type": "stream",
          "name": "stdout",
          "text": [
            "g\n",
            "t\n",
            "t\n"
          ]
        }
      ]
    }
  ]
}