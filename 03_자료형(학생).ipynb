{
  "nbformat": 4,
  "nbformat_minor": 5,
  "metadata": {
    "kernelspec": {
      "display_name": "Python 3",
      "language": "python",
      "name": "python3"
    },
    "language_info": {
      "codemirror_mode": {
        "name": "ipython",
        "version": 3
      },
      "file_extension": ".py",
      "mimetype": "text/x-python",
      "name": "python",
      "nbconvert_exporter": "python",
      "pygments_lexer": "ipython3",
      "version": "3.8.8"
    },
    "toc": {
      "base_numbering": 1,
      "nav_menu": {
        "height": "98px",
        "width": "244px"
      },
      "number_sections": true,
      "sideBar": true,
      "skip_h1_title": false,
      "title_cell": "Table of Contents",
      "title_sidebar": "Contents",
      "toc_cell": false,
      "toc_position": {},
      "toc_section_display": true,
      "toc_window_display": false
    },
    "varInspector": {
      "cols": {
        "lenName": 16,
        "lenType": 16,
        "lenVar": 40
      },
      "kernels_config": {
        "python": {
          "delete_cmd_postfix": "",
          "delete_cmd_prefix": "del ",
          "library": "var_list.py",
          "varRefreshCmd": "print(var_dic_list())"
        },
        "r": {
          "delete_cmd_postfix": ") ",
          "delete_cmd_prefix": "rm(",
          "library": "var_list.r",
          "varRefreshCmd": "cat(var_dic_list()) "
        }
      },
      "types_to_exclude": [
        "module",
        "function",
        "builtin_function_or_method",
        "instance",
        "_Feature"
      ],
      "window_display": true
    },
    "colab": {
      "name": "03_자료형(학생).ipynb",
      "provenance": [],
      "collapsed_sections": [],
      "include_colab_link": true
    }
  },
  "cells": [
    {
      "cell_type": "markdown",
      "metadata": {
        "id": "view-in-github",
        "colab_type": "text"
      },
      "source": [
        "<a href=\"https://colab.research.google.com/github/mellmelt/2021_ss_winter/blob/main/03_%EC%9E%90%EB%A3%8C%ED%98%95(%ED%95%99%EC%83%9D).ipynb\" target=\"_parent\"><img src=\"https://colab.research.google.com/assets/colab-badge.svg\" alt=\"Open In Colab\"/></a>"
      ]
    },
    {
      "cell_type": "markdown",
      "metadata": {
        "id": "09081fbe"
      },
      "source": [
        "# 자료형\n",
        "자료형(資料形) 또는 데이터 타입(영어: data type)은 컴퓨터 과학과 프로그래밍 언어에서 실수치, 정수, 불린 자료형 따위의 여러 종류의 데이터를 식별하는 분류로서, 더 나아가 해당 자료형에 대한 가능한 값, 해당 자료형에서 수행을 마칠 수 있는 명령들, 데이터의 의미, 해당 자료형의 값을 저장하는 방식을 결정한다. [위키백과]\n",
        "\n",
        "- 정수 (integer)\n",
        "- 부동소수점 (floating-point number)- 실수\n",
        "- 문자 한 개 (character)\n",
        "- 숫자, 문자로 이루어진 문자열 (string)\n",
        "- 불린 (boolean)"
      ],
      "id": "09081fbe"
    },
    {
      "cell_type": "markdown",
      "metadata": {
        "id": "1cf718d3"
      },
      "source": [
        "## 숫자를 표현하는 자료형"
      ],
      "id": "1cf718d3"
    },
    {
      "cell_type": "markdown",
      "metadata": {
        "id": "af4c3601"
      },
      "source": [
        "### 정수(int)\n",
        "- 123, 100000000000\n",
        "- type() : 자료형을 확인"
      ],
      "id": "af4c3601"
    },
    {
      "cell_type": "code",
      "source": [
        "123\n",
        "print(type(123))\n",
        "print(id(123)) # 123이 어디에 저장되어 있는가? 주소 확인"
      ],
      "metadata": {
        "colab": {
          "base_uri": "https://localhost:8080/"
        },
        "id": "MfFOlug1chg1",
        "outputId": "3b89a352-f65f-47c2-e3e7-c707ee7c73be"
      },
      "id": "MfFOlug1chg1",
      "execution_count": 3,
      "outputs": [
        {
          "output_type": "stream",
          "name": "stdout",
          "text": [
            "<class 'int'>\n",
            "94187063765312\n"
          ]
        }
      ]
    },
    {
      "cell_type": "code",
      "metadata": {
        "id": "6838b4d3",
        "colab": {
          "base_uri": "https://localhost:8080/"
        },
        "outputId": "86396b59-1d23-4353-9f5f-627c5f42f7ac"
      },
      "source": [
        "i = 123\n",
        "print(type(i))\n",
        "print(id(i))\n",
        "print(i, i + 100)\n",
        "print(i * 2.0)"
      ],
      "id": "6838b4d3",
      "execution_count": 5,
      "outputs": [
        {
          "output_type": "stream",
          "name": "stdout",
          "text": [
            "<class 'int'>\n",
            "94187063765312\n",
            "123 223\n",
            "246.0\n"
          ]
        }
      ]
    },
    {
      "cell_type": "markdown",
      "metadata": {
        "id": "2a7680ce"
      },
      "source": [
        "### 실수(float)\n",
        "- 0.12  ,   123.45   100.000\n",
        "- 실수를 지원하기 위해 소수점이 들어간 숫자 데이터\n",
        "\n",
        "![image01.png](data:image/png;base64,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)\n"
      ],
      "id": "2a7680ce"
    },
    {
      "cell_type": "code",
      "metadata": {
        "id": "KkODvHFd8enn",
        "colab": {
          "base_uri": "https://localhost:8080/"
        },
        "outputId": "50948e68-e017-47d2-9aab-521f253481f9"
      },
      "source": [
        "f = 123.0\n",
        "type(f)\n",
        "print(f, f * 2)"
      ],
      "id": "KkODvHFd8enn",
      "execution_count": 6,
      "outputs": [
        {
          "output_type": "stream",
          "name": "stdout",
          "text": [
            "123.0 246.0\n"
          ]
        }
      ]
    },
    {
      "cell_type": "markdown",
      "metadata": {
        "id": "79cbc84a"
      },
      "source": [
        "### 부울(bool) \n",
        "**True 또는 False** 중 하나의 값을 가질 수 있는 자료형\n",
        "- if 조건문에서는 어떤 문장이 True인지, False인지를 판단하는 것이 중요함.  "
      ],
      "id": "79cbc84a"
    },
    {
      "cell_type": "code",
      "metadata": {
        "id": "fT52z10B8eO6",
        "colab": {
          "base_uri": "https://localhost:8080/"
        },
        "outputId": "31332a88-2394-47de-fd0c-8484471564d4"
      },
      "source": [
        "b = True\n",
        "print(b, int(b)) # True는 1\n",
        "\n",
        "b1 = False\n",
        "print(b1, int(b1)) # False는 0"
      ],
      "id": "fT52z10B8eO6",
      "execution_count": 9,
      "outputs": [
        {
          "output_type": "stream",
          "name": "stdout",
          "text": [
            "True 1\n",
            "False 0\n"
          ]
        }
      ]
    },
    {
      "cell_type": "markdown",
      "metadata": {
        "id": "pkuuiHG77F7u"
      },
      "source": [
        "# 자료형 변환\n",
        "\n",
        "\n",
        "```\n",
        "프로그래밍중 필요한 자료형으로 변경이 필요하다.\n",
        "문자 10을 연산을 위해서 정수 10으로 변경해주어야 연산이 가능한 자료가 된다.\n",
        "```\n",
        "\n"
      ],
      "id": "pkuuiHG77F7u"
    },
    {
      "cell_type": "code",
      "metadata": {
        "id": "L4efqqDKK8qw",
        "colab": {
          "base_uri": "https://localhost:8080/"
        },
        "outputId": "6e75fe5b-552d-4bba-b546-c47018b6df12"
      },
      "source": [
        "#'25' + 50 # TypeError\n",
        "\n",
        "print(int('25') + 50) # 숫자로 계산\n",
        "\n",
        "print('25' + str(50)) # 문자를 나열"
      ],
      "id": "L4efqqDKK8qw",
      "execution_count": 12,
      "outputs": [
        {
          "output_type": "stream",
          "name": "stdout",
          "text": [
            "75\n",
            "2550\n"
          ]
        }
      ]
    },
    {
      "cell_type": "code",
      "source": [
        "a = '1000'\n",
        "# b = a + 2000\n",
        "b = int(a) + 2000\n",
        "print(a, b)"
      ],
      "metadata": {
        "colab": {
          "base_uri": "https://localhost:8080/"
        },
        "id": "hvrghhmVtp1z",
        "outputId": "43851969-1622-45db-84c5-8c5b3136d7e5"
      },
      "id": "hvrghhmVtp1z",
      "execution_count": 14,
      "outputs": [
        {
          "output_type": "stream",
          "name": "stdout",
          "text": [
            "1000 3000\n"
          ]
        }
      ]
    },
    {
      "cell_type": "code",
      "source": [
        "num = float(input('숫자를 입력 : '))\n",
        "\n",
        "print(num, num * 2)"
      ],
      "metadata": {
        "colab": {
          "base_uri": "https://localhost:8080/"
        },
        "id": "PamkFdmsvGMO",
        "outputId": "7717d50a-3d15-47ad-9b37-e3a518b77a2d"
      },
      "id": "PamkFdmsvGMO",
      "execution_count": 15,
      "outputs": [
        {
          "output_type": "stream",
          "name": "stdout",
          "text": [
            "숫자를 입력 : 100\n",
            "100.0 200.0\n"
          ]
        }
      ]
    },
    {
      "cell_type": "markdown",
      "metadata": {
        "id": "RlM4nGDEK6VC"
      },
      "source": [
        "##  형변환 함수"
      ],
      "id": "RlM4nGDEK6VC"
    },
    {
      "cell_type": "markdown",
      "metadata": {
        "id": "650e2cf0"
      },
      "source": [
        "\n",
        "#### 정수로 변환하기 – int() 함수 \n",
        "- int() 함수의 인수에는 int,  bool 만 넣을 수 있음.\n",
        "\n",
        "\n"
      ],
      "id": "650e2cf0"
    },
    {
      "cell_type": "code",
      "metadata": {
        "id": "9wwQtZHo6wii",
        "colab": {
          "base_uri": "https://localhost:8080/"
        },
        "outputId": "d8e3623b-28b0-458b-f89a-b5ff877bce14"
      },
      "source": [
        "print(int('201234'))\n",
        "# int('2012.34') # float 자료형이라 Error 발생\n",
        "# int('python') # 문자형이라 Error 발생\n",
        "print(int(True))"
      ],
      "id": "9wwQtZHo6wii",
      "execution_count": 17,
      "outputs": [
        {
          "output_type": "stream",
          "name": "stdout",
          "text": [
            "201234\n",
            "1\n"
          ]
        }
      ]
    },
    {
      "cell_type": "markdown",
      "metadata": {
        "id": "zAYCm4dn6gG9"
      },
      "source": [
        "    \n",
        "#### 실수로 변환하기 – float() 함수\n",
        "-  float() 함수의 인수에는 int, float, bool\n",
        "만 넣을 수 있음."
      ],
      "id": "zAYCm4dn6gG9"
    },
    {
      "cell_type": "code",
      "metadata": {
        "id": "uA_3C12iNmn4",
        "colab": {
          "base_uri": "https://localhost:8080/"
        },
        "outputId": "cf7e5d12-5597-414a-947c-c06e7412420e"
      },
      "source": [
        "print(float(12345))\n",
        "print(float('123'))\n",
        "print(float(True))"
      ],
      "id": "uA_3C12iNmn4",
      "execution_count": 19,
      "outputs": [
        {
          "output_type": "stream",
          "name": "stdout",
          "text": [
            "12345.0\n",
            "123.0\n",
            "1.0\n"
          ]
        }
      ]
    },
    {
      "cell_type": "markdown",
      "metadata": {
        "id": "2a_Wn9hB6hti"
      },
      "source": [
        "\n",
        "#### 문자로 변환하기 str() 함수\n",
        "\n",
        "   - str() 함수는 () 안의 값을 무조건 문자로 변환해준다."
      ],
      "id": "2a_Wn9hB6hti"
    },
    {
      "cell_type": "code",
      "metadata": {
        "id": "i0-jOJvG6upL",
        "colab": {
          "base_uri": "https://localhost:8080/"
        },
        "outputId": "84f4be93-398f-47d2-d87e-172b53a87c7f"
      },
      "source": [
        "print(str(123.456))\n",
        "print(str(1000))\n",
        "print(str(True))"
      ],
      "id": "i0-jOJvG6upL",
      "execution_count": 20,
      "outputs": [
        {
          "output_type": "stream",
          "name": "stdout",
          "text": [
            "123.456\n",
            "1000\n",
            "True\n"
          ]
        }
      ]
    },
    {
      "cell_type": "markdown",
      "metadata": {
        "id": "1c932ecc"
      },
      "source": [
        "**문제1  -   문자열을 정수로 변환**\n",
        "<br> 문자열 '720'를 정수형으로 변환\n",
        "<br> s = '720'"
      ],
      "id": "1c932ecc"
    },
    {
      "cell_type": "code",
      "metadata": {
        "id": "whR_Y3Em6yYu",
        "colab": {
          "base_uri": "https://localhost:8080/"
        },
        "outputId": "f1bc94e8-e609-4b1b-c47a-af198a22e9f6"
      },
      "source": [
        "s = '720'\n",
        "s = int(s)\n",
        "type(s)"
      ],
      "id": "whR_Y3Em6yYu",
      "execution_count": 21,
      "outputs": [
        {
          "output_type": "execute_result",
          "data": {
            "text/plain": [
              "int"
            ]
          },
          "metadata": {},
          "execution_count": 21
        }
      ]
    },
    {
      "cell_type": "markdown",
      "metadata": {
        "id": "9e73b53b"
      },
      "source": [
        "**문제2  -   정수을 문자열로 변환**\n",
        "<br> 123 를 문자열로 변환\n",
        "<br> i = 123"
      ],
      "id": "9e73b53b"
    },
    {
      "cell_type": "code",
      "metadata": {
        "id": "r9O6iI-q6zEi",
        "colab": {
          "base_uri": "https://localhost:8080/"
        },
        "outputId": "2d1b71fa-c396-4659-d1c1-56b4ceac2e2b"
      },
      "source": [
        "i = 123\n",
        "i = str(i)\n",
        "type(i)"
      ],
      "id": "r9O6iI-q6zEi",
      "execution_count": 22,
      "outputs": [
        {
          "output_type": "execute_result",
          "data": {
            "text/plain": [
              "str"
            ]
          },
          "metadata": {},
          "execution_count": 22
        }
      ]
    },
    {
      "cell_type": "markdown",
      "metadata": {
        "id": "5db703b2"
      },
      "source": [
        "**문제3  -   실수을 문자열로 변환**\n",
        "<br> 3.14 를 문자열로 변환\n",
        "<br> f = 3.14"
      ],
      "id": "5db703b2"
    },
    {
      "cell_type": "code",
      "metadata": {
        "id": "eRFPAH7P60Am",
        "colab": {
          "base_uri": "https://localhost:8080/"
        },
        "outputId": "4f18cc0e-d260-4001-cc64-83e52924ca37"
      },
      "source": [
        "f = 3.14\n",
        "f = str(f)\n",
        "type(f)"
      ],
      "id": "eRFPAH7P60Am",
      "execution_count": 23,
      "outputs": [
        {
          "output_type": "execute_result",
          "data": {
            "text/plain": [
              "str"
            ]
          },
          "metadata": {},
          "execution_count": 23
        }
      ]
    }
  ]
}