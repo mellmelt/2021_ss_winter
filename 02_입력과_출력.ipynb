{
  "nbformat": 4,
  "nbformat_minor": 0,
  "metadata": {
    "colab": {
      "name": "02_입력과 출력.ipynb",
      "provenance": [],
      "collapsed_sections": [],
      "include_colab_link": true
    },
    "kernelspec": {
      "name": "python3",
      "display_name": "Python 3"
    },
    "language_info": {
      "name": "python"
    }
  },
  "cells": [
    {
      "cell_type": "markdown",
      "metadata": {
        "id": "view-in-github",
        "colab_type": "text"
      },
      "source": [
        "<a href=\"https://colab.research.google.com/github/mellmelt/2021_ss_winter/blob/main/02_%EC%9E%85%EB%A0%A5%EA%B3%BC_%EC%B6%9C%EB%A0%A5.ipynb\" target=\"_parent\"><img src=\"https://colab.research.google.com/assets/colab-badge.svg\" alt=\"Open In Colab\"/></a>"
      ]
    },
    {
      "cell_type": "markdown",
      "metadata": {
        "id": "d6TqtDX0YqJV"
      },
      "source": [
        "# 1. 출력 함수 - print()\n",
        "- 모니터 화면에 결과물을 출력\n",
        "- 출력할 문장(문자열)은 ‘ ’ 또는 “ ” 로 감싸야 한다.\n",
        "\n",
        "- end 인자\n",
        "  - print함수 마지막 효과를 변경 (기본값은 개행)\n",
        "\n",
        "- sep 인자\n",
        "  - 콤마로 구분된 문자열을 다르게 결합 (기본값은 공백)\n",
        "\n",
        "- file 인자\n",
        "  - 출력 결과를 파일, 표준에러처리로 보낼 수 있다."
      ]
    },
    {
      "cell_type": "code",
      "metadata": {
        "id": "rpEM98UU_pbX",
        "colab": {
          "base_uri": "https://localhost:8080/"
        },
        "outputId": "393536fa-7518-4354-b9af-a6457958a178"
      },
      "source": [
        "10+20"
      ],
      "execution_count": null,
      "outputs": [
        {
          "output_type": "execute_result",
          "data": {
            "text/plain": [
              "30"
            ]
          },
          "metadata": {},
          "execution_count": 5
        }
      ]
    },
    {
      "cell_type": "code",
      "source": [
        "100*345"
      ],
      "metadata": {
        "colab": {
          "base_uri": "https://localhost:8080/"
        },
        "id": "0ib2VUpUI9XX",
        "outputId": "10685f3a-7177-401d-d2c4-ecde1520196e"
      },
      "execution_count": null,
      "outputs": [
        {
          "output_type": "execute_result",
          "data": {
            "text/plain": [
              "34500"
            ]
          },
          "metadata": {},
          "execution_count": 6
        }
      ]
    },
    {
      "cell_type": "markdown",
      "metadata": {
        "id": "IS3CZDa6Y4DX"
      },
      "source": [
        "##  출력해보기\n",
        "- 문자  \n",
        "    - 홍길동, 문제를 위한 파이썬\n",
        "- 숫자\n",
        "- 수식"
      ]
    },
    {
      "cell_type": "code",
      "metadata": {
        "id": "I4teK-Dz_sjz"
      },
      "source": [
        "홍길동 # 따옴표가 없다 : 변수"
      ],
      "execution_count": null,
      "outputs": []
    },
    {
      "cell_type": "code",
      "source": [
        "'홍길동' # 따옴표가 있다 : 문자열"
      ],
      "metadata": {
        "colab": {
          "base_uri": "https://localhost:8080/",
          "height": 36
        },
        "id": "zuMTOxKjJ6A6",
        "outputId": "a92f4cc0-fe5a-48f2-fec7-88da761b1ff1"
      },
      "execution_count": null,
      "outputs": [
        {
          "output_type": "execute_result",
          "data": {
            "application/vnd.google.colaboratory.intrinsic+json": {
              "type": "string"
            },
            "text/plain": [
              "'홍길동'"
            ]
          },
          "metadata": {},
          "execution_count": 8
        }
      ]
    },
    {
      "cell_type": "code",
      "source": [
        "100"
      ],
      "metadata": {
        "colab": {
          "base_uri": "https://localhost:8080/"
        },
        "id": "cQ8ngmlrKZ5n",
        "outputId": "eadee274-5f09-4f3c-cc49-64acba1c3b38"
      },
      "execution_count": null,
      "outputs": [
        {
          "output_type": "execute_result",
          "data": {
            "text/plain": [
              "100"
            ]
          },
          "metadata": {},
          "execution_count": 9
        }
      ]
    },
    {
      "cell_type": "code",
      "source": [
        "7*7*3.14"
      ],
      "metadata": {
        "colab": {
          "base_uri": "https://localhost:8080/"
        },
        "id": "zURmFDrpKhoD",
        "outputId": "c40d55e5-e99d-4984-f06a-a050a41cd58d"
      },
      "execution_count": null,
      "outputs": [
        {
          "output_type": "execute_result",
          "data": {
            "text/plain": [
              "153.86"
            ]
          },
          "metadata": {},
          "execution_count": 10
        }
      ]
    },
    {
      "cell_type": "markdown",
      "metadata": {
        "id": "WxbG_P5IY4Gs"
      },
      "source": [
        "##  출력해보기 (print 함수)"
      ]
    },
    {
      "cell_type": "code",
      "metadata": {
        "id": "aQQARv_1_weR",
        "colab": {
          "base_uri": "https://localhost:8080/"
        },
        "outputId": "42ddd037-478b-4784-8c54-30aaaf4d996e"
      },
      "source": [
        "print('홍길동')\n",
        "print(1500)\n",
        "print(4*5)"
      ],
      "execution_count": null,
      "outputs": [
        {
          "output_type": "stream",
          "name": "stdout",
          "text": [
            "홍길동\n",
            "1500\n",
            "20\n"
          ]
        }
      ]
    },
    {
      "cell_type": "markdown",
      "metadata": {
        "id": "NGM9wNlyZXN5"
      },
      "source": [
        "##  문자열\n",
        "- 문자열이란?\n",
        "    - \" \", 또는  '  '  안의 문자열"
      ]
    },
    {
      "cell_type": "code",
      "metadata": {
        "id": "Q-RC3PIF_yrI",
        "colab": {
          "base_uri": "https://localhost:8080/"
        },
        "outputId": "71b378c5-9c4d-4550-fe48-a88851ac696d"
      },
      "source": [
        "'python'\n",
        "print('python')"
      ],
      "execution_count": null,
      "outputs": [
        {
          "output_type": "stream",
          "name": "stdout",
          "text": [
            "python\n"
          ]
        }
      ]
    },
    {
      "cell_type": "markdown",
      "metadata": {
        "id": "n8q1kyglZXYN"
      },
      "source": [
        "- print()함수에서 문자열 연결 ( , )"
      ]
    },
    {
      "cell_type": "code",
      "metadata": {
        "id": "QR_AzSpL_zgE",
        "colab": {
          "base_uri": "https://localhost:8080/"
        },
        "outputId": "97d4c69f-929d-4a0c-b797-ffb66978b1da"
      },
      "source": [
        "print('python', 'Hello', 'world', 'class')"
      ],
      "execution_count": null,
      "outputs": [
        {
          "output_type": "stream",
          "name": "stdout",
          "text": [
            "python Hello world class\n"
          ]
        }
      ]
    },
    {
      "cell_type": "markdown",
      "metadata": {
        "id": "v9BjimWqZXar"
      },
      "source": [
        "- print()함수에서 문자열 연결 ( + )"
      ]
    },
    {
      "cell_type": "code",
      "metadata": {
        "id": "hFTGmQSZ_3gL",
        "colab": {
          "base_uri": "https://localhost:8080/"
        },
        "outputId": "349af10d-bf45-41ad-b255-78a79f3ff412"
      },
      "source": [
        "print('python' + 'Hello' + 'world' + 'class')\n",
        "print('python' + ' ' + 'Hello' + ' ' + 'world' + ' ' + 'class')"
      ],
      "execution_count": null,
      "outputs": [
        {
          "output_type": "stream",
          "name": "stdout",
          "text": [
            "pythonHelloworldclass\n",
            "python Hello world class\n"
          ]
        }
      ]
    },
    {
      "cell_type": "markdown",
      "source": [
        "정의되지 않은 변수를 print()함수에 넣으면 NameError가 발생한다."
      ],
      "metadata": {
        "id": "FvtbfifraXmA"
      }
    },
    {
      "cell_type": "code",
      "source": [
        "print('python', 'world')\n",
        "print()\n",
        "print('python', 2021)\n",
        "print('python', 2021 + 1)\n",
        "print('python', world)"
      ],
      "metadata": {
        "colab": {
          "base_uri": "https://localhost:8080/",
          "height": 287
        },
        "id": "GdysZXZCMzCs",
        "outputId": "95743208-6e26-4e02-8d99-75e037d163ce"
      },
      "execution_count": null,
      "outputs": [
        {
          "output_type": "stream",
          "name": "stdout",
          "text": [
            "python world\n",
            "\n",
            "python 2021\n",
            "python 2022\n"
          ]
        },
        {
          "output_type": "error",
          "ename": "NameError",
          "evalue": "ignored",
          "traceback": [
            "\u001b[0;31m---------------------------------------------------------------------------\u001b[0m",
            "\u001b[0;31mNameError\u001b[0m                                 Traceback (most recent call last)",
            "\u001b[0;32m<ipython-input-15-6904b100ea1e>\u001b[0m in \u001b[0;36m<module>\u001b[0;34m()\u001b[0m\n\u001b[1;32m      3\u001b[0m \u001b[0mprint\u001b[0m\u001b[0;34m(\u001b[0m\u001b[0;34m'python'\u001b[0m\u001b[0;34m,\u001b[0m \u001b[0;36m2021\u001b[0m\u001b[0;34m)\u001b[0m\u001b[0;34m\u001b[0m\u001b[0;34m\u001b[0m\u001b[0m\n\u001b[1;32m      4\u001b[0m \u001b[0mprint\u001b[0m\u001b[0;34m(\u001b[0m\u001b[0;34m'python'\u001b[0m\u001b[0;34m,\u001b[0m \u001b[0;36m2021\u001b[0m \u001b[0;34m+\u001b[0m \u001b[0;36m1\u001b[0m\u001b[0;34m)\u001b[0m\u001b[0;34m\u001b[0m\u001b[0;34m\u001b[0m\u001b[0m\n\u001b[0;32m----> 5\u001b[0;31m \u001b[0mprint\u001b[0m\u001b[0;34m(\u001b[0m\u001b[0;34m'python'\u001b[0m\u001b[0;34m,\u001b[0m \u001b[0mworld\u001b[0m\u001b[0;34m)\u001b[0m\u001b[0;34m\u001b[0m\u001b[0;34m\u001b[0m\u001b[0m\n\u001b[0m",
            "\u001b[0;31mNameError\u001b[0m: name 'world' is not defined"
          ]
        }
      ]
    },
    {
      "cell_type": "code",
      "source": [
        "world = 'Korea' # world는 변수(할당 연산자)\n",
        "print('world', world)\n",
        "\n",
        "x = 1000\n",
        "print('x', x )\n",
        "print('x', x * 4)"
      ],
      "metadata": {
        "colab": {
          "base_uri": "https://localhost:8080/"
        },
        "id": "DntxZChVNlTc",
        "outputId": "e0daf74e-1c54-431a-be89-9349b96ca926"
      },
      "execution_count": null,
      "outputs": [
        {
          "output_type": "stream",
          "name": "stdout",
          "text": [
            "world Korea\n",
            "x 1000\n",
            "x 4000\n"
          ]
        }
      ]
    },
    {
      "cell_type": "markdown",
      "metadata": {
        "id": "17YyJZEtZqfX"
      },
      "source": [
        "### print()함수의 오류 \n",
        "- 문자열과 숫자를‘+’로 연결할 때는 TypeError 발생"
      ]
    },
    {
      "cell_type": "code",
      "source": [
        "print(100 + 'python')"
      ],
      "metadata": {
        "colab": {
          "base_uri": "https://localhost:8080/",
          "height": 175
        },
        "id": "KZQ65lXJPHEy",
        "outputId": "9500e29f-e805-4d1f-8ff2-7bbd7267b5ea"
      },
      "execution_count": null,
      "outputs": [
        {
          "output_type": "error",
          "ename": "TypeError",
          "evalue": "ignored",
          "traceback": [
            "\u001b[0;31m---------------------------------------------------------------------------\u001b[0m",
            "\u001b[0;31mTypeError\u001b[0m                                 Traceback (most recent call last)",
            "\u001b[0;32m<ipython-input-17-3b8437eb2653>\u001b[0m in \u001b[0;36m<module>\u001b[0;34m()\u001b[0m\n\u001b[0;32m----> 1\u001b[0;31m \u001b[0mprint\u001b[0m\u001b[0;34m(\u001b[0m\u001b[0;36m100\u001b[0m \u001b[0;34m+\u001b[0m \u001b[0;34m'python'\u001b[0m\u001b[0;34m)\u001b[0m\u001b[0;34m\u001b[0m\u001b[0;34m\u001b[0m\u001b[0m\n\u001b[0m",
            "\u001b[0;31mTypeError\u001b[0m: unsupported operand type(s) for +: 'int' and 'str'"
          ]
        }
      ]
    },
    {
      "cell_type": "code",
      "metadata": {
        "id": "JoMm_9wa_7pj",
        "colab": {
          "base_uri": "https://localhost:8080/",
          "height": 213
        },
        "outputId": "546aba9f-a7e8-4548-ddd2-f2ada654bf56"
      },
      "source": [
        "print('python' + 'fun')\n",
        "print('python' + 100)"
      ],
      "execution_count": null,
      "outputs": [
        {
          "output_type": "stream",
          "name": "stdout",
          "text": [
            "pythonfun\n"
          ]
        },
        {
          "output_type": "error",
          "ename": "TypeError",
          "evalue": "ignored",
          "traceback": [
            "\u001b[0;31m---------------------------------------------------------------------------\u001b[0m",
            "\u001b[0;31mTypeError\u001b[0m                                 Traceback (most recent call last)",
            "\u001b[0;32m<ipython-input-18-e420f1bf1c85>\u001b[0m in \u001b[0;36m<module>\u001b[0;34m()\u001b[0m\n\u001b[1;32m      1\u001b[0m \u001b[0mprint\u001b[0m\u001b[0;34m(\u001b[0m\u001b[0;34m'python'\u001b[0m \u001b[0;34m+\u001b[0m \u001b[0;34m'fun'\u001b[0m\u001b[0;34m)\u001b[0m\u001b[0;34m\u001b[0m\u001b[0;34m\u001b[0m\u001b[0m\n\u001b[0;32m----> 2\u001b[0;31m \u001b[0mprint\u001b[0m\u001b[0;34m(\u001b[0m\u001b[0;34m'python'\u001b[0m \u001b[0;34m+\u001b[0m \u001b[0;36m100\u001b[0m\u001b[0;34m)\u001b[0m\u001b[0;34m\u001b[0m\u001b[0;34m\u001b[0m\u001b[0m\n\u001b[0m",
            "\u001b[0;31mTypeError\u001b[0m: can only concatenate str (not \"int\") to str"
          ]
        }
      ]
    },
    {
      "cell_type": "markdown",
      "metadata": {
        "id": "RnoUtBp5aie5"
      },
      "source": [
        "### print()에서 특수문자 출력\n",
        "![image01.png](data:image/png;base64,iVBORw0KGgoAAAANSUhEUgAAAdYAAACJCAIAAAAe146bAAAgAElEQVR4nOx9ZZgcx7X2KWgc3tlZ5tWKmcEkyzI7pus44HByA1/ohm5uyIrjxLHjOHESMztxzCCjmJlXvKTl3Vkebqyq78dIsmSSktiJYd8ftp7anp6a7rdPnzp1znuQEAKGMYxhDGMY/wng//QEhjGMYQzjowuyaNGiJsf6Y/3esf7QuoFomrkBSX6qqyVXVpb1dqmYAEIvRNtKNc89rXW9puGVpFd7OkZ6AxsHe1uMdIa56wd6arz+Jb1dGe5GTePulsMTAzkr+rsFgILJM12t+Yr6Sk9HQJINxl7u6SjWPH86csjkLsZoZV/XKG9gzUC0xzL7bXt7rL/K43sp2u4CP5JOPtzWMCGQ81pvh04oQvB8d1uhqi2OtucrWp9tLuvtKtT02xv3C4QMzjYN9tV4/Mv6ulKu22Vl9iVi5brnue42ivDe+MAznc1j/aEXo205spJh7qs9ncWafnvzIYO5CGDNQE9EUf/QsE8jUp9t7oj3V3n8L/d0AKDGdOKhtsaJgZwlvR06pRsHe16Lto/0BZ/vbi1QtD7HXNHXVajqtzYdoAiZjG0d6gvKyq31e3MVtSWT3p8cKte9z3e3ShjXxgef6moZ7w+93NOeIytLe7tW93XXeAPPdbWW655WI7VuoCeiaL9v2OehUr9t7U0MeSm9uWFfme49nIo3phMlqueZrhYvlTYN9rza0zHKF3wx2l6oas92tW6PDVR6fM93t47w+A+l4tuG+gOSfFvDvhxFbcmkG9IJjNDvG/eP9Pl3xwa7TaNA0Z7qasmRleU9nesHuiu9/sXd7YWq/veOI4dS8SJVX9zdPsob2JsY2pcYUgm5rX5fseY5kIy1m2mTsb80HRzlD24a7E0xN0dSnu5qKVD1Z7tad8X6S3XP4u62Ys3zcEt9h5n2S/KrPR2jfIGtQ33NmSRC6NaG/SO8/h2xgQHHsjj7S+OBMf7Qqv5uRwgflZ7pbinRPH/taDqcihep2uJo+0ivf1dsYH8yDgDL+rpGeQNrB6JRyzQYu73pwDh/aONgb4a5rZn0Q6114/w5r/V0SghjhJ6PtpZonvtb67tMIyTLS3u7Iop2a+N+BGBxtra/p8brX9rbGXPtAcu8p/nwuEDOyr4oF8InSU91tRao2qs9HT4qmZy91NNRonnuOXIo5toE4yxv1w30RE0j7jpbhvqqPf6Xe9otzloyqUdaG8b5Q6/1dCkYE4Sej7YVq54Xo+15ijrkWkt6u4pU/c9NB1whstMY6Q0s6+tKum63ZexLDlbqvsXRdoTQ/sTQk+1N4wI5L/W0+6hkcv5ST3uhqi+Otlfo3i7TWNMfLVC13zfuUwkZcOytQ/1VHt/LPe02503pVGM6WaZ5nutu9VJpy1Df891tY33BF6KteYo26JhL+7rCkvJCtL3a42tMJ7bF+nMV5bcN+8Ky2mkatYnBCt37fHcbBrQ/GWs30oWq/nRXS46srOjrXt7XOdIbeCHaVqZ5Osz0moFoQJIXd7fVeAN7k0N7E0NeKt3SsK9E9zSkE43pZKnmeba7VcN0e6x/wLbCivJkR0ueqr4Ubds82Ffl8T/f3Vbj9Temk1uG+jxUeqWnfaTXv22ovz6VoAj9sWF/ucdXGx+MWkaBqj/d1RKSlA2DvQZnPio/2dlSqGpPdx7ZnxgqUPUXom2jvP59iaF9iZhfkn5TV5unaEfSyZZMyhb8jqYD1d7A5qG+mGOFZeXprtYiVX++u23rUF+Vx7c42laseR5ua2jLpAKy/FK0fZQ3sG2orzGdoAjf2ri/xuuvTQz22mbMse8+cjDLW5NzP5We6mwp1vTHO44cTMaKdc/LPR3Fqn5Xy+FBx1YIXtLbOdIbWDcQbTcytuB/btxf5Q0EJPmoCb6xve7mLat9uufmhn09RjqsaJdvWporqz8+sF2nUtq1r922OldRv793y95kLO44P9y39Zriih8d2LGqt7M5k7y5rva/Sio/u2Pd4VRi01DvHfu3+3Tvzw7u4oIThK/esiKiqt/bu6VI8zRnkl/etT6iaD/cs7HBSLcZ6Z8e2vXp4qqv7N60Y7BvT3zg3iOHLi0s//i2lX2Wuayn6+5Du0K693/2bQtJUsJxr922KldR/t+ezeP9wa1D/T/YtyUoKT/atb7LdQ4khn7bsO9TJVXXbF9Tl0qs7u9+suPIBfkll25aZnP+XFfzvfX78nTvt2o3l+veI+nEF3ZvCMvKj3ZtbDLT7Ub6dw17VYL/b+f6GIgtg733NB++orD8iq0ro5bxam/HfYd3hz2+Hx3Y4XL+cFvDg82HClXPN3ZvHOsPbR3s/Z992wKS/JNd69tde19i8I7mw0yI63euszBZ2tP5VOeR8yLFl29ebjD2dGfzAw37I7r32/u2EoT+eOTg4+1NEUX92u4Ns3LyXo623Xh4j47JT3auHwLYMNDzSFtjwrV/vXMDk6UnO5pX9nbOCedfvHEpxejBlvoHmw/nq55v7d2iEXpDXe3iaLuP0m/s3nheXtGDbfV/aTyAEPxi51qbSkuibS9G26Jm5uZdG7Ci3dNSvzvWPyWYs3DDEh+lf2w68ER7U0TRvlu7JSDLPz2wc/VADwL4Zu3GK4vKb2nc90hbQ9p1frVzPcjyUx1H1g1Ej6STt+zZpOue3zXsbzPSlZr3go1LApJ8Q92e16IdXiJ9f+/WsKx+b9+W3YnBjOt+d++WTxRX/vjgzsXRjk4j87vd6yVFva+lfk+sf2Iw57NbV/lk5deH96SY66X08k3LcxT1hwd2rhuIIkDf3LPpsoKyWxv3P9HeFHOsnx7YeU1J5Xf2blk/0FOXiv9h72ZV9dzauL8xlVjb333nwZ15Hv+PD2yXCDGZ+4ltq/NV7bt7t+yKD6aY84P922cFI784vGtvfLA5nfxt3Z6riiu/vHP9oVR8Z2zg9n3bArr354d3G9z1Enr5pmU5svq9vVuLVK3NyHxl57o8Vfuf3RsbjHTUMn58YOd1pVVfqd20YbBnb3zwL02Hriwqv2brym7TWNvffcehnRGP738PbNcIMRj7+LZVYUX5xp7N4/yB3bHBb9VuCsvKD3et73KshnTiN3W1Hy+p+tzOdfuTQ2v6o4+0NV5eWHrBpuUp117c3XZvXW2Bx/fd2s0Fqt5upL6wc32OrHx998bZOXnLejt/fHCnh9Cf7Fw7yPnOWP9dRw5eVlj+ia2ropbxcrTtpWj7gkjBuRuXMhAPtzU9cuRgvu75xu5No32BnbGB7+3dHJTlb+zeOD+v6PH2pt827AMQi3auS2K8srfrsfbGCwtKP7Z5ucHY39ubNg30Tg2Gz9+4VMbkT0cOPdbWGFbUr+3eOCuUu6S38/qDu3RKvrln0wUFpXcdOfhAS53J2A0711tUerqr9ZWe9vNyCxdsWIIB7m4+3JCMVXh8l2xaGpDlm+v3PtPd5qfSN/ZsOC9S+Nf2I7c07uMgvrtnyxVF5Tce3rO4q2XAsW/ctZ4o6gOt9VtifTOD4XM3LFEI+W3D3iHLCsny5ZuW5SraLw7tXNnXLRH8zd2bLi0su73xwH2tDXHHvmn/9hnhgj80HVjd19VqpG7etdGre/7ctL8+laj2+C7csNQryTfW732uuzVApW/v3ZIjK9/bt3V3bMDm/H/2br68qOLGQ7uf627rtc3f7toIinp/a8P2of69icE/7N2So3t/XVc76FgBKl+xZVlY0X52cOeK/ihB6Dv7tuXIyvf3bDqUig/a1v/t23ZlUeUP929d39/TmknesmtjxB84M1wAABQAvldco0w1riuuHOnxFyjaSN171+R583PzCxVtQiAYpPLdk+eeHyk0mFupeSb7c6p0b5Gifb96LALIldXZoUhEkm8YMzlP1gCgWNGvLSwvVz0jPN5iVb9r8twFuQU5kjI7lEsQunPSnPMjRbFx08f7Q9W6b5IvFJaln42a4CVUw/TivOICWb553IwqjzflOOP9gWsKyyKSMjEQChLp7slzzg0XBqk8K5RrMpYrzT43tyA2YebsnLwcRT0znB8g5Dejp+SrGud80LHzqPzHCbMm+IPdRsGZOflXFZT5KJ0TiiBAd02avTC3KDHenugPVnp80wI5Z+TkxSbOOi9STDG+pKAkV5J+N25ate6Luc4EX/DqgtIIlacEc6YFco4UlF5RWKphMjuUm3HdXFmdn5s/MH7GvJz8sKycl1swNRBOTZxzeUGpwdmgYxfIym0TZk0IBDsz6bPC+VcXlAYonRPKrda8fZZxZUGpTshkf6hQUcd6A2fk5A0enQbqtc2x3kDGdT9VXNlnmw7nRbLy54mzZ4YiU/05TenElQWlHkLOCeeHJNni/PL84gChNR7vdcVVZ4fzZwTCiQmzrygqTzGWYW6F7uVCfKa48oxQRCGkQFbvnjz3zHBepe4dMM0rCso8hCzILVQQUjCZn1uQJyvFivbl0hFDhfZYb9BynU+WVEUtEyGISKqG0CeLKsd7g2FJKVG0uyfPm5+bnyPJLmcX55cGJen8SBFjbr6qTQ2GyzRPvqx8p2qMy0WZpiPBryuumpuTp2Ay1uO/b8bZc4J5I3Rfue4p1713T5m7MLeQANIJmZ9bkC/LFZr+3+UjY45d7fGN9gQKZfVHNRM0TPIVzUulz5dUjvcFChXV5ny0x39VYWlEksf6gzmycvfkuefnFVquW6hq04LhctUzP5z396lnpZlbqGgzQ7kFknL9mCkRWZUQKpCVjxeVl2ueCt1bpul3T5k7P1wQkZUZwbCCyV8mzTk/ryg1fsZIX7DG4x/rCYao9JMREzSCvUS6IFKUJ0k3j5tRrnssxkZ7/FcXluVKynh/MEdS7p4099zcgiCVZgVzHc7/NHH2ebmFiQkzpwcjeao2M5ibS6VfjpqcqygCoN+2gkS6fcKMsb5Aj2XODYavKCjzUWlGMFfB+K5Jc84OFwQoHecNFCpqmaafFc6PTZh9bm6hTsn5kaICSblp3PQKzZPirsFYWJLvmjh7SiA8Oxg+nFd0ZUGpB5M5oYjNeWjC7DPCeX4ijdJ9WlHFjGDuzGB4aOLsywvKmBB9tpknyX8YP3OsP3CBWYQRKlG0uyfNmZsTqfH4ukzj6oJSPyET/aFiVa/WvbNDkRBVRujez5eOuCS/dKIvmHSdjxdVDDq2yVmOJN0xafa0QM6cnEiAStWa5+7Jc8/JLSiQlBRjlxWUBAit0r3XFJbNDIYn+0Mlil6u6t+sHJ3hbo3uc5n76ZKqs8N5FOOIpNw9ac7sUO4EX6BY9VTr3rumzFsYKfJgRDGZHykMU7lc0T9fNuKygtIaj3+kx3dtUXlYlimgAkVVBfpEUcVEfzAoKeWqfveUOeeEC8KynHHZlQUlQSotjBQC5xFZnRGKFCpquap9o2qMxVmV5nU5/0xx5dk5EZ1QnZAIla4pKq/QfCWaXuXJTqNQQUjGeEFuYZ6kLIwUGeOmj9C9YwM5NbqvVFF/MGI8RbhM0/1E/kL5yGwgAgkhViUHb9i18Rdjps7PLUg4ji2Yl0gGYyohFmdMCA+hGcY8lDAhbM5VTJKuoxEKIJgQEiYp1/ESiQkuADRCUq6rEOxw7gjhpdRwmUqIyV0hQCc0w5iXUptzJriMSdJ1PIRyACEExSjlul5KXS4QAhWTpOtqhJiccSE8hBqMaYRkmIsQUjExGPNSanHGBcgYJ13HSynjAhBgQGnm+qhkc0YQljFOHTuVANAxOT4NVwgFY4MxH6UGZwBAUXYaksM5PmEaFmcSwhSjtOtqhBqMZSd54jQkjCzOvVTKuC4+aRqcIHTiNBSECUJpxnRC0swlCCmYHJ0GYwBAELIF91KacRlBCAAyzPVR6dg0cNp1dUIMzlRMEECGMZ2QFHMlhCWMLc68hGYYwwgQIFdwD6Fp5lKEBQiTMR+VDMYUgjGgDHP1Y5dXAJiMaYQkXTe7lHYE95wwDSaETkjKdWWMmRAW59k5q4QAgMmYSojJXJ3SNxEGjk9DQpgfm4bJmEyIw5kjRHbO+ttMQzlGGJ2Sv3c039N8+PoxUxeE8xOum70XKdd9I28JYULYgquYJFxHIxQBMCGyhPEQykEIARqlKcd5nbfk6C8yORMCdEIyzPVSyeacCaFgnDiJtzjlOl4quZwDgEqOTsM+No234S3nxx4BL6FMCIGAnEAYjJCCccp1NEJNzoQQx+/RGwhjMiYATn58EAZIHyUMlxCSjnHvOG+zlzfF3OxfLc69x1hNAKVOeHwEgMncbExGxpgglHZf562MiZU9letm/2oLnr2PBCF08jSYEBZnPioZnKmIIHQib5GEsc24SkjSdVRCMBzlXtpl9Ngj4D82DZeL7BcZzFUJhbcnjE7oUd5SknZdCb2RtwhBxmU6IdnJcHidtydP4+jjwwXoRwlDHM6dY7/3KG85y95lDyGuENlppFxHI8RD6FNdrfccOfjrCbPm5uQdNcHrUkO/q932w5ETJgVyTMb+vcHoYQzjn4FGyNLerofbGn5YM2HKMG+H8QGBRsj6/p57Ww7/bOy0GcFcyJpgANgTHyxXNZvz//QMhzGM0wIGQAi1mpkqzTPM22F8UIAR6jIyDKGpwfDREQB4dKBr3uoXVvZ3+6j0H53eMIZxuvBQ6cG2xjPXvLS0r9tH6X96OsMYxmnBR6S7mw/PW/Xci9H27AhZtGhRgaKqCJ8fKaYIDbsTw/iAAOXIckhWL8ovlhAe5u0wPhAQIMb5QxHNc2lhWdblxQCwPj7wUlfr/uSQgsl/eobDGMZpQcJo02Dfs90t9anEMG8/avjgVvRKCK/v73mm/cjhZDw7QgGg1TIaEkPdpkExguFdjWG874EACKD6dCIsySWa7g4X2X9ggRAcv3sYI4JO+ivjgp9wbwUAJVinCAEwLjLO0T8iBMc/xwUgjCQMtisQAEJHBwEhhSDHPd19A4IRCMEEAAAlGAR3OCCEZIokjDCAw4Xtcv5W1BMAGCGMAGMkOHf40ekhAIJQXSbhlZVSTT96BYQQaYB7Gw9cW1wuIcyH2fyBQvbWfgTvmYRwj23ujg9eECli4i0fhGG83yEAJIKREA4XCIFtsbTDX/8TxR45mwZ5FJqMYzFjc9RyhQj5lNnFHmDMZoCzOgsISRgBgGnYg5YI+ySMUPYvQgjXYX0pN+hXVIJkimV04lMjMjZn8LodRwCm5WKJyhgQgqGkDZTmeIgEoq03XT/kpAWqCCqjC3QquM0BHfstKkGuEBJGadMxXJEyXKpIIRUfJ6iEca9pHkwnLi8sy/42CgDPD3X/6uDOElW/JL8o6brv3RUfxr+ILC8RFzYThCCFYsGFAMAYCcZNdpIhUiV8ok8hBBgO5wAIACPIckImCAABCIuJk/0PAACEkIRBAEIgLFdkHRZKsYzAcN/KmUBAMRJcMAECQKYYOLcZIASUnDiOgAsGRx8YABBC2EzIFHEujrsM7wyVkJd7On66f/tD08+6sqAs6TqnfRWH8f4AQqpwntnaX1KdOycicRAt0cSTjUkLEEFAgNf3O1fNLr22WkvZHAAwiM6+zMH2+Nq2DBMQCmgyF1URLSDsx7f1HUgLzJmsal+dFYk29a/oIz8+v+jAwe6/1iXBq31jXnGRnfrLmr7PXVw5ifLa1mSXIygGECAAPIo0OqLqBI471Rq4j27pKhldeGmJIoCtrY3ahXn/PUr5+8auQ2lR4pccgO7O+JIm7Qsz83KocDlQBENxoyHuBGRiCGHFM3VpbvQboaq8z432JO2jz4uGydK+zv/bt/Wx2QuvLCyDrAm+LFTQOWbK7FBuZji58n0GAaDLRDpmMV3u7m0cZF7PlELVNKxV+4bqYnZKQIGuTKsJjQpSmwkAQAgJ19ncmIi6yK8QDDxlMSLJsyt9PookDIwJWcKm4Rzus1zbTSJpZqnOjn1WlTBCgBEkEmZj3OW2k6LyjCLNZUKVcHtnrMGm51R6nZOtMEJIxmIo7eiaJBPggtXWD8k5vrG5MhZ8KO2omqQQEILvbxwiAW+ZB7WmmS4hx+VCkkp0tKUuHi4IjPATh53aqbUYuzBS5J889+xwfpoN+w3vC2SdQQRAELgCJAxMAAbACBwOKgaLg4+CAEi4AEJQWdIda1Nzam5BGDMWyzgGIhEvBQAKXBpy3WOeKUIIC9bSleiMOWYssysJCxRS357weeRQQD67JjTJASeVemx3csNB1NiaSPsDtS1DO3vtkEKAs/V1g1P8whJCIEzAaelO1Ka4QjFCwExrfQ//xceqZgVwxhUAgAmitrulMTYiEr6mQjddZjLuAgjbWtOYHDuj9NoaD0GisaX/+vWx+eNzC4PY5aDL4rntnS8l0HjiHubKx0por4VUBhaHEx15k7PzIoWhaWctzCvKjlAAeKav896GfUWKenVh+bA38f4BQkjmbMnuni2DTMPAqPSpKTnNrfF4gXJGkfvQmvY+j+f86qCMoa83effqjs+cWzojSAxXAAIEkLJFX8Z6ZENPB9avmxTK8wiBkIr4qtqeF1qthVMKLw6zZ/b1RxSUkL1zK7ycMYxxOpl+rT6RckUg7J0Z4M8fShbJvE/1n1HuQQj8El+5p/vvMXVahT8iQ9o5GgtDCCmILd8ZXdac8UX8/z2noEITexqG/KP02YVi8Zaupc1pNcf3pbkFY3Sx90jMU66qaWNJXbxuwAn7lVFlwY+P9qxpGBrv9Y4LEudUngACkAl+squ1Pjm0ILdAJ3Q4gPYfATm2nNcwZBhQBALA4mAykAl0pEVQQSlXpF0oVNHuGB/lw3e1cwLia2WECbAFnl7l37w3HbVyqjQcS5gNg64uIcaFACiN6OUecpQLCAQHTHFCQHVNZIGO6vvMFCEIIWTbL+/tE5KkuU4krJUEpH6VuCD6DWbJEuWIyCRp87gNEkauwyyVXjSz+DKEKAIg2BqKx1b1yxiJYy6wj8KK3YN6UO9rHVxfqp2ZhzEgIYSs+3+4sOjVhqEnB+IEQcpFXz2v7IxcmrGYACQEGAKfNTpUNBTLz8md6zX21mcYEzkniFEiABnjZ7paD6XiF+SXeAmFbEYEE9wV4qMYUHz/gSA4tjoHhBBmzpqGuO5VzyzxzMxXAxICjHSFUMwHM8znVUpztcKwVhKUseOmHIGOxYYxIdW5io/DRVOKfjjBp3IYnSP7ZdLcOvB8q3PZSM+aPT3NJugUIYzo6wELgTHO8yt5Ent6Y8et2wc6bKRRTDEILuLx9D0rW9tU32dL8e3L23b2WtkQHgAoFNU39r/czr6xsKLSTT91II4JkQjWZdLU3P9sq/uVBZVVbuaZA0mJyD4ZMwFjR+R/Y1a4NWaWjy7472lhGQTCGJ+eeKoAQIBkjNYPRPcmhpTT/Ngw3j1oBCiCtAsWg5gNL0U5F/BgG9sREwcT4s9HXODwRDtrSYsDcbGil1scXunlg454oos/0c2zPHddUZDnzRXu/gG7I5p0Jfm8iBRgLCx4ruBhx2lojR2JuRJBBMShpsElB2NpTmqCStgjV/ppV0fstYODR/oyOwacqsqcMyfkXzM1lEnbHMBBdMGo0BiZE9N10+6cEaE5hXIskXlyS7Q5ySjFiVjq0Z19fS7E0hbFJCxjJgRCSAL20sbWZzv5L68d/aNJnqc3dO6OsaBOiess2dezYoD5g1qCkD5M5KAymEjfvbO/xxYyBjgW3xMAHABjdKQ1vq7HxBSjY6Y1y1sFkY29XXvig9lBsmjRohG6T0L40vwS8ZHc2Pk3IGvhKAJAgBEoBJgAnYAAIAhkDEyAhiEbqEXH7gJCCLnulg7jrMkFF5Z7S0OqT4J9jUOH4qwizzu3ytPRlVjdkd7Vma6LsYun5J9ZpFouFwhR4Pvqeu7f3q/49QU1wZEhKdoTX3owhnWptzth+4LfmJHT2NC/rsMcZKhAwxaW55TojAkugMjS6CK/h1m7EjCnSO7OQKEKpqLOCsBT2/pobmBhiaL79Yl+tLwu4QtoZX7qclAksWbfgBMJfnpUUGPGy63WmaN8dY0xX5430RVP+nzXjckJU/uF2iEb2O62VEFxcGoOem5HT78DyaSTm+spUsW6pnheoX+0j9int2ldrnv8krIwUowRGubtvwHZCIOKweawoofnqbCqR9QmeKUXL+ll0wLIYpAjo1INlWoorKBRPhRRUIWOJvixR4IzQtgvofMj6KoCrBMkAAQIRZWSA8m6NKrURH2v4QqQEFAEBIFXoTLGIb8S8VDOeCxluxwUYPsb++8/kCjySUV+JT+gFAfkoYRxaMBqGTTrBmwc0OcXqa6L4gOxJ9rY188pLeSZ+2qTY/PlnR3GgqkFE3MkSkl6KPnIgdQZY0J9bYM7DXrxKD/mggMCzpMOmlSsG0nLQNiLecJw43HL79dHhqXO3nRPmkkIiADTdFMWjCzwVPglipBEYFdjDAU8AcswdN8IyWl0SJWC/DneqRHJOhZbEwAjvL4cRbu4sEwjBLJe8PMD0Z/s27ppqC8rZjGMfx1Z31DGoBKArG8L0G8Jk4k+W2wf5FzAi92s2xQ7Y2JxN3c43N/MG9Pimt3uj+uZhxwzxAgAwGHC4twRQDGiCLr6k39d2/ZSXdKjSTUqrlLwSD/t7R56dFO0M8MVihzL6UryMSX+Ipk/tOrI/63vxbo2vdyTjptRgwcUAoAUCkcGjKQt3pAGhBBCzHrtULyi0FejEpzN63Hd/VFDBLRcjTy3u+tXW/p6sVwRkQ/3G1GDZ7c1XAG6TDgIIJhz7opsVFAwLgISdYATijOGVded7rcEFe7ja1t2Wdodnxn7hRHSs9t7B1wUkPHpbMRloWCyuLv9+oM7twzz9j1Gdv9WIxCQoD0j/trmmgya06LPhLMi6KxcnC/Dj0ZQhaBz8/BoL/JLMM6PBEBERRoFiYBGgQugBBBAtYaqNHTc27M5mlCid0RTgZKcs6t8vQzaOOoUuIfDq61pqTAwvVCxHM4Aj6sJz/KPbrkAACAASURBVCjRKSWFBf6La4IhGa1sTCm53rHF/i9MzS1w7Fjadm23L5r428GYFJTB5YBx0CvlKARx7nAhEVoR0XwS5hwQQgRjl4lwrv+a8UEpm38mBEd09uicPGbeubT5z1v6Bw22YW/P4jY76JGrCj2jNKTaDjFtajtyylh7KB4KaWEZuQIQAgps5YHeJUfSyw/2LGnOBDySX8JwcohMx+QPjft/WLtp3UA0O0IB4LrcovIzLxnr9aeGtzX+NSAAgsHlgAEohoNJwTiEZXi6nX2hkv69g03043wV1vXxcT7cloZqDxAE2SCQQgVFCAPgE9YiSIDtspThxNN8IMP7ME8JtGBy4dlh2Nae7ku7AiEEkHRcVablebpPwg7jWFEunJ6/9eBAR4brMvZiAg6LcfrJyZFDO43XEpbF1C4TfWZ24cGuhMEEnFDZoFHYVNtziCmfK6LLN/UMaV6KEAiRMl3Ddlv7U/kFoY8jaO5PKxQ5zLUYIEACULGPbOlOO5DTNWD5PUoAAReCA474pWfaUg7ktEQzxWW5/3dB3uMrmm1bzB1TOImgTY0xR9YnFbrrjyQ9ub6RXmKfxl4cAKRd99MlVdNDkQm+wDBv31MgAB+G1/r54938uxXER5GM4RsjiMlAwhAGsPnR6JlxLIifvYfOyauZ7KBx8qDLeH6eN8Lj27uNcNwaYqg0KHMBFFjIQzEIJ7udhQBcd19XutbE1QElgCDuuLJXlkDYTMiaMqEqVCoQBkEROtDUt7Ylfeu5BV2prh8vrieArphWVCyZaSaYaT25I7pqgFHutsTZTa80eSkGzp+Q1a/Pza/SscVEwuAja3LPb0n2hvK+PT30wqZGmfkurPSmk8nVLam0ro3yYEcAJ3haGfYiYXGEQGQcOGdKYaDflinmAJmBZJvBNCbeQOcUc68uqrysqOKcSGF2hALAfiP1dMeRL5bXjPD4rOFtjX8cAoAikBCkGWRsoRB0d5N7SSFpTPEBGz5ehCcEMUZwbTGRCQpQGFGNEYKvVxNHAEEwLYgsDp8rIyaHp6ZQAMgwgKz3QUieCk9v71qvYC9Ada6a4SAhUl2ovLyrp4cq4wLEFoAcZ0NnZtyYSKGGEo7AGICDzXhPxi3I9ZUSiA5lXmln86bnz6jJWb46+pMXYsznm5YnbWsV6glusCKh2oPdTzTZn51fMilXycOsd3/KdAVXpAVjffEdvQdNoSBAAhjnfSnymVk5ZSrKuIK5aMaY8I7VXT9+oS7lwNXzChQQHMB0YFJNTnVLx0+eb0g64oo5+ZLgpisopWMKvQ+sbFiSki+t9CCCHdvZ2JQsLgpMz5Hitmu4Ar2jSyxjvCsx+EJXi7985Mhh3r5n8BDYGxd/72JRC1ptUayhqX4Sd8FiACcY2X86MVtwgWVlarHWPWTypNXcbylIZLfj/LocQGAfS1LESPQMGg0prHLmcsEF5AZlDcBiHKvywvEqBRAAKiI7kPF4u3Al+ZozSmYNmERTSgJSLGp6JQyEzBkVrjA4JVijyHQ4BwAhECFhihwuAJBKxeb9/a92mOn+3r7BWGe/EXXsxyPKlWU0bbBGwRAGlwkOoCrYdo5mc7oMCiK+qwtBAMgIN7WB22P1W45ysh8sYYwRerGjuVjzjvUF4Fh1XGZtX9elBWWjvQELhqvt/zFgBAoGg4EhRNSEh1rY/9aQKUGsELi0kLgcMIKF+chgUKAhLoALoBiYAJuDAOACsjkoaQZwwhYzAAjODUy/fG7VtRZjgBSCczR4allLxuHcdY8k3KIxeWPyJVcg5BhL2ns70u5Un4SywQTLfmrPQDzXPwqELYRL5Nlj1KBgStD7tTn5m7qtGaPCITdtOcyV8PGkYJcJf9D71fm5I4I07XLGBGfC5cJ0uAl42oicsVkhWoSJmf7flzp2j8ypLJIQAOdc0vUvnV28vS2dX+AfG5YN13ZcbrmM6t7/Prt4W0s6nO8fH1EyjmNnHyBgSUuU5OhzS/yO4NS1NzUlzIzx+9U9pVWRC4uUt049BoBjVUatmdSavq5LCsrGeAMwzNv3ABgBAXi4k93XwmZH8P3jqB9D3AV4VzeNMo6YO7GAcWFbakW5Y4qjNpcLyPHTowVoQmRccu055eekXOeEA3L9xBVCcEia7NiceaQ4/IU8ELZrIFQU1gUXGZMRr/7Ns+WAiv1+bzYdTMBJGejW0fQe4XLIj3i/vcBDkTBcIY/JwYLLKjWx9P8uqOzJuEwcK+pDKKJkDTcgBI7LYkfXYywQCVydz3vLLKLI6ROWAxThhnRidV/X5aVVr5vgs/3h6ypGjfcHTD6cF/yPAQO4DFK2uK+b39fCHpxEv1FFJIwW5COTgcsBIWDiqFd7/EZk1yZvSeI3r8IpwbkeDABcIIR5UZ7ueLGNyMwSfXVLf1cnBgDGeDDHU6OT7FcIITilsyp8jS72ENAF4hhLmFu2sBURzvP9V5Hfdrgp5KvG56ZSZg+SGBcA4HIoLvARITIOJxipPv3qMVImZYYodTmEvFIOAAAgjLGqLawJFKvo+I+yXa54tPMm6Ixx0+EKQeX5uqbjjMMkTVsw8eg4EFSW5yEeYnKYUOqtrY/9KZ4AAM648OkjfbSPYAm93eU5CgHgCD43FOkur5ngD1rDvH1v4CGwMyb+FuVA0IANXaao8iD7PbjYAhDBoOlyjU850Sw6jB9/EQsAr1fN8Z/0QYcdLf99PadHCF2X/QhsJoQQtnuUSJiSkrDkutx0+DtvObgcckN6ET5qo7P/ZUzYXISCaiR00sG2y13x+refWAvlCpwX0oXgJ1YbWZzNDuV+vmLUtMBRsUokhPhB68Hfr19+0/Szvz9i3KBjn/J6DeM4AhReiPLbjrjn55FWQ1xdhC/NxQPOG1+w7wUoRoK9XvBOCeZcnPh0SBhxxrNv7CyOJgwfB0IqRY7D+dsYPISQQpHt8LdMlcH/sudJMMJcHFd4oBgzAI+CHYcZ7J0uIAIIUOmrtVseqa9dNPXMnwzz9rRx+swkCCiCr9S6a4b4t8rwZ4tJQEGnmawyjLcEAghI8nf2bb3nwI6bZp3745qJkPWCv1hQkRk37YL84tRwddw/AorAZPBIF9seE1HGXphEx/pxv3PSO/ldB0IIQAgBTAiEX08hYEK84elwhUAnJdqKN8ZLhTBPSCV+M8Q7H4AQetMp33Kqb/sTuBAIoWOvCAaCi6Mryne+gALAFPy60moJo8vyi9PuMG/fCQSBhIEi4AIwAleAw99ivfXmTzUmxQgNflwtjfcjQxyN/w7jn0a2p9G1RZUU0NVFFdlBCgAp7kYt02QMvZsRng8/PBSe6eRLerlPQ+eHMANknJ6+wb+C4yZNCHjncppTHnD8sH/ugFMWpL2dfT5x/J+uast2JOuxTJMzQMOFRW+NrOWNW+JASnTZQuLgYihRUIUX+xVwOLx9vB0cDnkq+lENJRhiwykn7xIQQJq7PZZhHPN3KQAMMrc9k0wwh7zzJvQwToCEIWqIB9rZ5XnkuxV4ZhDbAOZ7b4KHkQUGNGhbnZlUwhnm7VtDo9BviNXdrNvkpSpyCA5SiLnCyIhNUVbiRWcWUr8E5tv4tgJApeAIeC+Cvx9ZYEBJx+nIpOLu0dDZ0aVkSyYZIpLB2QeTy4hQLBgHjEHwt5bwfLchYWhJieaMmJ+LVQopdmp3chjvIhCAgnGXZRUramaYt2+Ch8KeAb6uyx0ZxJNzSVhBKgYGQBAymBi0xLYe3pJiF5bSEQFsvAdOLiYECcE4x4QA58MiHllggJjjUEorde/xEXgq3jNn1eLVA1Hf+6fKCGFFkyl9+9DICVtMkiLZyWTGcpnrMMYFAJFkXVPeMa4iAGFN0ykGRCRdU9/pGRYCZA0fk1jOwuFQoqPz8zFHkHSH7e+/G15KH24/cs66V1b0v694ixRNlt6Bt8cgAGRFslPJjOVy12GMAwB+l3irU9jZz5Z3OB+r8V1SFQgpyOYiAXJG8iSYcDnkKOjyCnJ+MX2t1W2IcfWf6joiAKuaLlF8QnBMUFnVFBlAMMd2GQPE08kUUEqGo5zZIhcq3dK4f+qKZ5f3dmUHyaJFixRCU7a1MK9Ip6ehOIUQPq4qdHwM4zde4bc67HQnijGYqYMbW21J8wflN+hxCwFEJpTgbDKIomrdu5c//NiGqnElL/7lpoNuyZzRJQMddfsa+3Pzw+TtxAMwBSu+d+8B5MujqY7dh9qDuREZv818JYkd3GLuaKNVpQjzE3+oMxyE/A8BIUQAuUhcmFfsIZSd8j78e3hrZQ5ubDGJFgi9kbcggCoUY5HVBldULbp35YOPrqkaV/7yHb/eZxXPGV060FG/r7E3nJf7drxFmCIrXrt3P3gjUqZr96H2YDgik5PmK2PoTovX2t1rRurFHdv7t7Xg8jIsUd5+yFy9k5RXYhkxDjaHYi8OKeiVNndkEGsU/WNeOMKEpffX7jWJL+RVsnaDUtLXfKAhapQV+F+893cv1zrz54zc8vj9a+qNSZNHYuYOPywIoQrNIxFycUFpUJIh6wW3m0ZLKt5rmfQ0YmrcdThIuqYe24xHILjjuLKqKxI58TAG9ITD3jQVjDBGiGAqHQvlIZTVGCeKhO30zpf2t7RlqEQIRgghIhFCEABQhWY6ors3trmESpJCzc5H731MGTNrXInWeGBfdMjUEWnb9tqf71tsUU1TZHJCUgChVJIlghGmMk623feXOw70sUzjhj/e/XicSRLBCGEqyZJ00pVAkiIGGuO/+pPVbWB5uMn0+wIEQbuZbkjGe22TnIa2BHcdht5ASO44rnQib9Fp8BYhjBHCJ/MWI0Aoy9tdL+9vbn0r3qqk/2Db/u09SJUIkanV/de7/0pGzppQ4mnYv6970PRg0rFjyZ/ved7AqqbIhLwFbxGVSabj/r/csa/HzTRtuv2ex4dcKhGMMJFkWaJZTQ9Y1eVOyyWVPjXd25i44XarM40kGbH+5O//ZOzsRrKSPW3KEaNCeGSIbOnlEgLIRg8QgmzqN8YA4o1PBELZH0YVTWNDf7vrz+vrBnRZAkCUyj5ZO7TyiQefWkmJPthSX9/eh5Eyde6E7c8/umZ/r67I/9g9/jACA2rOpA7GB6OWcWwEYE2s96WO5tr44CnbIBJJcfob773pltc2HZJUj67JgJCm4J0vPXb7n/7WmeQ+zUMJwlR2Bpruu+l3r2w4RFWPrslv5jN3GEfADHOgJwmUUIIEZ67NqUKtWDJDAv91/QXTpgRsw3Y4ECySfQnDEZJMsHAblteufrExZTiI0J7DO5v66LwzJwohTz37ksnV+S5kXWWJIt7f02sJIktEAFY1zU4NdbR324KqBAOIExdQQgChsiLDYHdHtC9OVV065ooI25bmnK+OpOa6/YCGTfB/HgiAIryyN9qSSWuYnNJpJZLCBo88cNOtr6w/QFWPrmZ5S3a/8sQf//hoZ4L5j/GWDTU/8NtbX15/gLwdbxnjCLhlDkSTghJKsWDMZUKScWYgbkjBq39x4czpITtjOxwIOcZbhYJj7H5y55blnYbpYknqrdtV343OOGsyCDr17EsnV+c72VwRQiXM+3t6LY5liQhAqqY5qaGO9i5bUI1gEADH8g+zvJUkVcZuT0d7f8zwqnp3RvS6YnoEpxxHmr1QHSOb6/YDAKmZo59Rbq7fxk/QBLEYmhMWLXG318x2POEoK8zEmW1ZiKqqjAejHd19capqEkGCM8fhsqLYqUQibQLKrhiIpimpod6+ZIbKMuLMBhg78+z5M2tczvPGTB+bI7as3cOQ9MEM2b9rQAASxmv6o/WZlHzMNSSLFi2aHQjnaZ5PFFe475jmmYXs8RGz69XH/75hb0d+RU1pboBx4fWrTduWP/vskhj4akaP0KlAikasniVP/n3Dnra88pqySJAx5/jJJYW0b9y3+qWGjgNdu5fWH2m2KqeUiL7ulQ/u6+npXfP4fp6j92xqc0JhNdH12uMHe+q7tr14YM/maO7YYrf1yLIn6mJ9Rl9zLDSq1Diycd2m5AWfukDHZMz0uVX5Xk5JtG7nzoZ+NHDoyQceWLmhsXrqzPKQsvO1x+6689FtG9at315fOnlaPh58bcXWMWdenG8cXr534PxLLgg6XX+97XdPv7Ry84ql+1rNCdMmaIhzASAE0kLQtdfYElUvPgMjdzj68B8HB5jkz5mZE5kTys2cRnWcrHux2bPkqcfX72mLVNSU5QYZ476A2rx9xdPPvDbIvSNHj/BQAFmjdu+SJ/++fndrpHxEWSTEmMOPbT1ICu3YtG/lS/UdB7p2L6s70mxVTinONDQsff7IQH3b6mcbg9Wh1pWNpj/kyURfeexgtL5z24sH9myK5o7Ni+2qW/dyS2Io09OVLpxQmq5fv2bd0AXXXeShZNT02SMKfZyQnvqd2xv68VD9kw88tGL94copMypytN1LH7/zL49s27B+7ZZDxZOnF5KhV1dsGTXvokKrYXlt38JLL1CHDt7xm1uWrFy/dslrXZZXLqmKYDYiQBzGkRqC6D5jc6d60ZmYyohHMy/skC86j2pHZR0QVaTBQ4+u2+0tGT/Z23vnL37VQivnjipc8sCft3V7Ztbof/vDTU+9sHLriqV7WjOTZ06Fjh1/ue/ZzuY9f737SRou6G5riIw7a06Fb9UT9959z2O79x9samwSOSPOPHNq5eiJE0cW2o5LJKl988rmTOiscyfjE4zARxMcxHh/aG5u/pnhguwIBoDnB6O/Pbxr02B/Vr/yHSA4Y1ibe9nnb7j1html7L5f/t8f738p4UK4ctLXf/Gb//nKx3o2P/uT716/6UAXlQNzL/3sL2/55ZwyePCGn9x234sZoMcWjAhhbPQN7VrWljt7wqe+NzO958DqNR0E8fo1h/buzcy8Zsak0Xrj+pb+IQdsc9/ig92O/2PfPSvX7lvzSnO4pnrS9Fx/Rd5Z100pyZVsw+bHKhRd5jDBAZAs4bYdG/vVsT9a9CPesPT5dYfjDRvu+stL0z/1vRt/e0NpYs+df3rBltUTlnpYl/iyh2975SB8+/obfv6Dzza98uD9T22VFDX7u0Fgef5cUbfVOhCF4VjE+wAKJkv7Oq/bturFng4fPcV2nODMRdrsSz/zy1tumFeBHvrVT267d3HcgZzyCV/9+W9+8NUr+rY+95Pv/GL9/k4s+2dffN0vf3fDmZX44Rt/9vt7XkgJerzHHcbIGhjavaQ1PGvCp743x6w9tGZVh3Dt/S/ub+6nZ39mZlUJbdzQ2tfvIMfcv3hft+3/2HfPymP9a15uL505smZUMHdU6TnXjg/r2DIdlvVlhWDMZZwDIImSjh2beqVRP1z0I9K86rk1BxLNW+64/fnJ137nxptvrDT33fHHZy1JJcc3oxFVUOqpW2856Iz4v1/+6n++uHDd/bfcvOpITjC7wSZAIPmceaJxh7m/EwDotFnEbjZWH0L0aCyCc6H7/Z7BtoMDmVRX3UuLFy/bsM9hsS3b9ijhwPq/3v7iHvbN63/5ix99oe2VBx99fheh7uZnHlu1J3bFl75yxuRSx7QlVY8eWvaXR1Yt/PovfvilCwcOHUplBEbAmOuwbN0l8UY00044J7fw+WhCxWRlX/entqx8vrstO4IB4Fx/+CtVYyb5g+bpNHjmzHTdYKhs4SULPemWVSu2pRkSjsVAnjhz/pwppfvXrjrQ1I8xslwWDJWdd+lCj9G6avnWlIvfELPLnVg2blJeqKBw0pzc9tpeywE54Jv1iRlzZ5b5vDLVKCWIc+EtLph71biKkryycSErYyuaNxzRZK9WVB3xSpgLgGNbKuJY6otr2968cRdesWBExejKmnzbTrfU7W+Jxg6ve/bOux9o7BpKdnckTDg+H0QoTw/u3tA485IrxhTmlY4555K51YdWb4wLTBEAgHBsUj1FrgBj1R6AYRP8n4fN+Rk5+T8ePXlaMGyw0+CtYJbLgqHSBRef5zPaV6/YmmaIu5YL0oQZ88+YXnZg/aoDjb0Eg+W6wWDpgksW+u2O1cu3ptwTixBBCJRzlLcFE+fmtu3rMV3kCUfO+uyMyZMKNAVTjVKKOBfeooK5V46tKMkvHxeyDUf3BQIBRQv4ikpyFIJAvF4snuUtAnAd2xMee+EVC2vKR1eOKrDtTGvdvpZorH7jC3fefV9D51DqZN5iSu3+5m37kwuuvKIsL3fCGZfNHeNbu3q3UGR0nLdVk5QqbK7eIwBwbo0yMc9et5ELfPQA5iJf0dTq0v7kwOZNB2dd+eliu33Dtp0mKZha41u/c/+ES66cVJRXOOrMSxeM2L5tY8LGuq/yqi9//bIzJoe8CueCUtG4bbdWOHHejIrC8hnzz5xAuCVENkhytPcARsJ0zOE21wBgcTY3J/cnY6bOCuVmRygAbEwMvtrVNs0fPjev0D2VFcaS5CQ6n3zq8eWbG8Zd+K1vX3luUOKAeMPW1576+wtDpPiXjz4yfWyxy1w7GX3q6ceXbaofs/Ab9151Xkh27RNrcRByLZcJIEBAAGAkmFC93mBIyoDDjovMM64W+HwassBxHUEIFiBs60QFAQHipLcrAmBCBKrKgwrYPOMyQQiVKSWyZ+K888oUx5l/fm5xhc5a36BnypnNbZdkxXdcF07cEGEu0vLV2eMS69a71oWUIjG8u/sfhYTQuoGeTtPwEXo6aSmESm6i8+lnHl+2qX70gq/dc/V5OTIHEEe2LX3y8ef6ofAXDz88c3ypy5iT7Hn62ceXbagbdc5X7rnqvLDCTuQtQsBMlwEQwEgghLDgQi32+1QwuHO8SFwwoRT4fTq2wHZdgQni4Do2Bw3BUfEXAQK9wSvkQviry4IKWDzDXCCESpJEJX3C3PMqNcc+5/zc4goPb3dfN2ZIgGCO6zgsu4B1XC4Rwo6rfjAXaRFl7vjEivWucbGkaer5c9K/3uT0ZOQ8AhYD4IzT8jFjFq/a9drhlgu/+rX+FX978sFn5aKZIyI+y7a54+LsM+W6BFHBXLWkOC+kJgE444Cy/g/nRzuvs0zSEMqJzyMCYMmBjEp1eqIS9kcVEsLrB3pbjbSXHvXkMAAcMTN18cFuyzhlRgSRFLev/s4bbtrWrf73ot988wsfy/XJMoVtzz/yx7sWV5z76et/+7OzJ1VgTO3+hjtv+M3mTvkr1//621+8IuKV3JNdFSoRo7Fr67LG+trDOzcP1cwskrFrpp1jWXHCzjguE4IxM+MwLhAAsx3bYgBIVnGyO9bZPJByhD8UINQwTX587giAOVYqnRECEAgrkxqKm6NnnzepCnbvay+sHlWcH0IcEcQyqZTLQbh2KpkUes68C6dvf+WJ1fubdm9+4cUdHVMvOtuPXn8XCIHkBfMgWmcfjII0vLf7nwQCIBhFzczDzYfXDfaeMoBGJMUdbLzrxps2d0hf/sWvv/2lKyI+WaKw88VHb7vjubKzPrHo5uvnT6kmmDoDTXffeNPmNvqln934nS9dme+X38BbIlHjSNfWpQ31e+t2bBwYMaNIFq5hOgKy9kXYGcd1s7y1GRMIwLUdy2IARFZgqKu/qytmcvCGAkTKGAY/UcWDOVY6lWYCEICVScXixqgZ506pITv3thRUjyouCCGOMOLpdMrhQjA7mYjT3BHz5xWufOrR7U1ta1/627Zm5/OXTGcp81ixhRAcK/Pnob5G+0A3ANDJs6nWa2xpRPgYhxEytPyhVx6v7UOTJoycNDZv7TOv+ipHBZXAWbOnHV78+PJ9jbVbX3ppZeeZ55ztxWYyk84+jyC4mUmnDD7mzDP54N5XVtYe3rt22brd6ZMKZRAGZhrC48mR0bCiKBCEek3j0ebDa/qPds0gixYtmuwLBWX1qsLy09mOcywrp3ra1ddeVpqjpA2TMQDh2OCZd+nVC2aMBmYYlg0Ajm2HqqZefe3HSnOUjGGe7FwjIuHeA62DSAuCsXtdV/HZE845v4KnUoP9rGxGsU/F3HUHOzORcUVB1Y2lyIjJBaoM8Z4E+INVo0OeHCVxJFq3o88/sqS8SCxfsjJnwtkTSvyWywAAU5Lqj8ZFcNbM8Qo4nW1tvrJxMydNnDC5sn7da8tXrtm1+5CcP6KmxNPWNTR66qwwinelpanTp06YPFVLHXn1pdd27GmeevkXP3vFHOFarzscAuGcgLv6Jcct0WaPguFW0/9RcIAxvmCe7r0wrwjg1L3jHNMKVU296tqPlYaVjGG6TIBwbdDmXnL1glljMTMyliOQcCwrWDH5qmsvL89VM4b5Zr+h72BrP6ghZOxe11l41oT5F1S4Q/GYKdVMzpcJAHMHOjKRscU5HjaQQCOmFOgyJPoSwhusHh32R0jPwY7GulT+2OKiMFuxdEVg7FlTSoOm6wIAJiQ1GI3xwKyZE1TkdLa1eYrHzJw8ceLk6saNS5atWLNz5yEpr2pkmbetc3DklFkRkuxMkWkzZ82YPTnVtPO1V5ftPRK78IvfvurMkVs7M+Nyjr2WBOBQ0Fn7qmMVaHNGYo+f7VlnNrr6RTMRcwgCi+HNfVZlqnnkjPPmTa7UNTpg8TkXXFyep5dNmOI1Wl59+dXtu49Muvzz1109m8V62gfcKTOnhXTCHaOjs69k1OTJYyeW5bjLn33uUA8bM3lM8YjRk8dVI+4KAERk2el56vGXS86+fN6YAsv5qItNcIAJgVCpx3dZYZlKCGQLlB8d6P7a+tcenn7Opfklp2piLxCmskwdy2LHVDKFAFlRkGC24xzdOhYCkaOHvVUACMka3fvX5Rs7/V/40WxsWJIuMcvlgKiEmcNEdqtWxtxlQmBKwXU4ByCUYBCuyzElWDAj5WBF8XvwK3fdtKoj739/8pUAdbJrNEwoJeDYLgckyTLiju1yWdWocOKxBEiqpkqMcVmSXMcWiMoUWbaDiKTKNJ2IMaz6vaptmS4XJ0Y4sKZl7vhp7IVE7vN/kFRXOMMv9yPodAAAIABJREFU9f8Y/FS6/cjhRYd2Pjz9rMvyS1PvzFshgFDlZEIKAZKi4BN5CwJw9jCbCfHmJaGiSfsfW76mxfvF/5tHTFPSsrzFlALLCncf5S0XgAhBzGECAB/jLZGpcB0z41JF8ep42b23LGkK/vjnXwvKjsuO8xY5tsMBpGx2l8tkRaPIjQ/FgSqaKjPGZVlijs0RkSi2LQdLsiKhZCyOFI9fk13beOCwPS1MZuTTlCOO8vaeX8SfHgg/+0c5IFvL7ur/+arQ4/dpFZqPu692uO0Z8dWxXptz03IQpooiubblMI4JVWUpk4g5WAl4Nds0GBBZIq5jZ/MpJFniruNy0DTVTMVtpPg9OnetY5cUKSrd8/x9j22IfXvRD0o0br+DLNBHAAjAJ0m/OLjrz40Hnpp7/scKSiHrBVeonhmB8LRAGE5dRIhACOayE1VHEQLOWHZL9/WhY4e9JTDB6d7BDNGqx+XJRDCbH9tPe73S99i/j0b1Ebwe4BdcCISoQjFwR5CaieO9zKQ5eUFdysYxxLGdOQTZ4nsBANx1GQdZUSSKOeMAxyrXheBZJ11wlzEiyRIBx3b4CUrMR6cEQEpKaGmEFhUj+Y2N+Ybx7wQTolz3nBHOnxWKoFPGGN+KkG/B27ei94nABKf7htJYHzE+X8aCHQ2bvb7xBEd5m92NOrZLLI6KwwnGAWFJJiCEy0n1xPF+YZJQXsgjHWsNcVQq4iTeMpexN/I2K+Gc5a3gzGVckhWChOU4EoagjJ7vZGMD2CchV4AAIMUlpDRCi4qxjHCkWMqP4NJif1DuTPJVneyyMkknx+yj4CzbTBtOfCKOvhgATtJ7EJxnf5rrMizJFIPrOieIXWDgRu+ANeuCi6tyVdsZ1vsBDsABriypvCC/WMIYsl5wi2M+01J/UV5JoaI5b1Sdfe+QNZH/cpaKEIhIikJt02RvMprvMoQAWcWUcisN7L1XZR/G20NG+HA6sbq/+/KCsn8rb7MOwbuQXSUQllSFWua7nyrgobC0093Vz788SoqoyHAFl1REqbDSwARQmcqyLozWmHtfk3tRIZmVRzLvTYRAAEiKSoRrWc5wShoASBi3pVNrBqLXlFYXqzpkt+O2peO/r9tbn0ooJ24NvMdAGJN35esQEtw1DfPNTuu7D4TAsbiRBj5sf//DUDDeMtR/e+OBw6n4v5u35F35OiS4axjvSapWxoWFRXRWhPytwd3exwUgn7AUOy0hUCXkQY6TSa/vdJ484p5fRGZF3iv7C9lsfcu0bHfY/mahYrxpqO/GQ7t2xweyI0gIkQa4q3H/p4rKZUzYe7m4fos2C9k2eIioqsxs02agKAp3LIe/RSRuGMM4DgnhXtt8Ltr++ZIqGePT5O2pQxandwxk5XQlQoGn34OCrzfP4TRn9frxCDQMRxJiY4/rCNBVVKNhL4WYA10mH0gLRYL5hbTEi947+zuMN0PCuNs02qzMRXkl2REMAL9tr/vhjrV/72zx0/ey6ABhWZVPLs5AsixLEhV24vD+Az1xh/LMoX37Eg6R31bibBjDAASgU3Jb08Gf7t74aMeR0+GtAJAIlvA7C0ECJSjLPUqx8o7qPxISh9pj23ptmbzL3gIhSKEnPycIqdI/5uoLARkG5T70yRHSWYUkR0aDBm9L8ITFc2S0sJR8aoRUoA/b338rEIBOyB+bDn5154adx7xgDAAX5uRfUT5yVjDXeM96x2FJduPNf7/jb82DtixhAECYSDy59ImHNtUN6XbnrT+7fuXe3hxNPbD88TseesWlGh12g4fxNhAANhfnR4ouKRsxJxQ5JW8RQiriK3Z1vtZqqPRtTZlGYc/B3if2JlQZbdnTtbgxRenbKqYpEo62D/741Y5uF/1zertvCYmihsa+v+0ecvHRojxKcWIgfueGngEXpH8wBGJxcDhUePEFheScUnpWKZ1fQs8qIMUebDN413txCgCMkS4T5Z99egUAJViXT/Gy/IBCANicX5pfPCWQc3zZhgEglypFmh6Q5NMp80SYKoqMQADCiqIQDEKAJCsSwdnQu0fz6JpGCRZCYEJlRSJU8lKJZKIrnl3SlXApwVRWPIrqVfi2Fa/taxnUPTpiDEuYY++Fl53XsuSZLfX9ivK+0eEexvsPQoiwLBcrWlCSTkPkGmQQm5sGN/W5Xon4FJJdjgkAiWKvQrwypghJBBraE6+1ZDSC9jfH1nVZEkEYIU0mPoXoJ/mhwmBowZSCapb5+6Gk8ibTmDUlMkFCAMZIzZokhBSa3QVHmkS8x86ZnYZEkExxSCLt3clXj6Q4QgQhVSJBibpp45lDsSEOpyMn++aZ2BzSLjgcuACbg8HA5u+JgaMYpRKZF3d0r2pKAiU+hXgV4lWIRz7JhUcIvZ2+qIyhuX3oqW29DXFXereXF+8HCICQrJTrnuCx8i4KAPsy8Re7Wi/IL6n2eN/5xYgwMWPR1iQrKSmWeKa1pcMfKQooEG1rdOScquK83pa9u/Y0En/B1NnTcmQ81N8TM3BuENUebvNSy+/3YIwVpAxFD63Z3VxUnqcHAjJyHaXk89/4en51KMlYsHxsZThTu795wegZAMPLpGG8NShCB5Kxl3vaLiwoGaH77FPJRAgAWaa6DE2dsR397vRKf0TFFKO+gfSW9hTRtXlV/gAGQrHKkACQKJEpQggr2N3TNNQQd8sKfNMLNdfl2dQ2zjj26p+f5F+0p/fTY31FGJ24s0aR6OpPC1ku8dNU2u4wRXGOKhynodeO5OoRwnc3x+pjTmm+b0aRRlze1Z+RNJlnzB0WOBh7JIwR0jDUtgy2mLhAQFB7F+p732u/UpVwbfvQ0/Xml+b4hgbT67vSGQGCC1mWZlQFghSyhdOcc0cAwW98n2SnJ0nQ1BZLUmV0rsLYKRs9f8AgIVSXii/uaruoqGKExwdZE/xfoYLJZ1+aJ8lJ133n9w6VVadn3x9+t+ybt/9pVGLjDz+76GM3/u0b5yi33nxr9Wd+qve/dONvnywcWWN0P/v8y1N+efP3UwfX/P7O1cFyfcAJf/Kq6ZQSRdV6G9bc+Mv79fIq7+b41v3Ryy/GDPvPvOhC185YrqtQTc9R+2Kx4ZyDYbwD0sz9TGn1wvySIllNslPwNguVoL0NfY9GycH+9KOHkvddXZ5s7r1h40BRoTfWMLS81bj1wvwT3VmMkCrcB1c1P9crxuXKj+/sO2Na8XemhLhz1C4Yjpg7Pq9qb+NjB5M/n+o3X2+EiXQZ7dwbXcO891xStHR9040N4oUvjWbdPTdsy/zu8rKn17Y+0c3GRuQndvWeMa30J1P99+9o35LAmuXmVuZMxZhgpFGxZGPbXY3mmHxtKBof5J5/NArxH4HNYFR5zmUj/E+tbvhrOx9TqLou1zSYMZIEVGQ4XJVIa0vvsg64ZnZEAU4EAAKHC1cgTUaCidFl4Yv6jf32G7uOfDiQYu7F+SXn5BXXePzZEQwAi2O9H9u4dMNAr/dUPbiYy3IqRkbc/vqm1ua6+mRfqunA4Z6u5raEMqoYPXbbg+EzrvvVL6//9S0/gYbXHl2yV1VQ/aG9BbM/dfst108rDxg2l0VmyWOPZirPu+nXN/z3pxbC4BATgIBnjLTNBBKAiaSqanwoOZx3O4x3gE7pk50tV25avmYg6jmN3nEIIctx6zPoc+dV/+W8wlR34mBv5tEtUYgEvzen6JuTAtsORJd12/oJi1+Z4tb2/rvrzP93fuVtF1f/fLr/uc1de+JMPXYMZxx79M9M8K2o7W0xhfK6iRQu4NHFasdApj1p1vebmZR1sN9oimb8QZ31D91dl/n6wsrbLqq+fkbg8Y3dexOMOe62IfGVi6pvPrvAB5wjnB5M3Lk3cfncitsvqji3QB6w3Hchif69B0bAGDeBmxxdM6PkloXVt11U/etzCtI98cW7e25a3nL3nv6dLcln62OtGbcvGvv9ytbfbeztNIWdMTceGnh8e8/emM3frjbmgw8vkW6u23vJuldWDxzViKAAUKFo00ORPEV1TxVT48yV/WXjJxUd3rI+7cau/d//19Nau3KVrleOLfGkDnfhC6eOcwHkYNX4UcUH9jVl5orimhkXXzLPr0IfFwgRZsa7j8RHXThSAPhLR42uynFO3EtBIDhzbOu9CVUN48MDLkSppk8OhvMVjZ1OXYYQDNCsmpwRGulAOKwS03L6UryTJ29YkTYdXpCneZFInvAJikVrn4FC+oSglAY+usQbwEP1MWd2UDGOrY8zDsydkDfiwJFn61Pfn+izjjnCNhNVRb7CXT0rDw8mPP7/N4lvOzwgx90JVZ7YwJCuaWPDUlqwmhJ/GYs1xh1EyLzROXMLNQZcCMAEhuJWXKJjciQANKbY4+vIMPGBsUwIQMKwqqGf2xmHiVwP2bO3ey/TvzIluPZQ364Uq871ZQYSL+6PjR8TIUPxp7b3nhHhv1k9eOWZJUUqqftQOsAAAOAIfkVRRdJ1InJWixwwZOXzETqtRpSCuaBOmDS67uW/b2jBF199RRluffiRV8vGTS0IBTwo3d7RowFQkezs6gsXR7AAXc+RELMABAIhOKaqN0S7e/pVAHuos6VtiJ4kc4U4dy3bDAR8ZFjZbhhvj2wduiW4w/npuIcCACOUq2IXOBPC5UJVpJCOSvICt1xSfdtlVU98vGZ+vpQ6IcmXCxTySJmE1WMLD5ChhJVyUIGHsBMMBGeMeDzXjfct293XYcHxPDbGhNejjwryR7b0esP+ayYE6+v6Xu0TM0p0v4qHMlavITyIxhJGVKCIRhBAgUpsxrMJzlyArlJisz6TA6D2fjPlAPlgVTcIIBirFMsUSRh0Vb58Sv7FoyKXVOgSh/G52lBf6qAh/K6jETTYn9rf784bnXvdlHBERR9uIVgG3BGvV3ljAHiir/Ov9bWr+6L6qUT/AMDhonLihFTLfhYuqwqEx4zMObi3rXx0hUxLPv6FBbXP3HXH35/+w403taIR1146w80kU0njqJwvd1PxuEWD5197WfeGp+544vkn/7q4NWWdSGiEMGemFYfCSBiGle2G8TZAAArGj3U2r+3rMjl7077OW3/EsFnKEQiQ4CKRcUxJ/vK8goGWvls2RZfVDT5f299nCcF42uYIwLTZkMlGV+VeHobfLW19eHv7r9b1Tx6dNzNMjZO3iNKOmDs+UuKmn6pPaceDEUIIhU7Jobt77BFFnvI8TwA57S6t8tKqipwFEfT7JS2PbG9ftLZv/Pi8WWEaM1jaFQgBAnBcHs+4OfmBa0ukh9e1/W1n54v1SYsJDh+YeiUBwADmVuV8Ylze5ybmX1oTCFCEueDAHA5ICIsLDiBLRJWIpKsXTs6r9lGNYsfl9r+hzPU/BASgYPJ4R/NrPZ3HBdHIokWLZgbDQdXzqZJKfhpilYJzqnlLK0bPOXtOJKTruUUjx02bPmMUIVA2YUZ1hDYcqhOhmuu+8d/jCzw2kLyKqsqqIoK4ABIqLKkcUV41emJ1gVx3oLFo6vxLLj27qqoyx6dkBUdkVR04uPbpZS0f+9wniwPo7XV+hvFRhwAY7w+dlVu4ILcg4Tqn4QYjXZNG5ukFHswB5QbVEblaTaFvZr7cPmC2pFjQr47KVb0qLY9o5UFJkWlFRCsJ6bPLvWDaB+LuhOrcr88MawBv9NGEUHUlYBsP7U+eOTIUJCJLWybAr8tjSv3zij0yxSUBdXaFb1RQElSaW+FDpr0/5o6vzv3W9FwFhCRLNXlakYcwDlQiZTlaeVidUuqhllWfwRdNjJxV6qsOKe9zyV2Z4rbuRKsrXVjhqW0Y2NDjcHBqu9OdMeNQRzqQ558SkevaY4f7nbTAk8v0nj6zoCSgGsaRDBTK7uEhMbPa5yEo2p3sF9L4Io1/6CyAADHWFzyvoHRBpDA7goQQz8d7v7d51Z8mzZkfLkizU+aBCQDi0TTOrYzpEEn1SjRjpR0mECaqqhEABOAwy7QcKmsaxWkjzQUgInkVxbTSDseaplEABgIDcl3TtF2EEGCqQvKJO/88WDT/q9ee5ZrGsBLZMN4OXkofbj9y4+Hdf5k058JIUepUvBUAukyA84wjMEZeBZsWswWoEslq3gkQGZtLEpYRJC2uKoQInrYFodhDEQgABIbNnLfy0TDGsp35zjMt42eUfWOMN2lzABACKMVeCact1+agK0QCkbS5AKAYaxJCx8/JQVcI4kdrnWUZKwhSFscE6xJCAhgARSJtcfdfCwYfXy28R0+WVyHrdrQ+3kMWnVM42BNbfCQjJCQ4eBRSpUvVJf7ROVJTR6LHFANpu7wsGEgnnzicQop80fhwnmsejqMZVV7hOks2dw5qgS/OzrGtD5sN9lL6WEfzjQd33jvjnAvziiFrgg/amccbDn6ipLJQ0f+NSmlvAsLgpHv6k5HiYkk4p9MPbBgfWSgYH0jFX+xqvbakqlL32qfT9vC9BMUokbEzAufp5P22mYQRKBiEAIMDCMAINAIMwGbv8naLQnF719D9+xMjSoKfGBcKUOEyAARcAAdwXWYxkCmmGDBCjssRQVQAIGBcOALJBARju5uHXmjKzB8bOadEtT50UWEZ48PJ2JKezs9Vjq7SvZA1wQ7Aa91tIUka7wv+p6mMJIly5rL3G4uH8T4DRWhnfMDifEYgF59a5/o9hwCQCQbBbf4+CmUiBCqGuA2H4rwzxVUAisARwiWoxodHBjDBYL17qgRCAKVII8hyhfPPPsIYI4UizoTpig/WBuTpgCK0Iz5AED4nUpStdcQA8ORQ9+UbXtsy1H86+ZXvMYTjOMP2dxjvDATgodLTXW2Xb16+drDHe6om9v+eKTmMO+8b+ysACAIJwdpu9rdGO5rhRR40JozHhPGoHBKU0Z5+9lC90xjnOn3X5owQMCbSNnf/hUeYc2Ha3GIfQvuLADyUvtzdfsG6V1/t6Tg6KIQYFOyhpkOfLKqQMD51uf0whvE+gIxxn2U9E239VHGll9D3VGT1PQOiEuWuiwhF3P1XzNabQREwgBeOOAaDC0ppkY4QgmzfC4SAInA5HBjiqzvdKbnkrCJiuu/JSgITSrBwHBcRiYBw3zMhsA8KJIwTjv1CtP3zFSODVIasF7xsqO+3h3ZtGerX8am9CQGgSER5RzHJrOyIJiEhQJaISt8r5UmMkS7jk2rnEdJl8qGUWRrGiVAwebmn/da6vTtiA9pp8PbfBIQVTZbegX/HN8QAyQpN9vYkMraRSqQtFxAQSdE15R3DKgIQ0TSdYkBE0jX1LeVuEABG8HyTTVTtixOCBR5kMMi44HBwONjH/j0lF39mpLS9j22JMvWfvYRCgKRomiof3+MTQmCqZOdmGalEIgOYGLH+uOEoEj2NrKsPMzRCHm1r/PXBnRsHerMjZNGiRSFKw5IyNyciY3KKsjSEJOC1R4a6XVLkpW/32pYJNLXFDw3xylz5UONgs4mK/dK7bhQJQalYelNzOhjSdAzZdjLIttY2JECVwwoejmd8iCEA/FQu9XjPyMlTTslbAECYkDd2DMCEvFEK/a0OO00gQpCR3P5qXYbq4YjyBo0DASApFGcbyAGomta6afF9j20eN7Xqmd//bJ9Tdvb4ip7m2i17OwtKCyX01jNAmGJrYNPGrShQpCSb1+9szC0sUukbMxw0ChujrF/IH09uiK88LEaNwPQtSq8sDn4JjfDj19rdMg/2y+gff2SQLKPm3dsOt2WKSvMQ5wBAJTnetn/b/rayqvKdz/75z88cnn/RPKN+7R33v1I0cXqBl767/v4HCwJQt5mZnBO5uKDUSyXIesEKprmyKmN8ygI5hEBF4qVd3S+3Gz6FaBI+XlKPEFIkrEoYI6RKsP1g38P7Ex6K1tZGn2tKKxTDUdcYS296cWOMjuqyIpCO1QBRgrLbLIQgVcIKQeiYICnFCCHklWmyP3nnlt4+BhICgpFHpZJj3bOpe3eMDesNf7ghADRC8mRVOQ3eAkLMNgxL6JqHHlvAIeCZdAbJqqbKJxyWyVjcc8JhbzwTxoRgTIms0KOCvhgRihFGVJawazVtb+3tMwmlhGKEsaRQSjEAklUa3dm4c30X0WQqKTjd9uiDT+fOWDC+yNvZ0hZPMw3hrt0r73vkFZOouqpJ9HidFJJkRdVUiRJMFZzu+tsDDxzqZUbL9nsffTbmUIoRppKiqooiYwQYQdIWh4f4+RWasAdif7rPak0giQIAYAKUAKFIVRElCCDDoMCDpuWSbb1ckSjFSABgQighAAIQppQiAEBYVlRVVSjJrjkRpRQjRCXFR5W9rz715PPbsCQjhKis+CS57+Dahx59IYMITwy0RgeEgIoJZxZm6v76yHJB1Q9fkPf0wQU/M7egVPNSdLSKBwPAK7Her+9evzM2cDrVcQCACNZlkk6Zh3tNwIggIATLwI90Jw/2GECwhAAThDAWABhjjBEg5JFRLGbUtqcGLK6fIPqEAEzTTVkcI0BCZEwmADCCdMbNOEJXiGPaB9qTrQlXlYmEwLZcwxVUsLYBI8VBoggJUGTCLOdAZyrugi5/wCo5h/FPQMPklZ6Ob+zeuDU2oJ2Kt4TKPN56369vfOylDS7R/JqGMVYVum/JE7/55Z8OtMV9mkeRCKGySLQ/8Otf//XF9Q7W/Jr2Rm8BgWvZtsPMoXhbfb8NWJIwtxwj4xIihtr7Esh/5U8XTpsSstOGYbjAnWhTXyzpSCphqcTOp/bsWNU5NJARmPbU7W7rV2bPHu0KOu+ST8weU2QDACKKpmE3c6S+bijDFJkCwpomx6Mt+2sPDmWyCkGIUIIwZO0jIJAlDVnx+v37mlp7iap7JbRvkAdlKCQum3auNslrra4FJAMCYRnCYmAn7UN1rsGQTJEAy4WJYdJnuk29cZcLjDBzLMN2ECKIO/FEnGNZV1BX0+EDBxsNTjVFBu6kUhlMpfRAd+fQEJbkrKHWVSXe3Xy4tRskTZWI7UL5pLM+fskc6roODc6bO66jdlOXwd/shH10oBP6ck/HF7avXnOiTM+14cLE+FnzcvIypxcsVyTU3Tn0p05nXdSorsi7YUGBlEz9cU3XQQshxy0qDF0/P0/CcNSvRYAR0hEs3dFxz+GMR8MxQ1x3Ruml5ZrhcABQZNzQ0PNgI/vlleWZ5uh3Vg3971U1M6XML1dEL55XXjPQf8P6PlehibQ7Z1zB92fmbNvXtTjKcm1rP1Ouq5JUimWJ9HcN/nJtdIhIxRLrskEd7nv0YYfJ2ZWFZQTjc06Dt9x1tLwRF18255knHvnZ2lVXX/eZeZMrXdeafO75vf2P33n9j8ee9bFPfPKiiIYgUn3xZXOffvLRn69ZdeVnP3Pm5CrbSrvHEjVlhTav37Nu40AgpCa6EhDOv/ybs5ym5teW9OT5eVODfc5/T46ubAyfPalK7X3+70dCuXJ/61DaVhd+Z67c3NjQkDDV1iUPigu/dmZqoI8ZXr8HpVzlos98SbiWCYAlGZntLz94x/6du+O88GvX/2xupXf10/c8s3SvpuIUCn3mRz+epUtH+2kghBCSFCnWuvW2m+9LItVKxgpmXfXjr1/RbSYLvBhzF6Q8Ze6Y5Ip1zhfOlTTVWr84+VodDROnrlHIJf5f/EAp9ri2G1RJyIcevfvewrFnf/vjZ758z43PtRbf9ptvRNcvfmDF4Hd/+KnX7rxl9cEhL7EMteJrP/3ROLn7T7c+4s3Prd+ya8Z1X/erGkkRDWDrc/f/dfFmX1ExirdxWuNavGLOxZVzeMY0HckbyMs1RV0sYZfkIviwlVycLgzuXpxXXDXn/EsLSrMjGABu62j8/u4Nz3e3nk5yD0KIu+7mDnPBrPKb5+Vs3dfbmHRe3ta5JkluvLTqtnMiu/dHH2tK69JRx0QAyBLuiQ7cuGXokrll911V8/FC/IeVHUeMo+J+TKB8v9Tcl2yJO02diU0t8doeq3/AqE+JfOrcvKorWJ5371UjF80IPLWhfVm3jV3nub0DckH4poUllTq2OCjMvmd9ZyIYeuiqEQvzpCNxGz4Qun7D+GeBADRM7m6p+3Htlie6Wvyn4q0Q3BV07LzLfv77331iftVzf/jZz296dMgGb17lJ77181/+/P/p3Rt+9OXvLtnWjCV97LxLf37r7z5x3ojFf/zFz3/zSMyl9Fi4DSFkx5N12/rKFk773M/PkjuOrFreCoI1rmwcpDkf+86ZI8ukjtpoPOEiZjetakr7Cj75k4XVwfSGpR0VZ44bOz6cP77q4i9PjXiJY7ns6G8RlpWxXQ4AEkGdu3Y4RWf86tZfR1J7Xt5woL9u3b33rTzry/974803TZRb77ntyTRRjq/yEKYSjz/+uz/2R8648dZbr//hpw8895eHVx3O1dRiDTmcCwHKWXOhrdbc046AQKrffG4pjDo//IdfUfNwZsVeIAoAMC6qQv4A5fs27oo58T1rt+xYtbkzZTfV1rpqqGnF3/6+ZvBrN/7ullt/VZbafeefn7EkuXXzqnW7B6797o+vOW+KME0sa6norrsffHnW53/2259/N2T0D/QbhCDmWBnTBkACQPP6HNtJGRb+N3a8fr9Bw/SulsOLDu2qSyWyIxgAJngDc3MLKnTvaWVTC2ExNHlk+Ix8vSCgFKnEzDj7B81e0/7LqpYbtw/GACUy7onqVTKGus6kGfReUKYTis8flyNZZm2/k+176DJRkOcd68G7jsT2pPBXZ4TbOmKbO42iXJ/fNlrT+OIxQZnChJrQTE3s6swIhEpKQl+clTc6JFMAhJGVsvan+ayqgE8i0yqDpT5sf9RTXz78cEGM9gZmh/OqPD7ndOqJBHc5V+TgiNEjNZY40tBmcwScMYD88urKspye5qboQAoj5JxwWGNDm8XhRBkgIVDOxNKamoDiDY2dnR+tHzAc4c3Pn3ftpBGVQUowVSkhiDPhLSuadUlNbsifX+1nDpNlTdOopGnBkE/K9g1//aR7Syi1AAAgAElEQVQA2X7vjh0onrLwwjn5OfkFFXmC251HGrr6Yrtefvi3N9+yty1O7FTaEsdNMCaSPdBS2+ScfcECv6aWTjh79tjItg37XUJkDBwAbJuUT1BGK9aqXQJAcKCTzvZcNpuGi+iIImGZ6Oj3c+SisTMnUje6deMGNuLsq84t2bpqQ32PMW76qKYDe/Lmnjs530u8xRdeOqezaWfXkC1rRRdc+7nzZ04IyLIQnEqk6/AhRotmzRih6pEzzp7pk98s8cJd2/6IC7+4Qkzy52iAem0zO0IBYIo3ODtSNMITOB0qZ5tiVQQkBsxkggNQij0Y53j1z8+M2A77yhxalkOeW9F/4kdkgiyLmQKpgG2HORw06WisQHBOFGVqAX1mT7QkHPifuYF7lnU8aPDz5pQHiG0znnKEAsRiIu6KaglzF0oDssR5WmQL9wFjhIQwXA6ADctJOeIjHGv6SEAAMC4mBnJmhAtGewPWabgOhNJE16Ennnh8y8HBmVd+74eXztOxcB1z76rnn35uqQiPu/GvD42vyHVdO9Vz5IknH99yoH/m5d/5/mVn6ojZ7uvPBcJgx0ybIVnCjuFgShCAUuDVJWGy1wW3BRdynq4r4IDLXIExEsBcmyMdkeNSDQLesGnBBXjKCrwSWNzijCOMNY8mqb7Zl31iXBAsRIO5BV6r0TkhAQITCTEzmTZlAAAnmc4EKlVTQL8NJV5wGQMlrMybaC7e4LpXIoJRSR6mwMECV8Axb5QAdKTs8pFjyvHLjz/88uRLP72gMPqXex8ypYLvTqiu3eKkY0kBoAFkEimCFAlxEg6Fc3UD2PGMEipT27FsDhhgqG/QdpQTfx0CMFIpLEmeE9LXPoJgQoz3h87JP7lrxrrk4N2NB/Ylh1Ry6gXCUdE/myMAwUXCcFOYfnxSrjKUXNdlqhgNpayUI5jLUg5HAJbNhkw+vio8Xph/2RTd3jp4x6a+/ILgjFzJOqasYiM8rUTfWR8nIX1MxFesuMs6nLERLTfsPaOYPrqxa11r7KGNnU2KtrDKY5hu+pisPuc8nnGJT7usRFuzp2d92+DivQNtCTYciPjQQ8Z4/UDvA82HaxNDp96OkxSnr/7+W+9sw9Xf++1NX7x6vo45pWLHi4899PTWOdd+a9Gvvj+1OiIAOf2ND9x2RytU/s9Nv/3Cfy3wYOaeLFZCKLE7o5sW79+5fs+OrfFxc0sl5mQM55icurDStusKwZiRtDkDBOBajmm6AET34YGW7sb6aNoVgdwcIqfTGYaP+QsIgNlmMpliAhACM5MaimVGTj9/3kR1xZJ1GSS56XhffxphkU4mHQbCtROxGA5XX3zByNV/v3/5rtrFf713T4925SUzZXC6MpwgAOCCI/msM1Cs2TrcD4iJRDortiaMtLAcyJa0cWhN2+GCsup8d+XafVWTJk2YNil1eH1z2lNREJg7/wK+Z+mjL6/fuvmVx57ZPXP+xUVeEU8kHSYQAAKwjUxsKFU6aV5lOPHUX5/bVbthyYrNQ/ZJ0poIwDIMr+LzeeQPXUO4fwAyxlsG++5uPLDrWBN7smjRogma979Kq8Z7A6exHYcQiJjBCiPeUSHJcljSRWNLfBNKvKN9aEN9bF1nuivDxxR4FCFUnzq5QIlnnGBIn1rin1Eg72uJL29P60H/984uKJCRfcx54YA8EnYIOWd0TqWXahgFAtp51T6ZkmmlntRA6tUjiV4uf+vs4lm50kDKoR51SoGGASybmYhMKPXNKvUYg+mXm9PFed6pRZ4JhZ4CDbsffKEf9EFpk/Bvh8P5tED42tLqKYFQ5jTk/RgXpRPnXnLJOWEVZSyLcxDcxZ7IOZddPmNMmWsbluMKIRiDkvFzLrl0fljLHnaSsaAS6T3QOkA8RUFxeEd/1YWT5p1V4qTSDtYqx+bKGARnmQTLG50f9ILJlYpxEYWCkbLknGBZVShYrMXbeloaM3lji4ojeM3SZcqIOdMqcizXBUAIIyudZFpkyqRRMjjxWDxcNmb8mFFTZo4fPLh17drNhxs6fMU11SW+WNIZOXFyWLGSwjth4qQps6eRwcbVK9Y1D6Irv/adBZNKsW3V9vPRIYIRCA44FHQ3veYkwuqMcqABeVINApfHEqR0lFQRUYA1Jnh3kp9ZpEsU+SM15y6c5VdV4LRq0ryJY0vC5aNHFklbVizfta9l1HnXfu66BdRKDiTdkRMmFgQVJng6nlDzyiZNnThxTNHBtUt3N6ennDG3elTN2LE1CspeQqxLeOPzT3SSsVddNhMc+yNrgx3Bx3qDX6gaPSsUyY4gIcTq9NBvdm3+v1GTpgfCBj+FFRYAqoQR54YLmCCdItPmLoAmY8SFYQtJwpxzRLAEIuMIRSaYc8MVioQpEoYjVJlwxt+gQocQ8sjYcbjJhCRhjaCMxVwBlGIVg+FwSjEBYTiCUixjkXGEEIAJ1ikYNgeMVIJMh0sSkfHbigp+UCBhkBA4ArgAhEBCwAVYH/w3yrsInZCXejrvb6n76ahJM06Dt4CILBHXOf7eBwEgSRIS3HHZOxx2IhRN2v/Y8tVHPF/5+VmyayOKHdMBTGQJ2WZW1AtJGuW2w4HIMrINlwugikSAW5ZLZIkgblsMEPZo0obH/vT8bvjez7+Zp3GHcSEEkVWVIsMwuECq7kHMMixXUhSZENPICEIpFo4rNFV1rAxDkiYTwzCAyJosWZaBJEXGwjQsiuHxRqfci88pJikHIU0zH/p17G/t4cV3K17BjAwIhDQNuINsRybokTp7VJDMzicOUTWCDTPjcqTpOgYnY1iAiKqq3LUcjjRZti3D4UjXVNc2bJcDIFnVKHIzpiMrGhaO7YKqKAiYYRjZp5DKaqJp/e/+vPi8r/xg4YRIxnTeDQp88JDViPj5oT1bB3v/NHnutGAYsrFgCggAUXRaq3cEYDkcsv4wFxn76ArMtDlCgAm42ZYcLncBEALbYdmDbZc7CBAC036LdYgQIm0xAYAQuC5PudlqN2CMpxlghBzGbQGAwGU866wjBILzjA3ZTi8ZLjAC22HWsXm+i6AYspqxWa0/R8B74WILAAmBRKAzJerinLsCI2AcBEVVflztQ0wcLfMfBgDK7kqR07zVgtkn79IiANd5ky1402EngnPuLcurliVuu1xw5jAAAMZOEBsTjpE9J7MMgCyHbYdlU4kcVyCECRZcZCw++5oveUprTSMjNBWOHmAZDghACIFlZAAEQuDalgsIY4wEcxwBAIZpgAAAxzAdAQiYkzFcjBG3rcyxMOuCYnp3o1PoxaP8kLZt+ZJPB6s6kJVksgSAAIEwDYzAK6GX2xgHNCNCLAaCmensViESppE+ep0EN40MQhghkTEy2SHDNEAIhBAAOJbhZIWKLAMhjEAYxz+bvSjcMSFwzde/OWl0vmFap3W/PowQABxgTk7kUGLgeJiGLFq0SCDclorPy8nXKf0XZXpO3XTjvTntv3Lydz6hhEChMGCKQ3HenRTdadFhCpWgkIIEAHv3fG0BoBIwXfFSK9vdzyhBJR4UUrBHQr2OqB3gh4d4sY6D8oe8s9ZpAiNkcRa1MnNz8gOS9O+R6eFM+EvyqkeHEfsXvvDoNjRjSC6prvRS4fJTdyQS4hRV0yf+mQkIKShPgZfbWEBCxRrH3jCprATiCiYQAoJApYABXulwm5P8E1WyRE6ZqnuqGRw/7M1DjHtyCkvygo710Q1BZIEBuYL3WtY5kaKQJEPWC/5zZ+NttZtDkvKjmvGD9kf3HfUGCACNQMwW69vZoMklCefLCCFoS4u9fW5EQ2cXkqCCDPYuWOGs/e01xRMNTpUff3KEnKOAK4ADIIBJCKdd2NLrPlhvX1UhjQ7ilPsBDrP860AAGsF/bj78dEfzRfmlIz0++9/V0EeId+tVj4Az02Dw3oT7DQYTgkRCaEmHu28IzYwY+RrySYgQsDnEbXE4Jjb3MI3CddWSV3qPw1wIceaYH/lUUQSgEXJXy+G/tTZdVFReeVyyPcqcO+r3fb6kKigp7n+wa8bJQBid3ntXICypimRbFlU0yLZBwhid7Be87VdwIY7//2SoBLrT4vkWp9yHzyiUclTEGQcADDDE5T1DsCeavrqCFHvwP8UthDAcV3IhGFwG99U5M3LJ2SWS4Rxd4wIgpOngmshx/ZpyKIWfr49/eoRa5leSpsXEB6af47sOGZPDqXinZXwsr3jQsU/nOmRFRt6ZE9k8KiFe/8cHGiqBtAtbe1lrkvsJDGLIAOQAUpgwASaHyYQQ5gDvK5n5DzdkTOpT8W7HvuJYdRwFgNp0Ynl321k5ebNDmvu+6ReEMRJvt9pDCGMkGBcAiEiUp3euPZA7ssbo2i3CFdVFOQKAYOQ677gnhxDFlAnnqDiWc9L6XsLQb4onjzjnFpFpEWI4PM0lEAK4wJSgoZb81qEpRaOfbmGfG4H8MvqHQ7QIUULYsd4CCoZXWt2qgHxuEQwZAigBcAERYIa9fTfkVqqludHuNqelf1z+uFcP9U2ExJhpoyX3rcLqHw1QhOpT8T807FMRPiecf8qehwKAIgQg3jmMgxAiALYQBCEMwvmAX16TgYzhvGJiuKTXEFFbWAICBAoUlKtihIXFTi4SGcZ7DAmhxnTytvpaH6ULcgshmxfsJ7Tc49cJPbXiHwiEiaopJ7aKEQIkRZElesIK7ehhBP0zWg1YkiDZ/+yvl+2sjUvKW9SeYixsw2YcAGFdRmv/dveTKw76NevxP/5q8abmgKy271hyx/0vmlh5u0RnRGSUaHvwrjsP9LF004Y/3ftk3KXS8TpUAIpgZac7NodMj9AU0Yx1Tw1873ZmU6BYltTo3tWL/vf2Eq80LUKXdrj/qCgbkRR3sP6BW+9t6LdlmVAEUZP0JuNDyx54dct28wc/TW9qQaoKhCIeT91+S3rjEZnKsboNv/zRH0o81OtXH7r7vqcXb5NU7SP78AgQeYo60hcMSPKp47IIqcBf2tL+/BFDpW+b/K5KsH1v9IGdMV1B67Z3PHE4KdEPfJUPE5BxASEo8qBZOficMJ4YxCEV2VyY7gfezf/AgYOIyMoofyhHUrIjGADmeAI/GDlxtNdvniovGGNqxaJ7axtB8Xi1rMQfkjBvObC/vS/j07yUYCEEJtSKR/fuaeSK7tXktyCxAEyJpFBJlVRNlmSSPbukUkKJTKmkqEWjIoEABYRkhVCZKpqsaBQjkDWld/v+V544jDy6pqqZrr3PL6udd9VV5UENSx6PplKAodZD67ccAEXyK56sdLQQAlNZ1zxezaNrCiEUWUNbNm7sTQm7v3ndpl0GJxghSdW8miekebptMmiLcwpIyhVCAKmsYHvXm/u7sSQJAFlTZY/PRfjMQiUOcnOKyYSomkYxEgJkVZUoFoAUTfdoHq/mkSUihMBUUlRZkhUfpdjo27piU1+aUUI8qt7lqpUBHt219nDGowbimVc2CUQBBEgy0nxIVTmArKmSx6NSGF+WP/3MMesWP3UkxuSPqianxXmurH67etx4X8A8VUYaQiAjsacjXjvk+iQaUIh67HWrSsSnEJ9CZIwlDG3R1IYuQ8Goviu5o88hBBGMPDLxKcQrY/I+aFL3z4ELcDhkGKQYGAzc0/C2hvFewOI8JCnfHjF+ciAnO0IB4OH+zq+vX/LIjPmX5pck3XdK2UOEUp5e9tBfng6Ovvazn5hcle8wGyPcd3jzY6/eO/fKT1x20ZkhXZiME5Ze/sgdT/lHXvvZT06tzneYZdruCedBya7+pIPYQKy11aicVVVR7s0MxrvqzFCR1ranQynJn3DOSOxRM31DvYOuT2YNu7r18sJxUwvS3d3bX6mvjyq7qgJjZ9ekGg9mrJyRFaGUm/mvr/1ALiwzALCkBILyUPOhNRu25o6dO3NSpQQIrMH1S1c3RdMjpp4xZ+pIgYmqaeRo9wEFEFIlraNp14YNu0ENsZq5YyM+hYDBAGybjpylTSuwVm33zil3bDM06oxv/nx8vobd/pZEu9EWHDlCS+6p7cgtq8n3oCMHdrveknEVeUdqN2zaWUcDRfMWnFPiV3o7m3vjODfEVtc254Vcf8CLMVZBaju86eXd9siqMCiKooa1Ky8Sv15p939aCQEwr+e/v4PyyxzX9lfN+n/XVxdofEgIUVnDX15T3zYwcmKO9Y637EMJBOAl9N7mukda6h6dNf9j+aXvzFvIdnuRKZXErsbejX3sjJHBKh8lCFq6YmtaUtSjLhydU60gQrHKsACQKVEJIhgDd1bv7zscY+WFvvkVXknwD0HJzzD+U/AS6eHW+vuPHHzyjIuy4WCyaNGiIlnzUbowr5Ai9M7sEpxRX2TarElG266nH3uuLUHKq8pkSkpGTxxZKG946enla/bqhaUFYS/1hKfOnmS273nmsWdbY6isulyX8bH9MSSrtHXljqfu3mPJGknENi9uCk+p8Bt9z9+44XBdd1tzOr/as/Xu7XZxcY7V9dhvNnV2pBzL3LP4oJOfF5Eze1a1JDJClqWCMUWZI5vXbU0s+MRCH8F5ZRUhDxGY9jXuXLFme2JoKBZteuahpz3jzpqS7973mxs3NlnFfv7aM8+mcsdPLuKvLt08+syL8zOHl+7uv+Ty89MHXr3h+jucQMRp3va3nV3T58we7Rc2BwABkgfZbZkXdsrnn0s0QdVgRUWRREmscf19979Yfc4lFX2rvvqZH9IJl5w5wvnDj28So85Sm1/51S1P+vNzo7tXPr3kwMyF89M7F998w727DtY2dFsjR+Qd2tYw+ZJLcPPSX/7i7lTVpNTBLdvWbJt83lVTp5ckn3mWB0er44qFI2h5OfEQYbtED1ZUlMjCHuTSpoF+sWZT3rSzxpeHTqos+MhAAEwK5ORo+oV5RafkLUJIBr61aXBHp5Ey+aGu2BN1xgUTcjoaum/YOBAK6x2dgy8dsc6q8Tc3DzW48pWjvdsPDQx5PJeUSHe8duSZLrfQh1/eHj1skbPLPW+xdTuMYZweBIgJgZwi3XdpYVlWmRIDwMbU4APNdYeSCQWfWrKdOY4UKP3k137y+99+p+PV27/+9Zt7bSwAj5xz8W9uv/OqGer1n/3C3147IBEq+4uv/eqPf3/L9zqX3fHVr97UaxP5hDCc4MwW+uxrZ13zrfk1+caGJc2C0NRQ0jt21JcWXThlXMAyHCEAgUj3WGXnTv7M/yycMV0/tKM7UjNq1lkFoZqiS75zRnVEcR0hQGSPNI10tmwEczbQMjD+0i8v+tVNU8vtnYeam7cte3VNxzlXX33+x66YEEi/cP9zMS7R4zoimMjMePHhR2DC5b/40f/8+LeLpk/Me37NQQsfCyZzLs2chzON5vYjiCqCORnDcBweLhs1otzTGYvX72siWO04dLCjpTHKQuNKxON3PF1z2dd++j/f/eXNP/f3rv/ba3tVlXREOyZd/q3bf/u/E0s8lsMpTy178il91jVfve6CS88YGWSOY1lILlOn5FlL1nGOAYMwMsLhgJBgTsbIMIEE4/m6x8fcTDIt4COq+ydj/FK0/aGWuoOJ+OnwFiNk2m6nkL5yftXvFxTgoczh3vTj2/uViP/asTkfH+nb29i3otvSTwjsyBQdaRt4rM39/gUVPz+n8ldzQ6t2RXcMseNBjGEM4x+FjMmSno77jhzamxjKjmAAGKX5/qu4oljVndPJSENEoSQea1+zbHVKLTnz7Ok64VhSCDj7d67dWts2eu5ZoytzuRAKpfFYx5qlK5NK0ZnnTPcQcWLFveDgrw6HfNgCUjwqnO5NWybTwjkTzihXJeQywAQhBMzl/pqiMZPDDJjkUSjBAgRjQgjgDhdHs4zQGxSnHJfljZs5bVyuKwzJ65ElNDQwkEzHt7782B1/vrPZDk2bXsMd93hKF8LEMeI9Lekx40ZxABv8o4oK4plMxjkqJiUcB+ePUCbnW8s3M8DZLWTGHN2fV3jGuY0N9TvqBj/xo68pvbXLlu/wV44v1pNHhqRRoyoNANALayoLO+raMi6UVs88e944AuAygTBhdqKvI11TWYYY9HlLa4q9rmsDgHL2PNGw0+5IoDftHREM/RkxAtuGy+DkzqUfHSAAJgQT4tL80jLdczq8FUJwhGdXB4soZBj4FezaLGbwrsHUH9e333c4M7rcny+jE/MqCILOQZOE1EoPSQtWmqf7JdaSYNKwCR7GPwUEwAS3hbi4sGyEx5cdpABQJWvn55fmK+opxSoRIlgYW1556rkXViulU750/W8nVeY5rjXQsm/xY3/b02rOvfjqL1/6/9v7zjC5iivtU+GmzpPzaIJyRhIgRM7RGGycAG/AXq+9Xi/rXXv3W2MbbAM2GQzGBhNMEDkHiaCEMsppcp7pmeme6Z7ON1fV96NHQiRLBGNszfvMj3mqq+vWvfet0xXOec+JPsotI7Vt9bLnX1glV8+74me/nt9QZpi5gzfRMIFMVyyWdMuLIdqd0oorKAZCJUoFG5dyAgAAIbBGMAgOwPeffHOXcQGSRBEAoQQDO7jjCEAAlwIaAeCCC8ZcF8qqqgN+/ymX//Dc6UUmcAHYDm9x9nvgcc6J4isoIy2tHQALZTAjm98QM76pSVjY45cU4FdOWajfvdkduVwuIsJmWHCberG3tul3Nzg19b/8z/PfaPu/hx/tuOA/fl0aKiqg2c7OXuW4Ktcc7emPVh5XQXhcUf0YMRsIAHDOiOQNlSktfeF/1GBTSmzrMS8hwAHogmOo72lrXYt62dEAxsG3xjlsS4qTFDsjSR6/52/2fOgTQQBYnF9a3dCUTZYpqnt4IqsYoaCMGQguwGVCUWl5AGdCgRvPKUeccwESFUv3C0EKAC6gJCAbiWyfzhtUqSNupB1c6ydHcvbJCXwSCACb869V1XXruUpVyxdSAHgqEfmXDcsfOfrUC8qqMu6f86/ElBqD3Zu29J38D/919olzqHBypqHKvGnjhqR31v/ccElDgdewdcuVjZHeTW93n3D5f55z0lwJ3JyRew9tEaEyGBsf2dhEjJ6IfNblDdjqt/QD9BaO6TImBOKW4XIBCIA5ruMwAaiwrsBa3fPmI9uPOX9uaW0Vlt9OpG3ifWc1yh1H1828xo1tGum0XrfwvK9fuOnRX/+8/9RjiGWVzjrplCnEMk2Xg2COkcs51Hfxd67YfcMT192WCGU62zv1xpNL+lPuFB/kQ9EE4/LiE8jtr5s7OuVzZggwfFTsTUjcTZV2rVdOOLfGF5w5vXz4/m31U2sJKbnse1+865F7bsjsM3u3p4uP+c/zj9JXbNINa9zrnzMzl7Vw4LzLvrr+uifvv2t0t2fSjobTL0cugIBAvbqwKrdxI//GsRijAxEcPgneirgCq1NwJqMqJSVBEEfiRjAA+Ai9r6/z6uZtDy06+Yvl1X+et7Bf28TNr3yE0C3XIvJ3Tqy88rXI/77uTA8RxvBFi4pBcNMVCMBxWdrkUxuKv1mTunV5984aZWNr8uR55YsKqekcoc98Ap8cXkIfHuj6nz2bn15y9sUVtZA/jmvQ/CFJPre08pCxl4IzpAYXnXLKrIYy2zRslwEIl/HyKXNPOmlRUBa6ZXExXm3hyafMaSx3TMN+L2URkXB0d3fCU7L4xArblo/+yvzGWo8LuKShqKzGTxFwgQtqCsrrgt6gp6yuuKTMCyDUAn91Y5EvKAeqikpLFSPDQrXFNTXBnavfGNMaFs+udVwXALgQSqBwyozp1WUFgovCqoaZ0yeHCkKzj11SV0hHRsawt3DqzGnFhcHKSZMnT6r0Bwvqp06rKi0qqZ25cG5dKjqEChr/4Tvfml8TfKnHnBrEwXzkBRc4WOjuWWm2Cu28o33Yjeri+W77ggbPCccsPPq4hT6P5C+vX7D4+DmzagHxypkL5zQUjQ5HA/VHf/M7/zDJT7gaaJg5vbqyCAkGVKuZOrW2tqy6YdbsycXR4bHF8+bJ85bUlwXml0g2UgAn9KWr6GlnSEUKMI4Q+Cn0ZsTqMP/6dKVt+RNN6Yqvf/1MmR2OXvnfIbiAGo+3wuP7Qln1oWOGBXBAJUF1ZqkWUrDAuKHc21CoVJX4TqjRdNNJMKgp8jYWygVeZXqFp9RDg35lWqlW5FOOrvOHsBiyYMnM0n+aV4DZITXZJjCBDwUHKFe0E0oqL6ioySdRRkKI34/0X7vlrV/NPvYbVXXpQ3o4IYQR4u9e+iGMQbz7nPiDqh34TNbonkffXN/v+/ZPTvKC6zBmWy4QoijEMR3GASEka5TZLgesyNgyHC6AqhIFbpkuYCKrFIOwLVeS1b63X176UsfX/vO7DYXEdrgQgiqaSkA3DCaQx+NF3NZNGxOqKmp+quy4puUIj6bZVo5h2SsR3dAZIEX15LX+HW5j11kx7G6M8cvq6OQAdgVCssdefn/q0abCu67rw+LVTmtuMT6lUkaSxphpWi6RFI8kmVbOYQJhoqiaBAAAtmtatktkVaNYN3QuABHJoyi2lXM4UjRNBkTAiersgU5rhg/OnOSV9e7RH15HL/iPwEXzkWMKAZtH2LYoO6veO4133H7bswu+dsXJs8sMy/64ZPgbBgLwUfqbjqb7upp+OeeYy6rqD8lbAeCRCXCuOwIT5JWwaTNbgEKxSlB+c1m3OZWwDJC1uSoTLMYreyRMALgQhsPdiViyCXxcIAA/pb/q2Lsvlbh7/pJqzQt5E/xQLHzdtg2/mLXocBZ0nwoIxWOd4UhOmjKnjAiOAAiAAPgYGmACkKLQZDTC1WBAk97vL4QA8scnHOAjTRgRgEpgR5xtjrCgguYUYFXFSHB9LNdsqjEHnVqB5xQRw/3UtmM1AqOmeGPQ1R2YGiRl2ESIgConDb41yTmHL9aQ+gBNZTI5h5YU+xzLPmINgo/Su3ra7utuuXrmwi+V12QOrdo+gQn89eGn9A+97Xd3Nv1+0UlnllRC3gQnBL+3Y9/XK+u8lH42on8ggNbfD54AACAASURBVMgSJcIyXZWA4ULCERRBsYI4gPORRUMQlSh33ffYXwEgYwCAuCWYgJCENAofSVIH7RdLa0vyqC72WUIiZJqGKxU+LYh8EjI+1UWpAFAwYAS9GdGX5r0u6XdYGfBpKir04plBjDFYDABhiWDXPaJFK2WMBw39hUj/N2saveSz4u0EJvDJIGM8ZOrLooNX1E0rkhXIH8e9NBa5umlrvcd3yOi4Tw0ImOMwB1QCe+N804gbBeRHMElGp1aRgIzsjxaAJN6vvS0AVAxjllgVdgddMAFKBSwqI3MLP4KwmQDIMdAkdHQp4QAXAADkM1lgl8Ona38hn4aLAwKo9aFJfnKSAISIACIAMIDNYXxTXXDniI/QUjB5JTr4i5adjd7AF8sPHR03gU8F+zMuA8YIjYvPiffMmQQAJQgDOEesiNSHQ8Xk9ZGhq5u2TvaH8sdxKB+xtnEsOkXzC3R4osyfVm8INCX48rB7YS2dUUhdV7wRdrqy4h+nUBmjT/j6KIKsK+5td+aH8BnVskJgb8x9tNf9Wh2dU/Dx5CXf4d9ngwO0niDy+4ERcgXv0HMzvf6JKfBnAAEgE0wxOFwgAN10HYG4yzghQZXIFOdXnFwIy+XpnGMhXKSRI/Os+M8AI+Ry3m/qiwpKxtO+XHPNNVv09O/b9jb6AmWKdkg2CwBNIgTBnzmXEAAyxQoBh4EqYwl/wN4CQiAEvDHgnlhB5xfioYRlCrSojPZneNaGOj/+SMtsAaBIWMbgsnHTJRHYHuMBGX+5jsYz9qjBpxXSAgltH2VzCskEMf7WoWCyOTH6SF9Hgy9Qfhi8/eQQABLBGkXOwXYFIY9MgAsGf+e78oqEWjtiT+2Otw3mki5KjqaaEnxkOLnbpEvK5ebBzI4RoydpjZm8LCBt3TO8Og7H13jciYnwu6FgsiUZe7i/vdEfKlM0yEfHxRxrX2os7dgEHYpFCGTg6/dG1g9ZyofHCCkEmjtiy1qzqoy2N4+s6tWl9zVNECQs4SNQ7ycuc+55teuevRmE8ewgjhnio+4GKwR2tcRe78wRafxCBKOemBWOGy5CK7f1//fKkTTgRh8qoSjjiL95CcIjGwiAIDRimXtTY8nD4e2nAZmg/vDYU01JjlA+ZhFhJEzrpR2Rjgz/M8Ph7wJIJtDSn1o76igeqiiYue6+4dyehG0AokgMjWS3D2S3tI7+7LVwvwNYiOyE794HgSAUs629qbExZ9yXCQPAsb6Ci6rrp/oC9qECPRFCChJvNI2sHLb8MvHK5EAALcbIIxOvjClCigS7O8eeas96KNrcPLp8wJApBoQUCXtlolKEALgAlSBHgMlBpShrsgwXCqAcBw9FCIBgJBMEAGj/PxgjTSZemUj7LahMMUFIkUhAhq2tsec6c5RijJAiET/FtmU/HbZcwIjzuCNUAiYDnQsJTyzt/7YhABwhFoaKLqism+YL2IcRHXcwCMESRkIA3k8tQCBTjPf/45WJSjEa39bEFCNCcIFMegcTDzanGcIYASXYr0iyYz+2c7Qty9UjQKuDYuxwMWJxU4CHoqGE0Zp2MQabw+RJBZfOLz2zWqsPKcUyFgBHqorqIeAIviBYcGFF3bsClK8baLtt21sE0I+nzBqzD+1nSiXiUdBIPNeUZDMrvSoSQLCw7G19uonp3GpfCAGhWAIsACglEkaAkIdCz3CmJ8NqSryNhZJl84AMHhmtG3K+0UguXlxOSj1Rw102YF9YJxMEGcOxAQcV4jrukMGLg4rE3D09qSTHMyt9JSrKmW405xb6yMCILmuEykSmCCGkEtE+lMoBqVNdRqRRgx8/vcSjSxIXK4eZIiP/p+3JMIHPGPkcXLd2NT/cuotgdNXk2QfmFIf+LoJkykQyDWjENd20C34vFS4bSduaVylUoC+a7U655cXeaUWS4/BkxqKKhB1rd1zYgDUJCwBVwvGkvm2MVSncp5K/XR3hjwABAoQikRIv7Ylk2xPmkqmFxY4+DOBazoqORE6IVbvjSxZNqiZoi/h735f5uPAQemtX84PdLQuLSqtVD+RN8L9VNoo5mS9U1GQPzylYpai7J/6HAf72iFFQVnjLedU0mb5x1VCUysSynmsPXHtWhbxfOQcBIIQ8wJ/a0Pdor1UdpD0bhy9eUnvZVK/t8tMr6VPd9l3N4uiK4ozDl3ZY3e0jq0nhktLAA2t6ljP/k1+qado++KchdM1Jxb9f2bfHIUFwf79Vuuq8+tlg/u8bw0U+2haxvnRCpUQwQUgV7On1/U/02zUFkj6WtWnBox2+o4tCFQXi7n2WguELtdJfNlPhBP7yEAAmY1fUTvYT+uXy2o/kzO6R0Ip9Q6sc311nVaze2vfrdvbHy6bKsfgv1qX/7+K6vVsHf9+uVwZp/8bhs46puXKuZ+lb4a0ZLOuGVlZwjBdTBKqEe3ui166L0ZDit+weQxwB2mnCdOCEeWVGa9IR5KTGgGR7qSoNhR2qIKGpVx5f09Q+1FcZvGSG382ref7dP5KPBYOxS2sazyivPr+sOl+CASDqWG3ZVMpxyGE8NgTg2u6umPvlUxpuP6W4oyPRlbZf3Dq43ZF/fvak604qbW8fWdqR02R8wH9AkXB4MH7rruw3T6u/56LJ35uq3vdWuDXLJYxkCt+YLM8txPGcm7PFefXK1yvZtv5s3LD2DOmdQ9mBnNMSMQI+ZcveoddT9DdfnHzflxqmu7lbN4y6GPUOZ1ps+eqLGr821eu6jFAciSTubc5+87SG359fUww8hPjp1dRx2YjO5hXhSydLEvloARoT+HyCIBi1zfZcOuF+tL1gDri+WGkPZyOGvWsotzOSaxuz+kZyhleVEqkbtiUvOmHSvRdN+a85nofXDu7LCGZYa/qMM4+b9KtTygOIM4Sobd2/MeKpLfnTRY1fmqTG0u5nshf9V4bDUVWZf6oHWkbN4bTVlmVtseyTralBGzyCvb6z/9btmUuOLW/0IpMfuVllDwmMUNZxHu1p35wYzZdQADAF113bYuxwmCQAbEBHTyuaG5T701Kpih3T7UjZkZy49Y1um3FTpoi9KwOShKErkuMF3uNKlJxAiyeH1D0DTQl3jk8yHcAIji4Zd32VJCIm+WCLvqolGagu/CpnK5rGwoY4arLW1DTSMKm8TgEbKWdN9v1fZy5qaqqqXHxUydGlmiNsIRAlEB41ZFWdUyxxAktq/buGeUMALwiSvL+tyeFzkyF6Ap8QyOXCdB2LsY90uGpx0VgRqKXDa9rH0rL3h3P4js4x35gzt6YgMZZO+7QTKtScEAsaQoXb+3eP2gjhoyaHvjglIAsOABghw7QH0+K047wC0PSawFRP9khYV+VjuFOm2z/GuuOEu0LBbDjrNArQM8aeUX7pKbWLS6WczT0K4kJMuEJ8IBCAK7jF3nH4ogBwuq+gbtEpRZTmGDscMlOMKz2EAXe4YEJgCYckXOr3/uep5eAySkmpDz/eP3LgGhzAI2NDNzMCJiEyrDsmQyEF52ejXLwTsWaBKC/xVdrxu7cbXzqudjHJXr8uYmvef6pUBptgNOtwRDTgo1lHpaqKQVJoUEbG/h8PAUiVsekwgyMMfCht2dxjczAAPnKG4wl8vmEwNj9YeOe8JfWa9zB5mwdnIhBQZwThwY3RY+ZUfKuO/Pz18IiQ//NorzeR0XU35cJ0RMdMN2dDgYJiCBf5ZC54Xg9JAFCMCBYJk1PA6Zw9avEj4+hJCIE8ClUwGzNdwYBiTmXqw0B9nitO9lAMuf0hVZTiIzez7J+FydhMf+gPi06a4g3kSzAAPJGMHr3y+VWxqJ9+QLri9wAB6DbLOgIBCC7SuptF9NKFZb5U+rF9qcGUtXsgEzG4YDxrcwxg2Sxh8tmNxUtk+9bVg6+3Rm/ZMNo4qWhRMTXf90PJmfB4tQYfXxtxZ1R651X5ovHsqCzX+JXzZxSxcOy2t6Mv7hh8pMP84uyiYsqTppvPU48ALNtN6GzqpIJpqnvPhqE394282pVNC3EEnFQfccjLnVzXvve4NS+tiA37yaF5+w6E4JI0r0jaMGA0lPsmV/n8trVbR1MLpfqagjN87M7Vg8tbR25dGymvLjyhTEoaruEIhAAhcFyeNFzZ6zl3qveN7cMvto4+syvebfIjZOfTsPnsqaU/Oq70xBr/KXX+JTWhH51Wc36Norv5iIzx4WzaYu6U4q9M8VkTE593I8/bW7ua5r/5zGsjg/lCcs011/io5LjsrJIKldBDp8US4Ao0qdRb76cO41im08u9k8t984ul5nBm24iZZXhmucdLUWFIm14s20yUFWozynzHVquDkeyGqFlVUXDl8aUFGJwPupTAyC/RxjL/yXVeRcIBVTqqNjitgBYXeeeG8Nb+zL4UO2t+xeWzg67NHEznVHgLZeQK4TIoLdRmVfgXlCkd4XSrgc+eXjC73Du9SCGfaoAZ2v/32eCzvNbfEASgab6ATOnZpZUaph8pIzAXyKeSgqDnrCmBgIS9Gmms8h9bpmBZXlzrjcWz64eNotLgD08sK5VQzhWVxZ4pIcoEuEwE/OqMEm12pVc2zFVD5rSa0El1vmmlnkLlk8Zz/uWQV6oiGDACjPI5DT4mJJmUh5TqkFIRUqpCSrlPogjec+MCQFMlv4w/tw/krwiB0FRvwC8pF1TUBqgE+QDlFZnEz7et/cXMRYsLivRD5bE/IPqXcwQhyCdjw2KOAFUiEhI2EwRj22WYEgVE2uGaTAjnWUcoElYwuBwoQbbD7Q85FBMCZBl7MGQs7gL4FQJcZG2OEFJlTARngChCusMYIL+MLYflVz+qRCiIrM1lCcsImABCEBYi8xH1Jj4MCEAhQBEymGACZAwyBpvDp9T8e4HRuGSPyYCJ/KXB4nDEi0OMw0voE0O993a3XDt70eJQifFRlNLy3r5+CWUtZnPwKEQGkba5AJAoVjG4XFCCHYcbTHgUggXP2QIQSJRoWGQsjgjSKBacA8YSBsNin0/NujxpuYAxW5iOAEACwCtDSEJ5ak3gM4aX0mcGe//Y3XLT/CVLCkshvxfsw7ja49fIYQV0IwDDZgCAEQguMiaD8ZQEzALACBzGBABzmAOQ34jIV3Zc7gBgBOafHSwIgePwFAAAYICcxfKFAMK02fg/It8TkbXGrw77O5BfLboIQID49PQLVQIOh30J3pXlCgMEwkUIUzQzgGr9WADYnx6bEYBKQXdg6xgf0LlHAHDBCPJIaEYQl3uRwz+GmNzfFfKvtzOXLlE9XkI/qrIJAmCMJxlAnpA2M/eXuy7PAmAElsvE/k9hnIHguiwDAAgEF7rNEALhMmP/dz9XyMsEYgS7x1j7GO+zRamMCgmKuSLpiloFzSggMwqwK450Ln2WQABCQHcuU6RqPiqNF+bpuysVr1E0d0Lu5H1AAB4KzQm+dphRDKU+XO9BXgJjDgzmeMIQEkUnlpMaH9I/scUXABICimDzKNsYY5UKKvLiSQqSMYw6EM3xcFYUa+isahKQkcGO6JGDEBJChE2j3uM9ZM7DIw0CQCOQscXLfW7WhUXFeHIQqxTl96xNV7Qm+dZRXqbB+bVUIciasMKfFTAgDmLEtuYEC/MlSAjxp/jQ99a+9tDRp3x2YpV/I8jb31fC7p4Ev7CSTi3ACkEOF1wAxUAAdBe2jbItI+zUanpUEf6EVphiEFw82ePmXDi3mtZ6kUSQzQUXIGFAAElLrI2wjiT7coNU48eGe+SOHD+V7uppvbp52wOLTv5i2WeUauBvBQqBUVPc2e4sKcBnV1OKkcVEPr0TAsAACkEmF8t7na6s+NZ0yUvRxMnZZ4MAle7pbf/fPZsfX3LWlw7kjqtRVA3Tc0srMcIf6VjjLwpMDi9DuxCIypoqC0CaohJKZUlmzBaIEHIo8U2ECCEgxDv/vBseCivCrCPFvzVVmhSUbERMhzMBnAtX0hwqYUmeFiTlCn++1y1WUYUXfbS92oOuixDIGB7pchki/zJdDnkkiwnTFYwLjiVXVh1MVUWa7Wd+j2ftCGr0o0IPsThSVRU4Y5/Lvci/JFCJohSq2gWl1QTjQx8jf1b4iLxVOOeK6qFYOC7D+DBIC4gQAiAA4Q+snNe2uL/DmRvCF9erFkKWyw+k1xMAHMDmQBDMKSKjhtg1yucWfTxVSYQJQe8eNpgQhIALpGne/E3JmkfG4LK/ey25w4IAKJKUqYGC8ypqvIRC3gQ/Pxb9Q+uu6f7QdH/ooyqe/MUg8inr0QeGi2BMCAIuAASWFGzFN6zYZGPetmPv6OhQS0tfqKJao4IdBq3eYfD7uKwQ6EyLtyLuP02VQwrO6oZwBJIoCAESZe27zKY+t68zE3UqJ5dUqOL1sDstSGTy0X7EDlzVQ9GGKOvVxXenSo7jmDkLUQmBACqJ5ICxaReLRc2mAZhU443uert54KVhFNBTQRjbsrm5oK5OQ/yIivrTMHluqP/hvo4pvtBMf/Bzw1vgjH8YbxHGhIznw0ZUIc7Y+tfXo0Cwd8e6IctTWRLknB3WvvZ4JfGBlTUKqwZdCuhrjTSdM7grED1ASgSSBCCQAC6ACZhdiLfHeM6FyUHycSbC7+uBEAIQwVzfuXb1kOWpLfHuWr16jIQqi33uxFEygIbJk0O9+zKpc0qrNEIh7xc86lpRI5d07MNwoRUIE03TKEZi/1sVAiRFVRX54GqQr0beqXb4wJIEqdhTVy/fujMpqeS9HyOEuJtN6S4HhKgmsdfu/91ru2M+NvjQLQ+sfXP50nuf0mU10bTixlsfSXJJIh98W0RWrGjTvTfc0ZORnYEtN9x677COlf3KbwiAc9gUYSeX00IFmVQTu1+Lf+caJ86QTJGkOm+/lnnsFeOpp/SXd+WQPDWEq314Q9RV3tff/e29/zY1N9p0xy13tI06PoUkLb5vDC5vQG8+cc8jL7xq/u9Pc6u7kaoiSRGxjuwfHzZWrMj8/kUqKy2bXm1+9vGhkd57m6yioHf3skcfemYDUY4gX/i88EjMMUfMXNK18aGnVwcI+c4U9YN5i95b7fCBJQllY09fs/ztbQlJld7bJ4SE62RTpkAIEPbI7I0H7355y1BZQDx/zy3Lt/YGJaX/7ZdvuetpHcn0Q0QnMFVItu/u227dPezqnWtvvvOhuE3lgxhOEMRN2J3ip1ZSk3icDc/F/u0GN4uRREAAYBDpJDccwAgAmAAm4NRK2pxgH1XBFRFJtkYe+O0ta5pHPYqUL9JUtuqPdz2zfJ9X5S/ff9urW7q9kgeS7b+/6fe9KaFIEz76gBDKuc6L4a4NYyP5EgwA3y6v+8nso88pq84dyrMHE8kaG9iwdpuBlIDmwQgEIJmwtq2bm7pGvZpXkQgIwESyx8Lr127TxXi190IApkRWqaRKiibLKkEgACNJpVSmMiXU4511+pSqCk0IJKuUKlTRJFWTMEKKKkc27nl5aQvyapqqZvt3LN/QecqXL6wp8vqKCwrLS4KFRR4V5WLhXXs6BJX9subVPAQjIQSRZI/m9Wher+ahhDIj0bJrX8bFPDe6e2+r7gImWNG8Xs0b0rwxRuIun1OIdSYEY2TaHJRqN7Z0ISIDAPaHSGEhKSokRT4EgKhybAkeyoFFFYUiIZCiqhJBgLCqeb2ax6t5FZmCEJhKmqrIiuanGDvJ3bv3pkyuYtKbw6Uhb53P29u8q8f0K9WSsWqDQARAII8fFxTRoiJSHAAEarC4IFB4vDbIVKr4ai64YNHml17sTjryEUNxAWBydnn15B9NX/CFw+OtPRbesHabLmTfAd5S3r797b2dI75x3gpMJDs5uHHtttz+au+/8Ht4CwCIEFkZ5y1WPLNOm1JdpQoBkkqlA7zFWFNJy7NbVr3Yr6iarKi58O5X17SefMnFFQHVEyov8PsoQHakb9e+bqRKftnj1TSCQQhBJMU7TlqNUApOrnnPnrjOndTw7n3tFseYEHW8gtenSuEMq9JQsQYOE9Ks2Siy19zdjyhFqhdle1PX3mQnMFbU/PrLYmJSgPo96mCWEYQVzSNLWAghKaoskTx78y2ripRnr6qqsqp6ZVlGduvePUMJk2Iqq5pXVf1Ii7Y1d/WOStgTLKwo9HttQMde8MVQqnnZ6iaZyu97oEccTM4urW64euaiE4rK8iUUAJ6ND//fns2VivaFQx3HIYQlwre/+shzL732pcsvP35+AwgXBDZG2h+++8Hpp194ycVnVfq9FmMSYTuXPfr8S8svuuzyE49qBGEb5jstYwmneodjOvB4oqdLbzh+yvSZhUYs3tOeLaz1dL/d75taUzO1VCqQjZFYX9gOam7b20PapKoFJ9fo/QOblnX2xuSNz+2dd/pMo6fdtgonlWtMnvKvP/mex6ceczwLASRACob88c6da9asURuOOfO0oz0ycfXIG8tfbx1I1Mw57tyzl0iUKKqKEQCmmqpgTDSMd21+be2mfXKgzDvvtEVlBRIWFgdwHFw6XTtpmr56A7toHnZMackXAnM4xg7WCrMDzdt7MwsWL5DE2GuvNx17zOySAG7esJaXT18wuXjnWy9t3N5GglWnnHfutAr/UHdzVxyqA+bbW/oaa6WA30cwJoD7YmPbVq7TJgcsrGhagfrF08VVy+0RQykmqHha8D/+BfkU5UTXsa3aY77w7WmOkGF42BtnorRhamhsde9gYsrMgiMnEFvD5LlI/9VN2yZpnkPnjkNEpnzn8kefe3H5Fy+/7MSjJiPhCnCt0Y4H77xv2mkXXvKlc6sDPpO7MmE7X1v67IvLLrzsshMXTCHCMUz7wHwYSzjVF4llBR9L9nRl65dMnTGrMBOOdERZSQFqeztStbi+emopDanGSKwvbOV5q9ZWLji5JtHUtXVFb1LLbKiW5p48Pd3bbhqhxlp/ltlf+4+fkIIKHQSmSjCEIk1bXlm1sWDGktNOmq8qxE6FX13+eudwpmHByWedtohgrKgqwYCIpKoKxlgl7va1L23Y1k4CFedeeP4gUyo1GyMQjo1r56nHVNurNvPTpoIe1Z9+xlr7tih+Ap1xvHLUZHAdRCQ7Pai3RgZmz51ZZO9cu1mZNGtqdahn19sxVHLMUfVNa19ev62NBCpPPv/c6RX+4e7mnoQo99obN3cvOKbRH/BJBCuAB9o3v/ba5oJp0y1J80hggvrlf/9/KFhm2LamFk8tDbTuazcvXkDeF8dxpEHD5KVo+Gd7t1R7/fnccRgAvlJY8fLxZ59QUHLI2QRzbVJQ/72rf37B0SXP3/XrW+5c2h1JWS5acMHl/+//vsU61vzmJ798ed0u3balwobv/vxnFx5T9tLvfnPzHY92RzL4neUSohIZ2d3+1LWrWvucoGq/ecfa5h4d6enVv1373F2bWtuyRORW3LauucNwR0de/M2K15/pdAXf9vD6t1YPA+euCwRELmkyzvVM1nFkCQuQAlNnTquoqpk+s14CwJKc7d/54vNvWsx87qZrnljV5hGph66/bsWexPTGqrefvPveZ97GqnrQRAepqrz39Qd+fdNjpKiSD7z9uz8+kAaaF/IG4EJI6mnH8KbNdlcSCEIl1fLUSbRxilJdCmOd9911b+cYL0eZn/76nmXbwgGIP3z3g71j7q4X773pdy94yqvtrreu+fF1XQmR7Xr7xp9edccdD7T0xvJnF5KijrStePjl5f6KomTbxjdX7SECSzOPlpQR8809CFOQ/NKsqbS6Rp7VIFzHU1Q1ZVp9XU3d/CJ/1uKy1+/zOem08cH75n+nyDH3qxWTXlh8xolFpYfkLXctHKr715/9/MLF5S/ffePNdzzSNZx0HJh37qU/ueo7omvdb35y9Ytv7dRNhxbUf+enP7vwuMpXf3/jLbc/3DGUOoi3IEkkvqf9yV+tbO2zg6q74o63mrpy1nDk5dveeumP2wYGLQkZK29ft69V54nRl36z4rWnO13Bdzy64a3Vg9zlHBBwlklYAsDM5Bxblik4nNRNn1FV5HEBUUlOdr798svrHDf92PU/f2Fjn+aM3Hftdes7rRkNZSsfvO3Bl3dL2rtJq+Gtz//hpjtf8JRVWT3rf/XjX74xZMpeiQCAYAI09dSF7tb1TtRAiImcgSgVqQTPmSLPFixRJ7l57SstaZCzvTf+8N/ve2VnkIhXHrxvS3ts77L7bvrtc97yKqtr3S9+dG1HErK9m2/52VW33/pgc0+M5NmresZ6113781tHUUDv3PLaut1CVhiQ2mkzqou9rutykAqKNctIH66i8981csy9uKL2lRPOOae0Kl+CASDsGOvjIzHHOhzRP+44nIbO/dr3br31/zIbH/zB926MOUg4bvn046761a3/eFbFjf/63UeX76OUCBo666vfveW2q/QtD3//u78ZsalMD1opC4G8oeMuWXDeN4+fVc83v9EjEDF1q+y4uf/8kzNmTQ0wJhBCgMDNomnnL7jkWycvWhzo3jdaXNe4YHFJoL78zCuOmVSgMEcAEgIABDMN07Ft07AEAAaeHs7NOe8frvyP/zt5YUFTR0/f3nWvv9U7Z8mxjdNmTSslq5c+P2zg8aQJIBCRsDH87IPLpp73rSv/4dIrf/I/i+cEl23vF2Q8S41wXTLnGMk7Zq7bB1gB1xamJSzTsd2iKXMmaU57S0fSMssbi8PNrd2dHYa3Ylal9ejjr8//6g++f+k3/vuXP63J7n5u5S5JlXPD5sn//P+u/9n3plZ4bIfLlG9bvqxr0PnuV876zve/1Rigtq4jqUKZV2GteYu5GCEmDFPYtjAsQIi7tmlajmNLnAsOVFKJ5mZyBoIjZSMCAAhCg6a+YWwkbtv0MI7aueNwGjzrK/96y60/sbYt/ffv/jpqYXBZ6bTFP/nVLd86t+bm7/7rw8v2Uko4DZ51yXduue1n9o7H//271w+b75wQQP64yRc69pIF533z+DmT4e03exghdtyZdtFx3/zRibUVKmMCIQAETgam55osCgAAIABJREFUnbfgkm+dfMxxwZ6msdp502dMLyidWX/O1+cXq5i5Iu+Uj0BYppFPiY2Em4qYiy7+1g9/+JNjZmrN3f3d21et3Bw56vhjGmfMbQxYby59Ke5KdP8WCSayyAw8+8jKBV/5/vcv+8aPf3FVlbP3mVe2Kqoy3luX0QXHETxorG9G3krvJRfg6nLPd77nO3U+ciwA4K6tFk+aPaV+zNZb9+zDpdXZga7OSNeIqcxoVF547NV53/jBv136jR9fd1Vluvm5ZbuoVxqJmydf8eMbfvH96RVe0+Kq7G548WW9YMl//8cV//Kvl08q0AzTRQC2adguzyeoVANSzk67DI6kScIHgyI0aOjr49GonY/pAQwAe4zsn3raevWcjA45hgUQoslSdLD5sQeWpvwzvnr5OT4ikKwRnlu38plXVrUe/+WvHje3mjGhytLIUMvjDyxN+qZ+7bJzA5Qf7KIgOHhrgn4NWYBL60NmwrQs7iksmL6onIDruAJhhBAwl/knl0+eFrTBxrJEJcxBuK4QQrguE+Na/h8w/3Mdp3Dq/PnTyjkYICmKTPRMOmfqHVtXPf3UU/289IzzjpPZQdHFmDBzbChDamurLACXBqpqqmKprL0/MgpcB3mqleMm2yvXcQ4HHpVgDvVUzp9d2bJp5d609c+XnesZ2bPsja2hmpllUjbqitr6cgfApcV1kwPD0Yhl85JZRy+cU+cAuEwAQsCt+HCqkAbSLrhysKa6ELgrAJQzl/D23VZ/EskfIEMjBPQ7glJwbcvOueRDTh3/XqEgvDudeLi/o0fPSPhweTs61Pr4g4+NaZO/dvl5AUkgSSVcX7/62RdXNC+++GtL5lW7jGuyNDrc+viDj45pjV+77PyQDO7BvGXgqw4GVGQCKqkvsFKmZXN/XfmUWYUcXMbGectt5mssa5wetMHBikQlzIC5TAATTt6VJ+8LefCEFsBxWenMRbMbQ47IYllRJJxNpXJGrmXjG089+XRcqzvj7EXEsd7xQsDYSY9Gc3JtbZkBIGhhVWWpOhTBAo132XVwYb26sMZetYkDgG0D48KyBOx3EROME1/91FnDPV0r13aefcW/zdGiL7+4kvnr6wvQ2Cg01pebAC4unFIeSA4OGhZUzzlq0dx6F4TDBEIIcys6mvGVVBAAVwpWlxYj9p7Uu8zMmEjgCfsLADLCTZnkn3ra2jPpfAkFgLOCpd+fMnthqNDkhwizRZgiN/Pms/e/smJHxdwTr7z2ysmlAZtZkZaNTz70eF/Oe8aXvnX2qQtkYGY2vuLlp19ZsaN0zok/+OW/TykL5swcO2ijEhOUah8ZGrFKKiHcmvBPqqIEEKYEAwMBBzxuuAAZIxACEGfj3p/cZZwJSgkAUFkiyP0AZQshkEcmCDgIzplji7Lq+pICbeZZ//DPS+osAA4Qb33DdvLfFJy5RCuuDblNe5vFmZOFPtqxZrV28hwPJhmRr8MFSMrJx2Vef87uTGpTPGJ8d5u7oM2aN2Xpb56wqhb98NLjV6x95t4/tX/1F7eXFZYUgtO8sw0vrHBTvS37ktNOmYQhSvwKEYwBARCcM4HVivoSfcNAdxamsJ7d+wYalxABQGYdIxU+bq5v9jQcB/CutTZFMGJyGcAnI8exmC4HfB4BR8pGMABYXJxRXJ5y7UWhosPhLXazK59/8OU3t5XOPvH7v/r+tLKgzaxI2+an/vRYV1o948tXnHPaQgWYlRtb+cqzr7y5tWTm8d+75vvTK4K6mXMPCh7DEkq3jwyPmGVVONw65qsul7CFPISA4Gw/b8V4gDAGIfJuagIAgNmMqUICDABknLfvMlZCCOyRsAAuBOfMcaFyUmNh0HPURf/ytbnlJoADwIa2Ofm5jBCcuVKwrNJvNu1ro4ur7XR/c1fkpNPrR9IuK8m3yAR4lVOOzt20zokxSQJhOyDJCHD+JwAABJBhuWzwqV+u9BT88t/PHDGafnnr40d/+6rJVVXegLVrV9s3FlSamb5dA4kZ59dTPqopKhY8/0wE5y5Sa6oLxja15wBwvHdPV+/kJfJBP4kYgJsZ16sEKX6/5/0RB5PzU4vKc5NnLSoozpdQAPhNf+uvt64R4uQfNsxI/NkcXJgQPTLQPmB/6cqfnjSvXnA7YxqqxDr3tnimnvbTb3yhTCOGpZtYMuKDbf32RT+46uT5DYLbGSP33rYI8Wru1qUb97i50Zz/vHMbcLbXdQ5QUnBXCC4AA3P2+91zzjkXgEqmlbpvtb3y+01LLllUXl+DlI3xpDXNT62DzBQX3LUdIQABcOYaeq6o8fx//c4ZD955zeCmozyIlc8+9YRGSbDxceNYhiOXffO///nam5+85rpWEm/X7aqp5SWRnBuSxiUghOPSucdIvkfNTXvVqScCjB8B2Uw0TJ8BVWXFJbU1VJs9tyb1VHNDY5WQiv7lXy//7X33/zy+1ezbx6ed+5XT54yuXOO6+6cJQriOY9hw4pe+sXjn3bc/v7ErsSZNJZxPVxqoVRfU595axy5bggmI/XZGAMgE7U3wOg/yYzyciqdpsLTEzz83vrF/aSAAjeKbWpofbN2NAf2oceaheEuNaLit3/ziD35y8vxG4HbG0DUZuve1KI2n/PzSL5R7JN3STSJZiaH2PuPC7//k5KPy1XLwbo9ChKnP425dunEv06MZ7/nnNeCuPY47rloCANzlQoAAcYC3ggvOuABaPbdoz6vtrzyCl1x8VNmkKqKsjCWsmUHZOuAwy7nrOAIAEDDX1XN65axzv/2P2x7/zVXdx8ynzKk56uxz5kmc5WPduG0Zwlv9jz+87Ia7HrxmdIc52OQ2nvk/X1+0PmLG/TikIJeDcBldeBxBLxqbWuUzJkvlUu7mW+AbF6nHz0aurRAYyHDJI02zOiMVX68PegrnTrXNTGV9vUctvfz7/3j7vQ9cHd1mhJv47DO+cvbcxOo1tuMeNEjtnAknXnLp629ff+3Vv6n153KcqtJBlhZhCno0aQVnVKoA1pFtghGAh5Jbm5vu7W6eGij4QnkN5AOUt+rpW/dtu7Jx1gxf8JATCsE5VT0yEaa5f0EkhMDEo6quYzkue081y7TeFzKAZI3ue3zV20OeM8+pGRnQaxbUlJcoRiI7EtYL6gs0GQvmjHSntfKQhsxo1C6tCykEUsOJnFDKK/0YOcN7B8OD1qTFU+oKUtdd+b/0uCv++5snmYaRvxTG2EhE+qJm/dR6D2aDPe1ZWjS5tlyVUd++7bubupkcnLFgUU0B6u0eLm2c6nFiHeFUTUNjkU8Z6dm3Zcs+7i8/6aTFOxNiIO3841RJd/NuohhpUu43/5nZUVyy9GosjPz5LsEYM/O2rWOnTS9bVESz6dGOcKK2YbJXwooiDbfv2rqzjYaqjz3x2CIFxSP94THWMLlWxsCMZFffSNmkhpKgx471/PLtXJmmXlrvJElhTXmBUDR309LYfz0XuP8PnhnB/KRbAKgE4qZ4vMP56mSlJkBe/t0vXh2qvvaX3/O4xpGj8qERsjoWeXSg+4eNM2f6Q9Zh8/YdQgouENU0lTuWfVi8BUWTmp9cvb5PPev8SaP92eoFtRWlSnY0NRp3yyYFKUHA3ZGupFoW8hIrErFL6kIqRanhRI7J5dV+5Jp9O8OjKTz1+MYKb+LXV/6YL/yn/73iNNPQBQDBOBMbHEywhsmTFOQMdHXYallDdYkiQ9euLXtb+8FTOGvBwtpC3NHRX1g72e+OdUVydY0NQY883L5r245WXFB17AmLa7zwdIdpcfG1RinjACCMVZS56t9zg9NLHvwRDLaY6/bgxrnKUQ2IuR4C93W4U/0w1ehL0JL66gJhZ9u7B4qqG4u9sqzQSMfurdvbSKj6mBOOLdYgHg0PjTl1DZNkAsI1err7vaW1taUF6UjbunU7A/WzagMSkwOVVYWCcQCgipbtWP3TXzx60VW/PntGYc460vUPNELeHBkecqwf1E/PlyAhxD5Tv71p2781zGjw+A9J5fz+1XuCYhDG8J7grA+qduAzRaN7H1uxvt93xf87yQuO7bqOzYAQWSGu6XAOgJCsUWa7XGBZQbbhcgFUoQQJ23QBY1mVMAjHcrGsju5btfSZPV/47rcnF0t2fkIhBJYUVcKGYXCBFM1DhKObNsJEUVUJEAA4rmm5oKmKbeocSZpCTdNgHGRNUxAGAJeZpu0+3O7OKkCnVNKcC0wAVjzu9ldSd63y/upqtUrjtithUDE81s0VSfpyDcu6AhHZI0umpbtMIIRlVc1vsluOYTuMjHfM5EIgInkU2bJ0l4FHVdIWe6zLvbBem+J1YroDkgJGOPU/v8HnfydwwXxhmgJAIcA43N/mzAzhM2q9owO7Hn94xTGXfWtBrd+0jyCdBJWQtxOjSwe6/qNxVoPHb3883iIM4j2W9oPK9kPRpKYnVq7p0r591SkHeIsolSVkm+Mz4TxvmUCKgm3T5RyoQgkI23LzHsQIhGU6VPbEW9Y88uT28773L9NLFMthQggiqyoFwzA5IFXzYGbrloMwUVQtL6tlO4blgkdTHUtnSNJkYhoGA6wcxDHOuMPFQ23OMaXkuHKSsQFUj7P2qdRDOwPX/VSp8OUn0MiyQzJaHnZ3Jfi/TZcV1SO4Y5g2wtSjqo6t2y7/IPaqioTycx2BiKaq3DZMV8iKqhLCgXHAgtmW5QBCgLAsOasfemDQP+8bXzlZmMYRFcD5gVAJ2ZaIPTnQ/R/T5s72hyBvgl9Ijvzo7TW3z118SnFZ7jORO8EEpQdHx3RS3VhEBBcAEoZ8yLEjPtqGkQCkKLKZTtpI1pQP1i0cVyDDIAAcDocpp5C3dwlTPN7hzCzEp1ZRgsBiwAkBxwaBCcUKBouJpb1OxhbfnixRMq4RIT5WPLyHQkuCvdLrnlZNF5YQLsABwgUTDsOUEAQKQWMmf7zLLfegi+qoxZFtmhzLPo9k284RFYPvo/SxcM+v2/fcPueY04orDumX9qkAU5QJj8ZyuGZyEfmoEpnvxn7eJiwkexTpkzX2XqgEhnXxTJezoIScUE4EIAdjZtkCMMKIIJAJ4kK8Puh2J/ilk6WA8hcSS0MArqm73pAfXJsdKftkfw4+Kj092HN9667fLTzxzJJKOCBW2ZnLlEnSR8rB9YkgACtUQsKyWF6bfMgQMYNrFE3yYYLgoxKCUCqY+2G/sR4CcRuGdE4QVHuxjx6uWHV+1Z+yxHO9LhPi2FJa40M+ijHFrstytmhJ8w0jrN6LL5xEKQL7E/PYQ6ErJV4dcCtUmFdCSjXskQkS3HZ5yoa9Sb5njB1TiE+spOO/JRhj9J50qUcEECBTsBxjNaqWdd3PjrcylTBY1qdj8f88bz828mKVMUM81+tKBJaUkiof8SlEFsxkIutAOMc3Rl0LoW/W07+08CkhRHD++dFR+usCITBdbiFxIHccEkI8k4z+76bVt8877tTi8s9mNnEA+Uwqa8LurhQv1rDtCgpwwSRarKBPKxuFh8K6qLt+hJcoyBbgOOKcKjolhA8/ZUA+7ndfnG8aY16AIB1fq2ZcwAQtKMYzQthm4HxKWmUqRZYrdsVYc4r7MKgEAYDFRNKBAg0dW0omedH+vekjFAjAR6X/3PP2a5GB3y04/tSiz5q3n38c2LPaGWMtSa4ACIqSAkqRsFwwBcwvxAtKCBOfwrxhAoeJPG//Z9+Wlwb77j/2tDNLKiDvETFD9Z5eWlWtepzDzvB+OOmnDtT5M5UVDCvDbm9OXDlbDcoIQLzeZz/b7X5zClXIx0nG9Z5rqRTtjrN1Uf7t6cokDwKEdo06r/a7X5GkCs/hWnmbA0YwvwTPLcIJS4xZkBfwLVJRUEFCiLxM8KfFY8MVBMHiMrKolMRNkbbHMyCUqMgnI5eL3BFvbQSAI/hltY0MRKXyV+DtXx3v79t7ShCAxYAgOLaULCwhMV1EbZFkUEyhWEHFKiIITA78iNM4/WtCADicf726kQlRo3nyhRQA0q47aOk5zg7HeVoAqBIGJkwuPqy2AJApJiAMRygyRlxYH2RNCYZRS7TnxCXVKBLXwwCOi06oUIcMpynBjy0lH2l5LQBUipEQBxIz59OEtCTEBRUYZY19GbAdUVeiLS4le2OsYtLhpt3Nt2O4AAB+BRWo45dzORjupz9IEQAXkF8bFqqoRAMAEAJcAfpf4HJ/o0AAccsKm3qOu4ehlDZODxAfTMUDdSSKKYDhcFkiRPD3J/n+q2N8cB3EcwFACFYx6O9WCDlAJAAo8qByLyIIXAGueCfh4YT9/YyBECRsa8jQD6zbMABkBE/blsUYOtQbQQgU4G9uH3x9wFDoh1ZWKexoGnlqb9qjoI07h17pykn0A+KXCEDcgRglxa7+v8v6ntgZveq1cI8tZgexYX/YofSHQkV8xa7hl7sNhY7/kkgUh4dTOyK5ctW9eXnfw9tHblrevynOpgWIxT7m7z/jYDGwGNgM/tLHu3krP345/he/3N8QEABBeE08MmYaDueHydsVO4Ze6zOUD6JiHqoEu5tHntyTUhX09u6hlzuzlH4kBcfPAEghsHVP5IX2DNnfN4Wi8ED83i1xG6MPEbkEl4PBIOuCySYywP7VkOftW/HIsKkfyLaFAeAsf+H9i05ZVFCkH3JDDSEZifUdY5tHnaBEfQqRcT7ABihBXpn4ZCJhLBNo7U8u6zVUgnZ1Jt4aNilBGCFNJj6FaBTlucMBghQKmNAZEAIemTABHglFLdBkjBBQimWChACMx+P0MUYemfgUcuAHQKGYYqQqNEhhU9fYmqgpYwQIqTIJSNTK5Fb2ZXTAMgCixAXwKDhqCoQAo8/vMnMCfx4CIMfcn0yd++DRpxwdKtb5oXmrILGhM75hxPFJxL+ftwAgUexViFfGFCEZQ/tAalmPrhG0pzuxemict2qetxL6FO1xfsYtYRACKMEKQUIAwihPbIzfGSwIAAApEiYYaTIOyGhvT2Jl2CAY5asVSDQezzzZlnbg0+zhBD515Hn735NnL118+uKCfPwiUAB4IhH5/ro3/rjwxLNLK7OH4ZQmycQjQ9dQcnucLawLFMkIYaRnjbf6swaSjm0INiiIUiwDEgCSRGSMMEYK4nu6kp1pNqncd1S56rjc5VCuonpVvBaj3zu2vDxAj67m3WPu6wP2D2YrCMFYwnAILfNTPWv1G7y6VCO2vb4jM+LA7Jrg1ALJMO3uUavYL0WGMwhjWaEqQYCQitne7sQwowW28Ln2y8PonIVlBQVyssbnAXgr4p5W+cHK6hP4W4GP0Hv62n/ZsvOPC0449zB4KwBkiWoydA8ld8TZgrpAsYwIRvGEviWcJR71uLpAEAMhWKZIAEiUyARjhBTE93QnO1Jubbl/QbnquvxT2ZwggvdFDY9PKfGQZNrMclwZkizD6cuwqlJNZc6W9kxY51OrA3OKZd10eqNucUhqC6cVn6woRCEYY0SAb+9IZLAkOArICH08X8gJfIbwEfrgYOfPm7Y+fOzp55dVQ94ELwkUfath+gx/0Dq8CFeFoOb22MNDeM9o7tHW4N0X16LR5LWrIqLAI+nJZV3ZX59XpRy0P4cxUjm7f03PCyNiVrH0+I6RUxZVf29uwHa4w+HUSvJKn9wLqsNQUoX0qBXrGVpeUPmj2eqvXutsD5U8fWHlmr3Dr2TVG0/BNy/raQVlksL+tD3272c3XFDo/M/KflBoIuOcO7+UYIQQ0hB/eH3/UwPu9DJlKJwKefzFCm11/DUcIZ+2Y8A5tpRMCX4Ej4gJfA5hc35sqOSfJk2Zdfi8lVBTZ+zhKG4a1R9uyfzhotps/+ivNsRKy7ypscSbvcaNZ5VJB/MWgSLYw2/1PRths0qkx3aMnLSg+gdHBbn9ifeEEPJQWLYpnKwqu2lJ6A9vdb9m+1/+Rv3uPQP3DNDbzyZ/eKN3g0km+9DD20f/4fT6i4vcO5b14yI5nHS/tqRKwghjJHP3odU9L8VgZpHUM5ByAgUftgsxgc8PbM4XhgqvnDx7TqAgX4IBoCWX3jk22qfr0mEcxyEEtu225eAfzmi849TS0YFUV8p+YdtwK1L/6/jKHx9b3N8bW9qR0+TxaWb+9KBvIHZPm/X9MxtuPrfxR3O9T24c2pfmKkFMgITRlxro/EIggpdK4psz1C+UwZa+3EjSaE06PXG9P2s3xcz6Cs+OvZE3UtKvv9B424WNXyzid66PpARKJvQwKNd+eeoVswPM5ZjisdHUQy3Zr59Sf8s5tQsLyJjOz6kmZ5RjFYQX8YvqpYUlZML+/q2DINSeS+1Oxnv1HD0s3iLbdluz4vJTG357ellyMN0c0x/ZFOFFoR8fX3Xl/ODm5uibEdtz0AmHTHE4HL+7xfjOmfU3n9v4f/P9T28a2p1i6ic3dUIAodPKpJaIHk0bXXErNqZ3psy2YbOyVOvrGn0mIn52buOtFzReUS/d9dbwsI1GU8YI9d55yZRvTPFarpAoHhxM/KnD/rczG24+t2aGD8UcPqFF9vkHQWhPOskxKVPUfAkGgC3psZXRcEs2KeNDL8+FABfwsVMLJ2sEKClUCLdYX9YZyRq3req9ZnOc+NQCIhzxjr8ExdA7YqAC79wQzQkxuzbgBbs96eb9bfNHtDMK8AkV5LgSTCiZVeWDXG55S2rO1NKLi+H1pviQiReVq82jRkWVr0aGHJAl9b5E1hzMMUmRz5ldNDski/3XGkmYgOXpBZQDnl/lDWCRcaHRj04oJ4vLSJmGJuzv3zoQgITR1uTYmpHB5mxKQYexrSSEC+joKYVTvBQIKVKxabnRLAvH0r94o+e2PemiQlV9d2QyQdA7akCBNq9AyoGYVeMPIKc1waRPY7ZpCTS3JqBljeVtyVB10dcnyaua4+06LKrW+ofNqmJfnR/nAC2qC3izVk/O9XmUL88pmhzIR9cDQWJ4zHSDaqOPAJC5VR4ZgE2EP3y+gQAkjJsyyeuat70+MpQvpADw39VTfAvsr1dOSv/57C/7QTEq1TAD7nLBhMASKVNJCXh/cnaVzDlCOKCKR3reIbMQEPAQI6PHXKhVSX/GMlxcouF3VNEEWPvNIgGYVOnTtsT/uNv87jkN9cn41esj/rKCeUXyIEXRhGViXAhicMyWKQ1ICMvEL2Frv0KFEOBVqe26SUdggL64meWUYLAYWBMHwX8vEAA6Y1fWT6/1eC6trMuwQ/NWABCESjU6zlsuFImENFRTGrr+1GLH4YRgvwKP7T5IGhhQQCNGJhdzRINKB7O27qBSD/5UUlW7rigr8pbT6INbra+fMukEKfffrw/zkP9fytWeXoikrRxDJRiiKTMjkZAElFCfgvRxEXQQgPwacXUnwwBA9MUtG+jhOOdN4K8IAaAz9wd10xs9vpOLy/OFGABeGIv8omnrhvhoPq/9nwcCMGyWdQQCJLjIGG4GyGXHVpRk07duiG7oSb3aHO/NcmA863AEYNksYfLZjSVnB9gNb/Qt3T54/brY/Okli4roBzpdMs79AU+1xJpycFS5NrvaG4kZpkctUsgZs0trs5lr3hh4eFP/PS36xUeVVsmQMJjNAaHxjiVNXlMVOrmM3LMm/PiO4WVd2az4HHvYT+DjQsPkpUj/dS07142NaB+BtxwBCC7SumvLyhXHlcV6Y3duGd3Qk3ytKRFzBGc853AEYDosYbIZDcXnh/hNr/ct3T543drRWVNLji2ixqdxHie4UHzKDA9si7PZVd5pFV4rZ6YlpVIhi2aWTEb6tW/0L90Svmlb6pSjSqdoKK67B3hu2SxhsMmTCk/1uXesGXhy2/DKXp0xIdCHuupP4HMCDZNXR8K/aNq+NhbNl5BrrrmmTJJrNe9xBSUE4UPmnBcCKQqdXOKp8GAGqDCgTi3Rqou9x1WpkbjenHSILM0s0wo0qbpYqwtJEsWTirVJhZ7j6rxmxtyTdGY3Fn/vmCIPiA+NM0C4MCDPmxRaUCYTQipLtCV1gSqNaAHtuEp1IGZ0G+LsBRXfmOF3XK5p8swyLSQjV4Ci0MnFnqqAsrDam0vpnRb+wtzixTXe+pAiTbig/X2BCyhW1OmBwhMKS+hh8BYEUhU6udRT6SEcUEFAmVyiTa/yLyymXaNGZ9r1epUZJapHITXFnrqQJFFSW6JNKvQsrvM6OWt3wplZX/T9Y4u96MN5+1FvAaGQV541KXhMuUoomRRSF9cHJnmp7FFOqPHEkmZLhp04q/w780IghNcjTy/z+CXkCpAkWlus1RV5jq72xMf0QS5dNK94UYW3oUDGE/ONzzc4QJGszA4VnV5S5aUU8hoRw67z8kDnqcUVBZJ8yO0kAeBVCDCedQQhyK9gw2Q2B0XGCkacC4SQ4TBCiYxExuaaQgjnWVtQij00n/4CGQ5zPjwyXQCoElGxSFlcAARUyl2WdQQgUCSi4HwdoVucAQoo2Ha4yQUAeGSCOc84QqJYowiEEAgREBmL8wl3nb8vSBj3G7nNY6Onlxwubz0yQZznHIEJ8svYsJglwCMTGQHnAhDkbC5JREYiY3FNIUS8i7d5Yn+KigoCQJaIl0DaZAzAp1DEWcYRACBTrNHx0aTbjAHyK9i0WD6ZsyoTKnjWFpKENYKEAIGACJH55K4aE/gLQ0J4wMhtS8a+UFlXqqiQN8GPxod/sP6N+xaedE7ZYfkF/xl8nsPqJ/D3BD+Vft/b+suWHX9ccNL5ZVWfkLcTmMBnAz+V7utrv7pp20PHnn5heQ3kj+MuKSofm3308YUlxifWPJywvxP4bGAydmFZrUDoxMKyT87bCUzgs4HJ3PPLahBCJxaV5kswANww0HHljrVPD/X66eEq10xgAn9FIACNkLt6mn+8a9PSwe4Alf7aPZrABA4NBOAh9O6elh/u3vhW/KDjOAvEaC77hYraab4gAAgQAUl2hfBRigFhhPxUcgQPUpkgBABBSXI491GJIowQ+Klkcx6QZARAEQ5QyRHhHh1MAAAQt0lEQVTCSylFGAACkuQK7qMyAiAI+ajkCh6SZIwQIAhSyRbcTyWMEEHYRyWH86AkE4QoRn6a/66E0TvdCEgygJAQzncyQCWEACOc70ZQkgFAQthLJYezkKRghCSMvZS6gvslGQAowvluBCU5/6mPUg4iP5L3d4MFJVkAyAj7qcRB5FtWMPESenA3PIS6QoQkGQEomBxoSgBIGHuo5HIelGQOQsHESykXIijLAkDFRCM03w0uhEKwSigXEJQkAFAJ9ZB8UzIHIWPiIcQVIijJDISGiYdQASIoyVyAh1AVk3w3mOAaoQohXED+FjyEapgKEEEqMSFUQlRC2Hhl4aFUxUQA5LvhJVTGhAsRlGRXcA+h+RTxIUnmAF5CFUwAIEhlVwgPoTLG+YfjCuGlVMEEAQpKMhPCSyQJIZ4njOD+/YQJUpmB8FFJxpiJd76bP1ULSnK+srS/KZtzL5UkhAEgKMl57skEj9p2ljkXV9ZN84eQEHmGuIJ7qUQOJgyVJYQIRgFJZkLkyZbnrXMQb/1Uzj9tfIDkgvvfzdsDhPFLksXyvMUEIT+VbM4OUOIDu5F/FxLGHiIxwQOSjBDC48OHjXcDY+/+yvmX7qfUFdwnvbcbDISKsEZo/gECOsDbPDNBxthDxscaA6Fi4qXv5S0TIrCfMCohXEBIkgUAHR8+7/D23YQhGqYHuqFgrBHKRd5ocI1SBRMhxgkjY+wl1Nn/XY0QhZD9lYWXvpe3+W4EJMkR3EsljVCxfwi8pxteSiWEBYiQrOSHgILHv+sK7qFURlgAhCSJgzjA2wCVmRAaJcpBJPdSScUEAB0YAhIiHERAkvPdkBAGBKFx3lI5z0wquUJ4KJUQhv2V/VSSMcEwTjYfkfJxQwfuSME4YhtzQyX/NGlK3kKSa665hhLclU2fU1r5ajS8LRGjhNzT0zorUPBIf9ewpScc+/Fwz5xAwW09zWFTL5GVWzr31XkDjw10pRzHEfzunpbJ/tAfupt9VO41cr/taZsXLHhhuL8lk2LA7+9tnx0svL+3Le06/ab+6vDADH/ops59ScfWCL25q2maL/jH3nYmRMKxHuhtnxwI3tC+Z8gyEo5zf3/7vGDhI4PdA4aedOyHB7pmBwru7m4RAO25zG8791V7Avf3tllcCCHu7GmZ6gvc0d2iEtpv5B4b6JrsD/2ydWfadQbM3OPhnnmhogd621Ou02fknh7qm+UP3tzVpDN3Xzp5X19btcf3++4WGZMMc+7va2/0BW7tbC6UleZs8k8D3WWKem3bHkeI9lz6+aHeeaGie7pbbCGaM8nVsUijL3Bdx14OsDkReyTcXaV6f9vdHJKliGk8NtBZ7fXf1dU0yePfmBh9ZqgvJCm/at9NEdmRGnttZHB2oOCu7iYJk7fHRncm41Ue7/Vte1RCXh8dfmG4v1TRbulqqlC1jlz6+aHecs17V2fTVH9w5cjQa6ODGqW/at3lk+Q1scjasZFpvuAtnfsKZHXl6FB7Nlkoaze07/ZJ8kuR/hWjQ0FJuaWruc7r3ZYaWz4yWKpod3Y1zwyGXhzuXx+PYoyvb91ZqHqWR8M7U2N1Ht9vOvZVaZ7nhvuHTF0j9IaOvQWy+ni4e3NiVCbkru6myb7gG6NDmxMxD5Hu6m2dFyhcGu7emYpbQtzQtrtU8zw/1NetZwpk5abOfQ1e/0PhrozrMCFu7NxXpmj397Y3ZZIFsnpnZ9O0QOjF4f6WbFIgdF9f+7xg4b19He3ZdMq1b27fOz1Q8PxwX38uqxJ6R9feBn/owd52k/OpvkDYMo4rLLmpc1+vns1xdl9v25xA4ZPh7n5DT7vOk+Hu2cHCu7pbhixjwMzd3tVco3nv7+/IuS4DuLurpdEf/GNPi0alQVP/Q09rmea5oWNf0rFdEL/vaZsbLHygvz3l2EOW8cpQ34xg4e2dTSnXbc2m7uppOSpUdHdfu81Zmjn39rRN8YV+191coqht2fR9fe3zgkVPD3b367k0cx7o75obCP22p5UJ3pFNvzkyOCUQurl9ry04AXRXd8tkf+h33c0UkUFTf2Cga4rXf2tXc63m3ZaKLR3omh8qfrS/I+ZYQ6bx9GDPzEDBLV1NCiFbk7GNY6N1Hv+v2/dShE3m3tfbWucL3NXdHJTl1kz6meHeGo/vpq6mqd7A6njkmaHe+aGiP/a0moK3Z9Ovj4Qn+4K3dOwrUJRVseE96WSZov6yfU+QyqO2+XB/Z53Xf0dnU7nq2ZGMvTYyWKJqd3Y2TfcXvBQNLxsZnBMo+G13s4TxzmR8fTxS4/Hf2rG3VPUsj4T79KxPkq5t312map25zBNDvXUe382d++o9/rXx6MZ41CvJ93a3zAoWPjXUvT4+Mt0fvKmzKSjJq+KRHcmxUlW7pWNvrcf3zGDvG9HBkKL8tqupRvPtTsVfiYbLVO3GzqZpvuAr0YHd6TGNStc0bS+Q1TdGwzuSYw0+/82d+8pUz4uRgfZcJkCl6zv2FsnKk4M9G8ZGNCrd2dk8xR/cGI+ui0d9VLqju2VmoODJod63EzEu4Ndtu0pU74uR/vZMqtLjvbVjT6XH90y4e9g2CcI3dO4rVbT7+zt3pRMEwV3dLbMCoTdHBnck4wijP/W2zwkWPdDf0ZxNZVz3xva9VZr3sXD3kKkXyMrtnftqvf6l/R1ZxgyX9RrZOcGikCRDfiNiczb1WH/Hrkzqho69W5KxMdt+Ktw9ZJvLRsJ7M8m441zftmtHOvFqdPDtZOzl6OAd3c2WECtGhrYkYx169tnBHhfgqcG++/o7mrLpJ4d62nKZ69r37MskRmzrqaGeYdt8KdLfnkuHTeNXbbu2pRPPRQZ2pBPPRfrv7m1DCL86Et6VTjTn0i8O99tCPDPYs3FsZGd67InBvj2Z9K/advcYuahtPTXUG7HNZ4Z6+4xcazb16EBnn5F7YrB3Rzrx2FDPA30dlJDnIwMtufTebOrlaNgBsTTctS0V35KIPzvUuz05dm3brgHT6DX0Z4cHIrb95GDf28n49vTYE+GePkN/LNy9M534U1/n0oFuBuiZod5OPbs7k3p8sGfIMh8Jd+1JJzaMjbwUHdicjF3ftnvIMjv17K/adu3JpJ4e6tubSW1Jxp8a7O0z9ccGuvdkUvf0tj0/3Oci9Mfe9ieGerYl408O9g7axoP9na259Ftj0WUjgxuSsevb9oy69t5s8vr23bszySeHenZnkuvj0ecj/WHLfCzc3ZLL3Nndunxk0AH4XU/LC8P9m5Kjzw739Rn6gwOdnXp2ZSyyMhbZkBi9sX1PhrFtybEb2vfuyyafCHc3ZVOrRyOvRAe6jNxj4e4OPXdLV9OaeJQBurWzaVl0cO1Y9KXoQLeee6i/s1PPLBsZWhMfWRGP3tq5jwFsTsRu6tzXnEs/PtDVmku/EQ2/GR1sy2aWDnQN2uZb8eimxCgDuLV938p4dHU8sjw61JFLP9zf0aPnXhzuXx2PDlrmY+FuW8CqWPTW7pZ2PfvYQFeXkXspMrAmFskw98nB7kHLXDE6tC0ZzzB2Y/ueTYn4ilhkVTzSnss+0NueYWxdLLJ2LNpr6k+GeyzBXx0J/6G37Q997Q/3tfeZxnNDfesTI7syiaUD3RHbWhYN70mPjTr29e27NyXir44Ork2MtGYzD/Z3Dtrm44O9W1NjXXr2maEeW8AzQ31/7G3fk0kuDXf3m8bjgz0704m06z422BOxzReHB9qyqUHTuK5995Zk/MXIwMbE6K504k/9nQKh5dHBXelERy777HCfi+CRga6H+rt2phNPDfbuziSvb9vTlssMW9YTg70R2352uK/X0HtN/bq2PTtSiWeH+7Ym408M9tzf184AvRQJN+VSzdnUi5F+jPF9fe1PDPZuTyaeHerfnh67rnVXt57tM7LPDvUNW9aTg30x2+7Ss79s2703k3pisHdnOvHQQNfSgW4X4IXBvpZsemdqbHl0EBC6u7vtueGBbamxFyIDW1Nj17btHjSNtmzqpeH+Ydt8crAn5th70qnr2/e267knB3uacql7+zqeGepzAJ4Z7OkyspsTsZWjQzYXt3W3vDoyuDkZWz4ytC01dn3b7jHH3pNJLBsZHLbNJ8PdSdfZnBi9oWNfcy79RLinTc/+rqft1WiYATwx2NNvGWvHouti0Rxnt3Tue210aE1s5LXRoXVjoze27zGF2JFKvDk6PGxbj4d7MoytiQ2/EhnoymUfH+hqzqVv725eFYu4AEvDPVHbXBGLbEnEEo7zQF97h555LTq0Ijb8Zmz45o69JhcbEqNvxaMR21o60NWWy74+MvTGyGBbNvNEuGtfNnVrx751YyMZxh4Ld0ds683RyGsjQ71G7sH+zh4j91JkYO1YdFk0fHtnsynEmlh0w9jogGE8OtDZb+qvRMIrRyPNucwT4Z692dQN7Xu2peIpxm5s37M6Hn1zNPJmLNKpZx/s7xiwjGcj/ZuSseeH+3/X1WIJWDYyeE9v69qxkT90NbVkkuPbE0IIIcSIbQohevVs3LEMxmK2KYTIuE7SsQ3OunIZV4iU61icp12nV886go9apsO5ECJqGo7gg6YetQwhxKhtCSF69GzSsXXmxm1TCJFy7LTr5Jibbyrh2I7gScfuM3JMiKhlcCGEEFHLcAQPm/qYY7lCxG2LC9GtZ7PMyTE37lhCiIRjZV0n7Tp9RpYLMWZbjuAx2xowclyIiGWK/U25QgwYuaRj25wnbMsRvEvPZJmbcZ2EYwsh4rZlc552nX4jJ4SI26YrRNQyw6buCp6/HVeImG0JIfqMbMZ1LM5Sjm1x3q1ncszNuE63nuFCxG2LCZF0nAFDF0LEbJMJMWwaw5buCtFv5OKO5XA+5lj552wwZnCWdh2L865cxuAs6dg9epYJEbdNJkTctgZN/cCrGTT1iGW6QvQa2YRjW5wlHdsVokfPWpzpzM0y1+KsS89YnI85dq+e5fu7MWKZw6ZxoKkBIzdqW/nvpl3HYG7atW3Oe/SsxXnGdXTm6szt1rP5V5B/OKOWyYWIWEbEMrgQI5YhhDA4i9mWK0S3ntEZyzE36zoWZz161hY87dg6c/PvwuZ81DbDhi6EGLFMIcSQqY/apsVZvimduWO2ZXHepWdszrOuqzPXzDfFecw2Lc6EECOWYXMesYxh04ha5pCpCyHCph53LFeIUesg3rLxp5FyHZMznbFePSvyhMnz1jIcwYdMY9gymBAxa/zhJB3b5Gx0nLdOyrFzzO3WMzbnKce2OMsTJv9g+Ttk42FDH7FMV/Ax22L7H2+OuXE7z1s74zpZd/zBJhzL4TxmW/1GLs+6A7xlecLYlsN5wrEcwbv1TMZ1DuatzljGdbr1bJ57rhAjlhk2dWc/b5kQUctkQvQZ2fEh4NiO4F25TI65KcdOO3aeqDpzk46dfzj5wRuxjCHTONCUw8cHe/6OTM7SruMK3pnLGJzl70sIEbNMg7G4Y/XpuQNkGzL1qGU4QuSbMjmL2WaebBnX1ZmbcR2Tsy494wg+5tg55uYZYnE2ao+/39HxV6OP2uaBgakzN25bJme9etbkLOs6OdfJMjfPn5htmZyJ/Q82up+3MdvkQvQbuXyFkXHCuBnXcQTv1rOO4GnXNpibdp08jUct0x4njCmEGDaNUds80FSvnh1zLIuz/BDIuk6OuRbnPXqWC5HcP1TzNjNqGcOmcWBo54E+3dStE5jABCYwgcPH/wf7ldv113OzgQAAAABJRU5ErkJggg==) "
      ]
    },
    {
      "cell_type": "markdown",
      "metadata": {
        "id": "tGRkAVyzai2L"
      },
      "source": [
        "- \" , ' , \\ 출력\n",
        "    - Let's learn Python  출력\n",
        "- \\n : 줄바꿈 기호\n",
        "- \\t : 탭만큼 띄우기"
      ]
    },
    {
      "cell_type": "markdown",
      "source": [
        "문자열 안에 다시 따옴표를 넣을 때 큰따옴표와 작은따옴표를 한꺼번에 쓰면 오류가 발생한다."
      ],
      "metadata": {
        "id": "tYC9cAE9bA7s"
      }
    },
    {
      "cell_type": "code",
      "metadata": {
        "id": "ri-psq9uARGP",
        "colab": {
          "base_uri": "https://localhost:8080/",
          "height": 138
        },
        "outputId": "5a8059dc-16d8-4616-d9d5-d80fd58a616f"
      },
      "source": [
        "print(''Let's learn Python')"
      ],
      "execution_count": null,
      "outputs": [
        {
          "output_type": "error",
          "ename": "SyntaxError",
          "evalue": "ignored",
          "traceback": [
            "\u001b[0;36m  File \u001b[0;32m\"<ipython-input-19-a966367fe0c7>\"\u001b[0;36m, line \u001b[0;32m1\u001b[0m\n\u001b[0;31m    print(''Let's learn Python')\u001b[0m\n\u001b[0m              ^\u001b[0m\n\u001b[0;31mSyntaxError\u001b[0m\u001b[0;31m:\u001b[0m invalid syntax\n"
          ]
        }
      ]
    },
    {
      "cell_type": "markdown",
      "source": [
        "이스케이프 문자를 이용하면 따옴표의 종류 구분 없이 원하는대로 문자열을 쓸 수 있다. 이스케이프 문자는 역슬래시(\\) 기호와 함께 조합해서 사용하는 특수한 문자를 의미한다. "
      ],
      "metadata": {
        "id": "l1Qz_gceiSP1"
      }
    },
    {
      "cell_type": "code",
      "source": [
        "print(\"\\\"안녕하세요\\\"라고 말했습니다.\")\n",
        "print('\\'배가 고픕니다\\'라고 생각했습니다')"
      ],
      "metadata": {
        "colab": {
          "base_uri": "https://localhost:8080/"
        },
        "id": "3yIlrw2SiRbU",
        "outputId": "0a78f047-ebd2-43c6-dda2-dc6a8324aa94"
      },
      "execution_count": 2,
      "outputs": [
        {
          "output_type": "stream",
          "name": "stdout",
          "text": [
            "\"안녕하세요\"라고 말했습니다.\n",
            "'배가 고픕니다'라고 생각했습니다\n"
          ]
        }
      ]
    },
    {
      "cell_type": "code",
      "metadata": {
        "id": "grIME6t-__sq",
        "colab": {
          "base_uri": "https://localhost:8080/"
        },
        "outputId": "a953c155-6de9-4f13-f163-b279cf4efea8"
      },
      "source": [
        "print(\"Let's learn Python\")\n",
        "print()\n",
        "print(\"Let's learn\\n Python\\n\")\n",
        "print(\"Let's\\t learn\\t Python\")"
      ],
      "execution_count": null,
      "outputs": [
        {
          "output_type": "stream",
          "name": "stdout",
          "text": [
            "Let's learn Python\n",
            "\n",
            "Let's learn\n",
            " Python\n",
            "\n",
            "Let's\t learn\t Python\n"
          ]
        }
      ]
    },
    {
      "cell_type": "markdown",
      "metadata": {
        "id": "JQDzdQbOcGq8"
      },
      "source": [
        "### print() 인자\n",
        "- end 인자\n",
        "  - print함수 마지막 효과를 변경 (기본값은 개행)\n",
        "\n",
        "  - print('hello', end ='***')\n",
        "\n"
      ]
    },
    {
      "cell_type": "code",
      "metadata": {
        "id": "yR6Zd9PLACAy",
        "colab": {
          "base_uri": "https://localhost:8080/"
        },
        "outputId": "cdbb61e8-2e8d-4300-db5f-3aefe637b303"
      },
      "source": [
        "print('python', '문제해결을 위한 파이썬'+'\\n')\n",
        "print('python', end='***')\n",
        "print('두번째줄', end = ' ')\n",
        "print('세번째줄')\n",
        "print('네번째줄')"
      ],
      "execution_count": null,
      "outputs": [
        {
          "output_type": "stream",
          "name": "stdout",
          "text": [
            "python 문제해결을 위한 파이썬\n",
            "\n",
            "python***두번째줄 세번째줄\n",
            "네번째줄\n"
          ]
        }
      ]
    },
    {
      "cell_type": "markdown",
      "metadata": {
        "id": "KfcqRCb9cSdd"
      },
      "source": [
        "- sep 인자\n",
        "  - 콤마로 구분된 문자열을 다르게 결합 (기본값은 공백)\n",
        "  - print('a','b','c',sep ='@@')\n"
      ]
    },
    {
      "cell_type": "code",
      "metadata": {
        "id": "fOE9lLVuACwj",
        "colab": {
          "base_uri": "https://localhost:8080/"
        },
        "outputId": "21e971d4-61bd-43e5-90ac-d3e404225b1c"
      },
      "source": [
        "print('python', 'Hello', 'world', 'class', sep = '-')\n",
        "print('a','b','c',sep ='@@')\n",
        "print('a','b','c',sep ='@@', end = '@@')"
      ],
      "execution_count": null,
      "outputs": [
        {
          "output_type": "stream",
          "name": "stdout",
          "text": [
            "python-Hello-world-class\n",
            "a@@b@@c\n",
            "a@@b@@c@@"
          ]
        }
      ]
    },
    {
      "cell_type": "markdown",
      "metadata": {
        "id": "izjkXoivdEcM"
      },
      "source": [
        "# 입력함수 – input() "
      ]
    },
    {
      "cell_type": "markdown",
      "metadata": {
        "id": "zNpNksl1yZBN"
      },
      "source": [
        "## 문자 자료 입력"
      ]
    },
    {
      "cell_type": "code",
      "metadata": {
        "id": "pTD44zztATN5",
        "colab": {
          "base_uri": "https://localhost:8080/",
          "height": 54
        },
        "outputId": "72d1db4e-377a-470a-ace9-75ccb3315635"
      },
      "source": [
        "input()"
      ],
      "execution_count": null,
      "outputs": [
        {
          "name": "stdout",
          "output_type": "stream",
          "text": [
            "안녕하세요\n"
          ]
        },
        {
          "output_type": "execute_result",
          "data": {
            "application/vnd.google.colaboratory.intrinsic+json": {
              "type": "string"
            },
            "text/plain": [
              "'안녕하세요'"
            ]
          },
          "metadata": {},
          "execution_count": 20
        }
      ]
    },
    {
      "cell_type": "markdown",
      "metadata": {
        "id": "kqou4GqvdQvB"
      },
      "source": [
        "- 사용자로부터 값을 입력받는 대표적 함수\n",
        "- 입력받은 값은 **text** 자료형이다.\n",
        "\n"
      ]
    },
    {
      "cell_type": "code",
      "metadata": {
        "id": "5Ix9h_ydAT72",
        "colab": {
          "base_uri": "https://localhost:8080/",
          "height": 54
        },
        "outputId": "0bb992e8-23c5-4b8d-bdbd-3fc8dedcb803"
      },
      "source": [
        "input()"
      ],
      "execution_count": null,
      "outputs": [
        {
          "name": "stdout",
          "output_type": "stream",
          "text": [
            "100\n"
          ]
        },
        {
          "output_type": "execute_result",
          "data": {
            "application/vnd.google.colaboratory.intrinsic+json": {
              "type": "string"
            },
            "text/plain": [
              "'100'"
            ]
          },
          "metadata": {},
          "execution_count": 22
        }
      ]
    },
    {
      "cell_type": "markdown",
      "metadata": {
        "id": "B1QPi2L5dcqN"
      },
      "source": [
        "- 프롬프트\n",
        "    - 사용자가 무엇을 입력해야 하는지 알려주는 역할\n",
        "     - input('이름 입력: ')\n",
        "     - '이름 입력: ' 부분을 프롬프트라 한다.\n"
      ]
    },
    {
      "cell_type": "markdown",
      "metadata": {
        "id": "rYUBBrn3dkUZ"
      },
      "source": [
        "\n",
        "- 함수에서 받은 값을 사용하려면 반드시 변수에 할당해야한다.\n",
        "- 변수에 저장된 자료형은 문자(text)형식이다.\n",
        "----------------\n"
      ]
    },
    {
      "cell_type": "code",
      "metadata": {
        "id": "MKdyTbJJAUpy",
        "colab": {
          "base_uri": "https://localhost:8080/",
          "height": 73
        },
        "outputId": "8080cb63-4eb3-4f24-9e0e-085ca0bf3b64"
      },
      "source": [
        "input('이름입력:')\n",
        "input('학과입력:')"
      ],
      "execution_count": null,
      "outputs": [
        {
          "name": "stdout",
          "output_type": "stream",
          "text": [
            "이름입력:홍길동\n",
            "학과입력:국어국문학과\n"
          ]
        },
        {
          "output_type": "execute_result",
          "data": {
            "application/vnd.google.colaboratory.intrinsic+json": {
              "type": "string"
            },
            "text/plain": [
              "'국어국문학과'"
            ]
          },
          "metadata": {},
          "execution_count": 23
        }
      ]
    },
    {
      "cell_type": "code",
      "source": [
        "name = input('이름입력:')\n",
        "dep = input('학과입력:')\n",
        "score = input('성적입력:')\n",
        "\n",
        "print(name, dep, score)"
      ],
      "metadata": {
        "colab": {
          "base_uri": "https://localhost:8080/"
        },
        "id": "lEYc_Cm7XE46",
        "outputId": "572ecca1-aa8d-40ed-f62b-3a093d2346b9"
      },
      "execution_count": null,
      "outputs": [
        {
          "output_type": "stream",
          "name": "stdout",
          "text": [
            "이름입력:홍길동\n",
            "학과입력:국어국문학과\n",
            "성적입력:100\n",
            "홍길동 국어국문학과 100\n"
          ]
        }
      ]
    },
    {
      "cell_type": "code",
      "source": [
        "print('홍길동', '국어국문학과')\n",
        "print('name', name, 'dep', dep, '점수:', score)"
      ],
      "metadata": {
        "colab": {
          "base_uri": "https://localhost:8080/"
        },
        "id": "tMEsoHeoWlEF",
        "outputId": "4e5db230-8f34-437c-e911-dc8d49f88986"
      },
      "execution_count": null,
      "outputs": [
        {
          "output_type": "stream",
          "name": "stdout",
          "text": [
            "김혜림 도시행정학과\n",
            "name 홍길동 dep 국어국문학과 점수: 100\n"
          ]
        }
      ]
    },
    {
      "cell_type": "markdown",
      "metadata": {
        "id": "6JsTyUiEYzDn"
      },
      "source": [
        "## 숫자로 변환 함수"
      ]
    },
    {
      "cell_type": "code",
      "metadata": {
        "id": "tMKvBJiRAVa1",
        "colab": {
          "base_uri": "https://localhost:8080/"
        },
        "outputId": "098daec1-021b-43a8-b6eb-813f54004a8f"
      },
      "source": [
        "print('10')\n",
        "type('10')"
      ],
      "execution_count": null,
      "outputs": [
        {
          "output_type": "stream",
          "name": "stdout",
          "text": [
            "10\n"
          ]
        },
        {
          "output_type": "execute_result",
          "data": {
            "text/plain": [
              "str"
            ]
          },
          "metadata": {},
          "execution_count": 27
        }
      ]
    },
    {
      "cell_type": "code",
      "source": [
        "print(10)\n",
        "type(10)"
      ],
      "metadata": {
        "colab": {
          "base_uri": "https://localhost:8080/"
        },
        "id": "rBFRrq74lzEU",
        "outputId": "83479ece-835a-4409-9bba-93eeea9a8197"
      },
      "execution_count": null,
      "outputs": [
        {
          "output_type": "stream",
          "name": "stdout",
          "text": [
            "10\n"
          ]
        },
        {
          "output_type": "execute_result",
          "data": {
            "text/plain": [
              "int"
            ]
          },
          "metadata": {},
          "execution_count": 28
        }
      ]
    },
    {
      "cell_type": "code",
      "source": [
        "print(10.0)\n",
        "type(10.0)"
      ],
      "metadata": {
        "colab": {
          "base_uri": "https://localhost:8080/"
        },
        "id": "rJyi2H3bl8cS",
        "outputId": "7814c8b3-1da3-40f3-a610-0cfe01cc860b"
      },
      "execution_count": null,
      "outputs": [
        {
          "output_type": "stream",
          "name": "stdout",
          "text": [
            "10.0\n"
          ]
        },
        {
          "output_type": "execute_result",
          "data": {
            "text/plain": [
              "float"
            ]
          },
          "metadata": {},
          "execution_count": 29
        }
      ]
    },
    {
      "cell_type": "code",
      "source": [
        "type(10+10)"
      ],
      "metadata": {
        "colab": {
          "base_uri": "https://localhost:8080/"
        },
        "id": "XZDDpVqRmMu_",
        "outputId": "20b316db-81d5-4928-ebe7-596b18c74d3f"
      },
      "execution_count": null,
      "outputs": [
        {
          "output_type": "execute_result",
          "data": {
            "text/plain": [
              "int"
            ]
          },
          "metadata": {},
          "execution_count": 30
        }
      ]
    },
    {
      "cell_type": "code",
      "source": [
        "type(10.0+10)"
      ],
      "metadata": {
        "colab": {
          "base_uri": "https://localhost:8080/"
        },
        "id": "yjSGHtoOmR_D",
        "outputId": "708c965b-89fa-474f-bfce-73c108641eea"
      },
      "execution_count": null,
      "outputs": [
        {
          "output_type": "execute_result",
          "data": {
            "text/plain": [
              "float"
            ]
          },
          "metadata": {},
          "execution_count": 31
        }
      ]
    },
    {
      "cell_type": "markdown",
      "metadata": {
        "id": "YhSY5sOCd42C"
      },
      "source": [
        "- 입력 받은 값이 문자임으로 자료형 변환이 필요하다.\n",
        "    - 정수(-1, 0 , 10..) : int()\n",
        "    - 실수(1.2 , 1.0, 3.1415 ) : float()"
      ]
    },
    {
      "cell_type": "code",
      "metadata": {
        "id": "G8CknklPAWC5",
        "colab": {
          "base_uri": "https://localhost:8080/"
        },
        "outputId": "c9fedf16-8d63-4162-8df3-5adb1a15c039"
      },
      "source": [
        "a = 500\n",
        "print(a)\n",
        "type(a)"
      ],
      "execution_count": null,
      "outputs": [
        {
          "output_type": "stream",
          "name": "stdout",
          "text": [
            "500\n"
          ]
        },
        {
          "output_type": "execute_result",
          "data": {
            "text/plain": [
              "int"
            ]
          },
          "metadata": {},
          "execution_count": 32
        }
      ]
    },
    {
      "cell_type": "code",
      "source": [
        "a = 500.0\n",
        "print(a)\n",
        "type(a)\n",
        "# a값을 int로 바꿔보자\n",
        "int(a)\n",
        "type(a)"
      ],
      "metadata": {
        "colab": {
          "base_uri": "https://localhost:8080/"
        },
        "id": "Pp4r7GxQmq54",
        "outputId": "d64663d5-f2b1-46ba-eb25-05591e6bdf98"
      },
      "execution_count": null,
      "outputs": [
        {
          "output_type": "stream",
          "name": "stdout",
          "text": [
            "500.0\n"
          ]
        },
        {
          "output_type": "execute_result",
          "data": {
            "text/plain": [
              "float"
            ]
          },
          "metadata": {},
          "execution_count": 33
        }
      ]
    },
    {
      "cell_type": "code",
      "source": [
        "int(3.14)\n",
        "type('10')\n",
        "int('10')\n",
        "'10' + 5 # str자료형과 int 자료형은 연산할 수 없음\n",
        "int('10') + 5"
      ],
      "metadata": {
        "colab": {
          "base_uri": "https://localhost:8080/",
          "height": 232
        },
        "id": "-_hnUO_7nMYM",
        "outputId": "d70a58e8-7072-4ded-f97d-11177b7dba7b"
      },
      "execution_count": null,
      "outputs": [
        {
          "output_type": "error",
          "ename": "TypeError",
          "evalue": "ignored",
          "traceback": [
            "\u001b[0;31m---------------------------------------------------------------------------\u001b[0m",
            "\u001b[0;31mTypeError\u001b[0m                                 Traceback (most recent call last)",
            "\u001b[0;32m<ipython-input-35-0654ada677db>\u001b[0m in \u001b[0;36m<module>\u001b[0;34m()\u001b[0m\n\u001b[1;32m      2\u001b[0m \u001b[0mtype\u001b[0m\u001b[0;34m(\u001b[0m\u001b[0;34m'10'\u001b[0m\u001b[0;34m)\u001b[0m\u001b[0;34m\u001b[0m\u001b[0;34m\u001b[0m\u001b[0m\n\u001b[1;32m      3\u001b[0m \u001b[0mint\u001b[0m\u001b[0;34m(\u001b[0m\u001b[0;34m'10'\u001b[0m\u001b[0;34m)\u001b[0m\u001b[0;34m\u001b[0m\u001b[0;34m\u001b[0m\u001b[0m\n\u001b[0;32m----> 4\u001b[0;31m \u001b[0;34m'10'\u001b[0m \u001b[0;34m+\u001b[0m \u001b[0;36m5\u001b[0m \u001b[0;31m# str자료형과 int 자료형은 연산할 수 없음\u001b[0m\u001b[0;34m\u001b[0m\u001b[0;34m\u001b[0m\u001b[0m\n\u001b[0m\u001b[1;32m      5\u001b[0m \u001b[0mint\u001b[0m\u001b[0;34m(\u001b[0m\u001b[0;34m'10'\u001b[0m\u001b[0;34m)\u001b[0m \u001b[0;34m+\u001b[0m \u001b[0;36m5\u001b[0m\u001b[0;34m\u001b[0m\u001b[0;34m\u001b[0m\u001b[0m\n",
            "\u001b[0;31mTypeError\u001b[0m: can only concatenate str (not \"int\") to str"
          ]
        }
      ]
    },
    {
      "cell_type": "code",
      "metadata": {
        "id": "Gi9qfsVSAWoe",
        "colab": {
          "base_uri": "https://localhost:8080/"
        },
        "outputId": "25159f34-698f-4f87-d720-61590ab2325d"
      },
      "source": [
        "1000\n",
        "type(1000)\n",
        "float(1000)\n",
        "\n",
        "'1000'\n",
        "type('1000')\n",
        "float('1000')"
      ],
      "execution_count": null,
      "outputs": [
        {
          "output_type": "execute_result",
          "data": {
            "text/plain": [
              "1000.0"
            ]
          },
          "metadata": {},
          "execution_count": 36
        }
      ]
    },
    {
      "cell_type": "code",
      "source": [
        "int('3분 카레') # 뭐든지 숫자로 바꿔주진 않는다\n",
        "int('12345')"
      ],
      "metadata": {
        "colab": {
          "base_uri": "https://localhost:8080/",
          "height": 194
        },
        "id": "4Mzr-Kikrtzp",
        "outputId": "21844e34-7d89-4d53-865c-4b50c8f0c900"
      },
      "execution_count": null,
      "outputs": [
        {
          "output_type": "error",
          "ename": "ValueError",
          "evalue": "ignored",
          "traceback": [
            "\u001b[0;31m---------------------------------------------------------------------------\u001b[0m",
            "\u001b[0;31mValueError\u001b[0m                                Traceback (most recent call last)",
            "\u001b[0;32m<ipython-input-37-54823b7e695d>\u001b[0m in \u001b[0;36m<module>\u001b[0;34m()\u001b[0m\n\u001b[0;32m----> 1\u001b[0;31m \u001b[0mint\u001b[0m\u001b[0;34m(\u001b[0m\u001b[0;34m'3분 카레'\u001b[0m\u001b[0;34m)\u001b[0m \u001b[0;31m# 아무거나 숫자로 바꿔주지 않는다\u001b[0m\u001b[0;34m\u001b[0m\u001b[0;34m\u001b[0m\u001b[0m\n\u001b[0m\u001b[1;32m      2\u001b[0m \u001b[0mint\u001b[0m\u001b[0;34m(\u001b[0m\u001b[0;34m'12345'\u001b[0m\u001b[0;34m)\u001b[0m\u001b[0;34m\u001b[0m\u001b[0;34m\u001b[0m\u001b[0m\n",
            "\u001b[0;31mValueError\u001b[0m: invalid literal for int() with base 10: '3분 카레'"
          ]
        }
      ]
    },
    {
      "cell_type": "markdown",
      "metadata": {
        "id": "JcLjT-uiyh4M"
      },
      "source": [
        "## 숫자 자료  입력"
      ]
    },
    {
      "cell_type": "code",
      "source": [
        "score = input('성적입력 : ')\n",
        "type(score)\n",
        "print()\n",
        "print('성적 = ', score)\n",
        "print('성적 = ', score + 20) # input에 입력한 값은 문자형이다"
      ],
      "metadata": {
        "colab": {
          "base_uri": "https://localhost:8080/",
          "height": 269
        },
        "id": "Zisbfty6sABc",
        "outputId": "a0c745ac-c629-4196-b520-ef56aca78e26"
      },
      "execution_count": null,
      "outputs": [
        {
          "output_type": "stream",
          "name": "stdout",
          "text": [
            "성적입력 : 99\n",
            "\n",
            "성적 =  99\n"
          ]
        },
        {
          "output_type": "error",
          "ename": "TypeError",
          "evalue": "ignored",
          "traceback": [
            "\u001b[0;31m---------------------------------------------------------------------------\u001b[0m",
            "\u001b[0;31mTypeError\u001b[0m                                 Traceback (most recent call last)",
            "\u001b[0;32m<ipython-input-41-857f61d858b8>\u001b[0m in \u001b[0;36m<module>\u001b[0;34m()\u001b[0m\n\u001b[1;32m      3\u001b[0m \u001b[0mprint\u001b[0m\u001b[0;34m(\u001b[0m\u001b[0;34m)\u001b[0m\u001b[0;34m\u001b[0m\u001b[0;34m\u001b[0m\u001b[0m\n\u001b[1;32m      4\u001b[0m \u001b[0mprint\u001b[0m\u001b[0;34m(\u001b[0m\u001b[0;34m'성적 = '\u001b[0m\u001b[0;34m,\u001b[0m \u001b[0mscore\u001b[0m\u001b[0;34m)\u001b[0m\u001b[0;34m\u001b[0m\u001b[0;34m\u001b[0m\u001b[0m\n\u001b[0;32m----> 5\u001b[0;31m \u001b[0mprint\u001b[0m\u001b[0;34m(\u001b[0m\u001b[0;34m'성적 = '\u001b[0m\u001b[0;34m,\u001b[0m \u001b[0mscore\u001b[0m \u001b[0;34m+\u001b[0m \u001b[0;36m20\u001b[0m\u001b[0;34m)\u001b[0m \u001b[0;31m# input에 입력한 값은 문자형이다\u001b[0m\u001b[0;34m\u001b[0m\u001b[0;34m\u001b[0m\u001b[0m\n\u001b[0m",
            "\u001b[0;31mTypeError\u001b[0m: can only concatenate str (not \"int\") to str"
          ]
        }
      ]
    },
    {
      "cell_type": "code",
      "source": [
        "score = input('성적입력 : ')\n",
        "score = int(score) # input 입력값을 정수형으로 변환\n",
        "print()\n",
        "print('성적 = ', score + 20)"
      ],
      "metadata": {
        "colab": {
          "base_uri": "https://localhost:8080/"
        },
        "id": "jRmoh_hRsse2",
        "outputId": "61e2a576-54b2-4a71-a73d-4e0f58f10ec1"
      },
      "execution_count": null,
      "outputs": [
        {
          "output_type": "stream",
          "name": "stdout",
          "text": [
            "성적입력 : 99\n",
            "\n",
            "성적 =  119\n"
          ]
        }
      ]
    },
    {
      "cell_type": "code",
      "source": [
        "# 위 코드에서 1, 2행을 한 문장으로 합치기\n",
        "score = int (input('성적입력 : '))\n",
        "print()\n",
        "print('성적 = ', score + 20)"
      ],
      "metadata": {
        "colab": {
          "base_uri": "https://localhost:8080/"
        },
        "id": "Pnd7JTkGvG_j",
        "outputId": "191e7fe4-8485-4fb4-8531-68a3a89c318c"
      },
      "execution_count": null,
      "outputs": [
        {
          "output_type": "stream",
          "name": "stdout",
          "text": [
            "성적입력 : 99\n",
            "\n",
            "성적 =  119\n"
          ]
        }
      ]
    },
    {
      "cell_type": "markdown",
      "metadata": {
        "id": "qKwnDgW2euw0"
      },
      "source": [
        "### 작성해보기\n",
        "- [입력]\n",
        "    - 좋아하는 색깔은 무엇인가요? 입력받은후\n",
        "- [출력형식]\n",
        "    - 내가 좋아하는 색은 **빨강** 입니다."
      ]
    },
    {
      "cell_type": "code",
      "metadata": {
        "id": "3ESssfMyAYZ9",
        "colab": {
          "base_uri": "https://localhost:8080/"
        },
        "outputId": "ae25e0d3-83e0-4c0d-f5ff-3bc81f40fc22"
      },
      "source": [
        "color = input('좋아하는 색깔은 무엇인가요?')\n",
        "print('내가 좋아하는 색은', color, '입니다')"
      ],
      "execution_count": null,
      "outputs": [
        {
          "output_type": "stream",
          "name": "stdout",
          "text": [
            "좋아하는 색깔은 무엇인가요?빨강\n",
            "내가 좋아하는 색은 빨강 입니다\n"
          ]
        }
      ]
    },
    {
      "cell_type": "markdown",
      "metadata": {
        "id": "JYP6G1Uce-rL"
      },
      "source": [
        "### 작성해보기\n",
        "- [입력]\n",
        "    - 1에서10 사이의 값을 입력하세요? 입력받은후\n",
        "- [출력형식]\n",
        "    - 선택한 값은 10입니다.\n",
        "    - 추가 포인트는 20 입니다.\n",
        "- [조건]\n",
        "    - 추가 포인트는 입력한 값의 2배입니다."
      ]
    },
    {
      "cell_type": "code",
      "metadata": {
        "id": "fFkatKcx9G_p",
        "colab": {
          "base_uri": "https://localhost:8080/"
        },
        "outputId": "87f3bf4b-ed5e-4c50-db87-acd641a44d01"
      },
      "source": [
        "number = int(input('1에서 10 사이의 값을 입력하세요.'))\n",
        "print('선택한 값은', number, '입니다.')\n",
        "print('추가 포인트는', number * 2, '입니다.')"
      ],
      "execution_count": null,
      "outputs": [
        {
          "output_type": "stream",
          "name": "stdout",
          "text": [
            "1에서 10 사이의 값을 입력하세요.5\n",
            "선택한 값은 5 입니다.\n",
            "추가 포인트는 10 입니다.\n"
          ]
        }
      ]
    }
  ]
}