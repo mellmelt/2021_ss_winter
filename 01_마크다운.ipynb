{
  "nbformat": 4,
  "nbformat_minor": 0,
  "metadata": {
    "colab": {
      "name": "01_마크다운.ipynb",
      "provenance": [],
      "collapsed_sections": [],
      "include_colab_link": true
    },
    "kernelspec": {
      "name": "python3",
      "display_name": "Python 3"
    },
    "language_info": {
      "name": "python"
    }
  },
  "cells": [
    {
      "cell_type": "markdown",
      "metadata": {
        "id": "view-in-github",
        "colab_type": "text"
      },
      "source": [
        "<a href=\"https://colab.research.google.com/github/mellmelt/2021_ss_winter/blob/main/01_%EB%A7%88%ED%81%AC%EB%8B%A4%EC%9A%B4.ipynb\" target=\"_parent\"><img src=\"https://colab.research.google.com/assets/colab-badge.svg\" alt=\"Open In Colab\"/></a>"
      ]
    },
    {
      "cell_type": "markdown",
      "source": [
        "# 마크다운"
      ],
      "metadata": {
        "id": "lF1kA95e4bQN"
      }
    },
    {
      "cell_type": "markdown",
      "metadata": {
        "id": "b4LaynRQ9z-A"
      },
      "source": [
        "# 제목 1단계\n",
        "## 제목 2단계\n",
        "### 제목 3단계\n",
        "#### 제목 4단계\n",
        "##### 제목 5단계"
      ]
    },
    {
      "cell_type": "markdown",
      "metadata": {
        "id": "u1H_2SBM3zSv"
      },
      "source": [
        "## 글머리 기호(1)\n",
        "\n",
        "\n",
        "1.   생물\n",
        "    1. 동물\n",
        "        - 양서류\n",
        "        - 파충류\n",
        "    2. 식물\n",
        "2.   무생물\n",
        "\n",
        "\n"
      ]
    },
    {
      "cell_type": "markdown",
      "metadata": {
        "id": "XRYeCssY5Fsb"
      },
      "source": [
        "## 글머리 기호(2)\n",
        "\n",
        "\n",
        "-   생물\n",
        "    - 동물\n",
        "        - 양서류\n",
        "        - 파충류\n",
        "    - 식물\n",
        "-   무생물"
      ]
    },
    {
      "cell_type": "markdown",
      "metadata": {
        "id": "KC__F30rtWcz"
      },
      "source": [
        "# 문서 작업 실습\n"
      ]
    },
    {
      "cell_type": "markdown",
      "metadata": {
        "id": "ABksV9LF_BX8"
      },
      "source": [
        "## 내용작성\n",
        "학교종이 땡땡땡<br>\n",
        "\n",
        "\n",
        "어서모이자.\n",
        "\n",
        "선생님이 우리를 <br>  기다리신다.\n",
        "\n",
        "```  \n",
        "학교종이 땡땡땡\n",
        "어서모이자.\n",
        "\n",
        "선생님이 우리를\n",
        "기다리신다.\n",
        "```\n",
        "\n",
        "\n",
        "\n",
        "\n",
        "\n"
      ]
    },
    {
      "cell_type": "markdown",
      "metadata": {
        "id": "8LD1EWrJ_VCP"
      },
      "source": [
        "## 내용작성 - 강조\n",
        "**학교종**이 **땡땡땡**\n",
        "어서모이자.\n",
        "\n",
        "**선생님**이 *우리를*\n",
        "기다리신다."
      ]
    },
    {
      "cell_type": "markdown",
      "metadata": {
        "id": "MkboOJEX-CNl"
      },
      "source": [
        "#[실행 단축키]\n",
        "- Ctrl + Enter : 선택된 셀을 실행\n",
        "- Shift + Enter : 선택된 셀을 실행 후 다음 셀로 포커스 이동  \n",
        "- Alt + Enter: 실행 후 다음 셀을 만든후 이동 \n",
        "- 선택모드에서 화살표 방향키 : 셀 포커스를 위 아래로 이동"
      ]
    },
    {
      "cell_type": "code",
      "metadata": {
        "colab": {
          "base_uri": "https://localhost:8080/"
        },
        "id": "WpR6B1fpwoEJ",
        "outputId": "8555b6b9-fa9d-4a27-86ae-5d5f06749df9"
      },
      "source": [
        "print('안녕하세요')"
      ],
      "execution_count": null,
      "outputs": [
        {
          "output_type": "stream",
          "name": "stdout",
          "text": [
            "안녕하세요\n"
          ]
        }
      ]
    },
    {
      "cell_type": "code",
      "metadata": {
        "colab": {
          "base_uri": "https://localhost:8080/"
        },
        "id": "cvnH0tdCxuRM",
        "outputId": "de942b18-127a-40b9-fd60-3bf1434c898e"
      },
      "source": [
        "print('동계 계절학기 문제해결을위한파이썬')"
      ],
      "execution_count": 1,
      "outputs": [
        {
          "output_type": "stream",
          "name": "stdout",
          "text": [
            "동계 계절학기 문제해결을위한파이썬\n"
          ]
        }
      ]
    },
    {
      "cell_type": "markdown",
      "metadata": {
        "id": "RP6NlXeH8XFl"
      },
      "source": [
        "# [모드 변환 키]\n",
        "- Ctrl + M M :  마크다운으로 전환  \n",
        "- Ctrl + M Y :  코드로 전환 \n"
      ]
    }
  ]
}